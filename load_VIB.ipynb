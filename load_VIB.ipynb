{
 "cells": [
  {
   "cell_type": "code",
   "execution_count": 6,
   "metadata": {
    "pycharm": {
     "name": "#%%\n"
    }
   },
   "outputs": [
    {
     "name": "stdout",
     "output_type": "stream",
     "text": [
      "Populating the interactive namespace from numpy and matplotlib\n"
     ]
    }
   ],
   "source": [
    "%pylab inline\n",
    "\n",
    "from jade.run_manager.wandb import WANDBRunManager"
   ]
  },
  {
   "cell_type": "code",
   "execution_count": 12,
   "metadata": {
    "scrolled": true
   },
   "outputs": [
    {
     "name": "stdout",
     "output_type": "stream",
     "text": [
      "Run mfederici/jade_test/1q04if0j has been found\n",
      "Downloading the code for architectures/MNIST.py\n",
      "Downloading the code for data/MNIST.py\n",
      "Downloading the code for eval/accuracy.py\n",
      "Downloading the code for eval/elbo.py\n",
      "Downloading the code for eval/image_eval.py\n",
      "Downloading the code for models/VAE.py\n",
      "Downloading the code for models/VIB.py\n"
     ]
    },
    {
     "name": "stderr",
     "output_type": "stream",
     "text": [
      "Failed to detect the name of this notebook, you can set it manually with the WANDB_NOTEBOOK_NAME environment variable to enable code saving.\n"
     ]
    },
    {
     "name": "stdout",
     "output_type": "stream",
     "text": [
      "Downloading the code for utils/nn.py\n"
     ]
    },
    {
     "name": "stderr",
     "output_type": "stream",
     "text": [
      "\u001b[34m\u001b[1mwandb\u001b[0m: Currently logged in as: \u001b[33mmfederici\u001b[0m (use `wandb login --relogin` to force relogin)\n"
     ]
    },
    {
     "data": {
      "text/html": [
       "\n",
       "                Tracking run with wandb version 0.10.32<br/>\n",
       "                Resuming run <strong style=\"color:#cdcd00\">crimson-sound-1153</strong> to <a href=\"https://wandb.ai\" target=\"_blank\">Weights & Biases</a> <a href=\"https://docs.wandb.com/integrations/jupyter.html\" target=\"_blank\">(Documentation)</a>.<br/>\n",
       "                Project page: <a href=\"https://wandb.ai/mfederici/jade_test\" target=\"_blank\">https://wandb.ai/mfederici/jade_test</a><br/>\n",
       "                Run page: <a href=\"https://wandb.ai/mfederici/jade_test/runs/1q04if0j\" target=\"_blank\">https://wandb.ai/mfederici/jade_test/runs/1q04if0j</a><br/>\n",
       "                Run data is saved locally in <code>/tmp/wandb/run-20210628_143847-1q04if0j</code><br/><br/>\n",
       "            "
      ],
      "text/plain": [
       "<IPython.core.display.HTML object>"
      ]
     },
     "metadata": {},
     "output_type": "display_data"
    },
    {
     "name": "stdout",
     "output_type": "stream",
     "text": [
      "{\n",
      "    \"data\": {\n",
      "        \"test\": {\n",
      "            \"class\": \"MNISTWrapper\",\n",
      "            \"params\": {\n",
      "                \"download\": true,\n",
      "                \"root\": \"/data\",\n",
      "                \"split\": \"valid\"\n",
      "            }\n",
      "        },\n",
      "        \"train\": {\n",
      "            \"class\": \"MNISTWrapper\",\n",
      "            \"params\": {\n",
      "                \"download\": true,\n",
      "                \"root\": \"/data\",\n",
      "                \"split\": \"train\"\n",
      "            }\n",
      "        }\n",
      "    },\n",
      "    \"eval\": {\n",
      "        \"ELBO/Test\": {\n",
      "            \"class\": \"ELBOEvaluation\",\n",
      "            \"params\": {\n",
      "                \"evaluate_on\": \"test\"\n",
      "            }\n",
      "        },\n",
      "        \"ELBO/Train\": {\n",
      "            \"class\": \"ELBOEvaluation\",\n",
      "            \"params\": {\n",
      "                \"evaluate_on\": \"train\"\n",
      "            }\n",
      "        },\n",
      "        \"ImageReconstructions/Test\": {\n",
      "            \"class\": \"ReconstructionEvaluation\",\n",
      "            \"params\": {\n",
      "                \"evaluate_every\": 2,\n",
      "                \"evaluate_on\": \"test\",\n",
      "                \"n_pictures\": 10,\n",
      "                \"sample_images\": false\n",
      "            }\n",
      "        },\n",
      "        \"ImageReconstructions/Train\": {\n",
      "            \"class\": \"ReconstructionEvaluation\",\n",
      "            \"params\": {\n",
      "                \"evaluate_every\": 2,\n",
      "                \"evaluate_on\": \"train\",\n",
      "                \"n_pictures\": 10,\n",
      "                \"sample_images\": false\n",
      "            }\n",
      "        }\n",
      "    },\n",
      "    \"model\": {\n",
      "        \"class\": \"VariationalAutoencoder\",\n",
      "        \"params\": {\n",
      "            \"beta\": 0.5,\n",
      "            \"decoder_layers\": [\n",
      "                256,\n",
      "                1024\n",
      "            ],\n",
      "            \"encoder_layers\": [\n",
      "                1024,\n",
      "                256\n",
      "            ],\n",
      "            \"z_dim\": 64\n",
      "        }\n",
      "    },\n",
      "    \"trainer\": {\n",
      "        \"class\": \"BatchTrainer\",\n",
      "        \"params\": {\n",
      "            \"batch_size\": 256,\n",
      "            \"num_workers\": 6,\n",
      "            \"optimizers\": {\n",
      "                \"default\": {\n",
      "                    \"class\": \"Adam\",\n",
      "                    \"params\": {\n",
      "                        \"lr\": 0.0001\n",
      "                    }\n",
      "                }\n",
      "            },\n",
      "            \"train_on\": \"train\"\n",
      "        }\n",
      "    }\n",
      "}\n",
      "Run Directory: /tmp/wandb/run-20210628_143847-1q04if0j/files\n",
      "/tmp/1q04if0j/code/models VAE.py\n",
      "/tmp/1q04if0j/code/models VIB.py\n",
      "/tmp/1q04if0j/code/data MNIST.py\n",
      "/tmp/1q04if0j/code/eval accuracy.py\n",
      "/tmp/1q04if0j/code/eval elbo.py\n",
      "/tmp/1q04if0j/code/eval image_eval.py\n",
      "/tmp/1q04if0j/code/architectures MNIST.py\n"
     ]
    }
   ],
   "source": [
    "import os\n",
    "\n",
    "os.environ['WANDB_PROJECT']='jade_test'\n",
    "\n",
    "run_manager = WANDBRunManager(run_id='1q04if0j', experiments_root='/tmp', verbose=True)"
   ]
  },
  {
   "cell_type": "code",
   "execution_count": 13,
   "metadata": {},
   "outputs": [
    {
     "name": "stdout",
     "output_type": "stream",
     "text": [
      "Instantiating class VariationalAutoencoder from /tmp/1q04if0j/code/models/VAE.py\n",
      "Dowloading the last checkpoint: last_checkpoint.pt\n",
      "Resuming Training\n",
      "Resuming Training from iteration 1960\n"
     ]
    }
   ],
   "source": [
    "model = run_manager.instantiate_model(resume=True)"
   ]
  },
  {
   "cell_type": "code",
   "execution_count": 14,
   "metadata": {},
   "outputs": [
    {
     "data": {
      "text/plain": [
       "VariationalAutoencoder(\n",
       "  (encoder): Encoder(\n",
       "    (net): Sequential(\n",
       "      (0): Flatten()\n",
       "      (1): Linear(in_features=784, out_features=1024, bias=True)\n",
       "      (2): ReLU(inplace=True)\n",
       "      (3): Linear(in_features=1024, out_features=256, bias=True)\n",
       "      (4): ReLU(inplace=True)\n",
       "      (5): StochasticLinear(in_features=256, out_features=128, bias=True)\n",
       "    )\n",
       "  )\n",
       "  (decoder): Decoder(\n",
       "    (net): Sequential(\n",
       "      (0): Linear(in_features=64, out_features=256, bias=True)\n",
       "      (1): ReLU(inplace=True)\n",
       "      (2): Linear(in_features=256, out_features=1024, bias=True)\n",
       "      (3): ReLU(inplace=True)\n",
       "      (4): Linear(in_features=1024, out_features=784, bias=True)\n",
       "      (5): Reshape()\n",
       "    )\n",
       "  )\n",
       "  (prior): Prior()\n",
       ")"
      ]
     },
     "execution_count": 14,
     "metadata": {},
     "output_type": "execute_result"
    }
   ],
   "source": [
    "model"
   ]
  },
  {
   "cell_type": "code",
   "execution_count": 15,
   "metadata": {},
   "outputs": [],
   "source": [
    "datasets = run_manager.instantiate_datasets()"
   ]
  },
  {
   "cell_type": "code",
   "execution_count": 16,
   "metadata": {},
   "outputs": [
    {
     "name": "stdout",
     "output_type": "stream",
     "text": [
      "Instantiating class MNISTWrapper from /tmp/1q04if0j/code/data/MNIST.py\n"
     ]
    }
   ],
   "source": [
    "train_set = datasets['train']"
   ]
  },
  {
   "cell_type": "code",
   "execution_count": 17,
   "metadata": {},
   "outputs": [
    {
     "data": {
      "text/plain": [
       "<matplotlib.image.AxesImage at 0x7fa74000ce50>"
      ]
     },
     "execution_count": 17,
     "metadata": {},
     "output_type": "execute_result"
    },
    {
     "data": {
      "image/png": "[encoded data removed]",
      "text/plain": [
       "<Figure size 432x288 with 1 Axes>"
      ]
     },
     "metadata": {
      "needs_background": "light"
     },
     "output_type": "display_data"
    }
   ],
   "source": [
    "train_set[0]\n",
    "\n",
    "plt.imshow(model.reconstruct(train_set[1]['x'])[0,0].data.numpy())"
   ]
  },
  {
   "cell_type": "code",
   "execution_count": 18,
   "metadata": {},
   "outputs": [
    {
     "name": "stdout",
     "output_type": "stream",
     "text": [
      "{'decoder', 'encoder'}\n"
     ]
    }
   ],
   "source": [
    "import torch.nn as nn\n",
    "\n",
    "attributes_to_store = set()\n",
    "\n",
    "for component_name in dir(model):\n",
    "    component = getattr(model, component_name)\n",
    "    if isinstance(component, nn.Module):\n",
    "        store = False\n",
    "        for name, parameter_group in component.named_parameters():\n",
    "            store = store or parameter_group.requires_grad\n",
    "        if store:\n",
    "            attributes_to_store.add(component_name)\n",
    "\n",
    "print(attributes_to_store)"
   ]
  },
  {
   "cell_type": "code",
   "execution_count": 33,
   "metadata": {},
   "outputs": [],
   "source": [
    "import torchvision.datasets as ds\n",
    "\n",
    "class CelebA(ds.CelebA):\n",
    "     def _check_integrity(self):\n",
    "            return True\n",
    "\n",
    "\n"
   ]
  },
  {
   "cell_type": "code",
   "execution_count": 56,
   "metadata": {},
   "outputs": [
    {
     "name": "stdout",
     "output_type": "stream",
     "text": [
      "Files already downloaded and verified\n"
     ]
    }
   ],
   "source": [
    "from torchvision.transforms import ToTensor, Compose, CenterCrop\n",
    "from torchvision.datasets import CelebA\n",
    "\n",
    "dataset = CelebA(root='/data', download=True, transform=Compose([CenterCrop(218),ToTensor()]), target_type='landmarks')"
   ]
  },
  {
   "cell_type": "code",
   "execution_count": 63,
   "metadata": {},
   "outputs": [
    {
     "data": {
      "text/plain": [
       "[<matplotlib.lines.Line2D at 0x7fa6f9908ac0>]"
      ]
     },
     "execution_count": 63,
     "metadata": {},
     "output_type": "execute_result"
    },
    {
     "data": {
      "image/png": "[encoded data removed]",
      "text/plain": [
       "<Figure size 432x288 with 1 Axes>"
      ]
     },
     "metadata": {
      "needs_background": "light"
     },
     "output_type": "display_data"
    }
   ],
   "source": [
    "idx = 2\n",
    "\n",
    "x, y = dataset[idx]\n",
    "\n",
    "plt.imshow(x.permute(1,2,0))\n",
    "x.shape\n",
    "\n",
    "plt.plot(y.reshape(-1,2)[:,0]+(218-178)/2, y.reshape(-1,2)[:,1], 'o')\n"
   ]
  },
  {
   "cell_type": "code",
   "execution_count": 50,
   "metadata": {},
   "outputs": [
    {
     "data": {
      "text/plain": [
       "tensor([ 69, 109, 106, 113,  77, 142,  73, 152, 108, 154])"
      ]
     },
     "execution_count": 50,
     "metadata": {},
     "output_type": "execute_result"
    }
   ],
   "source": [
    "dataset[0][1]"
   ]
  },
  {
   "cell_type": "code",
   "execution_count": null,
   "metadata": {},
   "outputs": [],
   "source": []
  }
 ],
 "metadata": {
  "kernelspec": {
   "display_name": "Python 3",
   "language": "python",
   "name": "python3"
  },
  "language_info": {
   "codemirror_mode": {
    "name": "ipython",
    "version": 3
   },
   "file_extension": ".py",
   "mimetype": "text/x-python",
   "name": "python",
   "nbconvert_exporter": "python",
   "pygments_lexer": "ipython3",
   "version": "3.8.1"
  },
  "pycharm": {
   "stem_cell": {
    "cell_type": "raw",
    "metadata": {
     "collapsed": false
    },
    "source": [
     "%pylab inline\n",
     "from jade.run_managerwandb import WANDBRunManager"
    ]
   }
  }
 },
 "nbformat": 4,
 "nbformat_minor": 1
}
