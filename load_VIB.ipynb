{
 "cells": [
  {
   "cell_type": "code",
   "execution_count": 40,
   "metadata": {
    "pycharm": {
     "name": "#%%\n"
    }
   },
   "outputs": [
    {
     "name": "stdout",
     "output_type": "stream",
     "text": [
      "Populating the interactive namespace from numpy and matplotlib\n"
     ]
    }
   ],
   "source": [
    "%pylab inline\n",
    "\n",
    "from jade.run_manager.wandb import WANDBRunManager"
   ]
  },
  {
   "cell_type": "code",
   "execution_count": 41,
   "metadata": {
    "scrolled": true
   },
   "outputs": [
    {
     "name": "stdout",
     "output_type": "stream",
     "text": [
      "Warning: the specified configuration will be overrided by the one of the specified run_id\n",
      "Run mfederici/jade_test/1979j4qb has been found\n"
     ]
    },
    {
     "data": {
      "text/html": [
       "Finishing last run (ID:1979j4qb) before initializing another..."
      ],
      "text/plain": [
       "<IPython.core.display.HTML object>"
      ]
     },
     "metadata": {},
     "output_type": "display_data"
    },
    {
     "data": {
      "text/html": [
       "<br/>Waiting for W&B process to finish, PID 30899<br/>Program ended successfully."
      ],
      "text/plain": [
       "<IPython.core.display.HTML object>"
      ]
     },
     "metadata": {},
     "output_type": "display_data"
    },
    {
     "data": {
      "text/html": [
       "Find user logs for this run at: <code>/tmp/wandb/run-20210624_180556-1979j4qb/logs/debug.log</code>"
      ],
      "text/plain": [
       "<IPython.core.display.HTML object>"
      ]
     },
     "metadata": {},
     "output_type": "display_data"
    },
    {
     "data": {
      "text/html": [
       "Find internal logs for this run at: <code>/tmp/wandb/run-20210624_180556-1979j4qb/logs/debug-internal.log</code>"
      ],
      "text/plain": [
       "<IPython.core.display.HTML object>"
      ]
     },
     "metadata": {},
     "output_type": "display_data"
    },
    {
     "data": {
      "text/html": [
       "<h3>Run summary:</h3><br/><style>\n",
       "    table.wandb td:nth-child(1) { padding: 0 10px; text-align: right }\n",
       "    </style><table class=\"wandb\">\n",
       "<tr><td>ELBO/Train</td><td>-744.67273</td></tr><tr><td>TrainLog/ReconstructionLoss</td><td>740.45627</td></tr><tr><td>_step</td><td>784</td></tr><tr><td>_runtime</td><td>33</td></tr><tr><td>TrainLog/Loss</td><td>742.87947</td></tr><tr><td>TrainLog/RegularizationLoss</td><td>4.84641</td></tr><tr><td>ELBO/Test</td><td>-744.83484</td></tr><tr><td>_timestamp</td><td>1624550757</td></tr></table>"
      ],
      "text/plain": [
       "<IPython.core.display.HTML object>"
      ]
     },
     "metadata": {},
     "output_type": "display_data"
    },
    {
     "data": {
      "text/html": [
       "Synced 6 W&B file(s), 0 media file(s), 0 artifact file(s) and 16 other file(s)"
      ],
      "text/plain": [
       "<IPython.core.display.HTML object>"
      ]
     },
     "metadata": {},
     "output_type": "display_data"
    },
    {
     "data": {
      "text/html": [
       "\n",
       "                    <br/>Synced <strong style=\"color:#cdcd00\">rosy-voice-1151</strong>: <a href=\"https://wandb.ai/mfederici/jade_test/runs/1979j4qb\" target=\"_blank\">https://wandb.ai/mfederici/jade_test/runs/1979j4qb</a><br/>\n",
       "                "
      ],
      "text/plain": [
       "<IPython.core.display.HTML object>"
      ]
     },
     "metadata": {},
     "output_type": "display_data"
    },
    {
     "data": {
      "text/html": [
       "...Successfully finished last run (ID:1979j4qb). Initializing new run:<br/><br/>"
      ],
      "text/plain": [
       "<IPython.core.display.HTML object>"
      ]
     },
     "metadata": {},
     "output_type": "display_data"
    },
    {
     "data": {
      "text/html": [
       "\n",
       "                Tracking run with wandb version 0.10.32<br/>\n",
       "                Resuming run <strong style=\"color:#cdcd00\">rosy-voice-1151</strong> to <a href=\"https://wandb.ai\" target=\"_blank\">Weights & Biases</a> <a href=\"https://docs.wandb.com/integrations/jupyter.html\" target=\"_blank\">(Documentation)</a>.<br/>\n",
       "                Project page: <a href=\"https://wandb.ai/mfederici/jade_test\" target=\"_blank\">https://wandb.ai/mfederici/jade_test</a><br/>\n",
       "                Run page: <a href=\"https://wandb.ai/mfederici/jade_test/runs/1979j4qb\" target=\"_blank\">https://wandb.ai/mfederici/jade_test/runs/1979j4qb</a><br/>\n",
       "                Run data is saved locally in <code>/tmp/wandb/run-20210624_180852-1979j4qb</code><br/><br/>\n",
       "            "
      ],
      "text/plain": [
       "<IPython.core.display.HTML object>"
      ]
     },
     "metadata": {},
     "output_type": "display_data"
    },
    {
     "name": "stdout",
     "output_type": "stream",
     "text": [
      "Downloading the code for architectures/MNIST.py\n",
      "Downloading the code for code/architectures/MNIST.py\n",
      "Downloading the code for code/data/MNIST.py\n",
      "Downloading the code for code/eval/accuracy.py\n",
      "Downloading the code for code/eval/elbo.py\n",
      "Downloading the code for code/eval/image_eval.py\n",
      "Downloading the code for code/models/VAE.py\n",
      "Downloading the code for code/models/VIB.py\n",
      "Downloading the code for code/utils/nn.py\n",
      "Downloading the code for data/MNIST.py\n",
      "Downloading the code for eval/accuracy.py\n",
      "Downloading the code for eval/elbo.py\n",
      "Downloading the code for eval/image_eval.py\n",
      "Downloading the code for models/VAE.py\n",
      "Downloading the code for models/VIB.py\n",
      "Downloading the code for utils/nn.py\n",
      "{'model': {'class': 'VariationalAutoencoder', 'params': {'beta': 0.5, 'decoder_layers': [256, 1024], 'encoder_layers': [1024, 256], 'z_dim': 64}}, 'trainer': {'class': 'BatchTrainer', 'params': {'batch_size': 256, 'num_workers': 6, 'optimizers': {'default': {'class': 'Adam', 'params': {'lr': 0.0001}}}, 'train_on': 'train'}}, 'data': {'test': {'class': 'MNISTWrapper', 'params': {'download': True, 'root': '/data', 'split': 'valid'}}, 'train': {'class': 'MNISTWrapper', 'params': {'download': True, 'root': '/data', 'split': 'train'}}}, 'eval': {'ELBO/Test': {'class': 'ELBOEvaluation', 'params': {'evaluate_on': 'test'}}, 'ELBO/Train': {'class': 'ELBOEvaluation', 'params': {'evaluate_on': 'train'}}, 'ImageReconstructions/Test': {'class': 'ReconstructionEvaluation', 'params': {'evaluate_every': 2, 'evaluate_on': 'test', 'n_pictures': 10, 'sample_images': False}}, 'ImageReconstructions/Train': {'class': 'ReconstructionEvaluation', 'params': {'evaluate_every': 2, 'evaluate_on': 'train', 'n_pictures': 10, 'sample_images': False}}}}\n",
      "Run Directory: /tmp/wandb/run-20210624_180852-1979j4qb/files\n",
      "/tmp/wandb/run-20210624_180852-1979j4qb/files/code/models VAE.py\n",
      "/tmp/wandb/run-20210624_180852-1979j4qb/files/code/models VIB.py\n",
      "/tmp/wandb/run-20210624_180852-1979j4qb/files/code/data MNIST.py\n",
      "/tmp/wandb/run-20210624_180852-1979j4qb/files/code/eval accuracy.py\n",
      "/tmp/wandb/run-20210624_180852-1979j4qb/files/code/eval elbo.py\n",
      "/tmp/wandb/run-20210624_180852-1979j4qb/files/code/eval image_eval.py\n",
      "/tmp/wandb/run-20210624_180852-1979j4qb/files/code/architectures MNIST.py\n"
     ]
    }
   ],
   "source": [
    "run_manager = WANDBRunManager(run_id='1979j4qb', experiments_root='/tmp', verbose=True)"
   ]
  },
  {
   "cell_type": "code",
   "execution_count": 35,
   "metadata": {},
   "outputs": [
    {
     "name": "stdout",
     "output_type": "stream",
     "text": [
      "Instantiating class VariationalAutoencoder from /tmp/wandb/run-20210624_180556-1979j4qb/files/code/models/VAE.py\n",
      "Dowloading the last checkpoint: last_checkpoint.pt\n",
      "Resuming Training\n",
      "Resuming Training from iteration 1960\n"
     ]
    }
   ],
   "source": [
    "model = run_manager.instantiate_model(resume=True)"
   ]
  },
  {
   "cell_type": "code",
   "execution_count": 36,
   "metadata": {},
   "outputs": [
    {
     "data": {
      "text/plain": [
       "VariationalAutoencoder(\n",
       "  (encoder): Encoder(\n",
       "    (net): Sequential(\n",
       "      (0): Flatten()\n",
       "      (1): Linear(in_features=784, out_features=1024, bias=True)\n",
       "      (2): ReLU(inplace=True)\n",
       "      (3): Linear(in_features=1024, out_features=256, bias=True)\n",
       "      (4): ReLU(inplace=True)\n",
       "      (5): StochasticLinear(in_features=256, out_features=128, bias=True)\n",
       "    )\n",
       "  )\n",
       "  (decoder): Decoder(\n",
       "    (net): Sequential(\n",
       "      (0): Linear(in_features=64, out_features=256, bias=True)\n",
       "      (1): ReLU(inplace=True)\n",
       "      (2): Linear(in_features=256, out_features=1024, bias=True)\n",
       "      (3): ReLU(inplace=True)\n",
       "      (4): Linear(in_features=1024, out_features=784, bias=True)\n",
       "      (5): Reshape()\n",
       "    )\n",
       "  )\n",
       "  (prior): Prior()\n",
       ")"
      ]
     },
     "execution_count": 36,
     "metadata": {},
     "output_type": "execute_result"
    }
   ],
   "source": [
    "model"
   ]
  },
  {
   "cell_type": "code",
   "execution_count": 37,
   "metadata": {},
   "outputs": [],
   "source": [
    "datasets = run_manager.instantiate_datasets()"
   ]
  },
  {
   "cell_type": "code",
   "execution_count": 38,
   "metadata": {},
   "outputs": [
    {
     "name": "stdout",
     "output_type": "stream",
     "text": [
      "Instantiating class MNISTWrapper from /tmp/wandb/run-20210624_180556-1979j4qb/files/code/data/MNIST.py\n"
     ]
    }
   ],
   "source": [
    "train_set = datasets['train']"
   ]
  },
  {
   "cell_type": "code",
   "execution_count": 39,
   "metadata": {},
   "outputs": [
    {
     "data": {
      "text/plain": [
       "<matplotlib.image.AxesImage at 0x7f20a58a4130>"
      ]
     },
     "execution_count": 39,
     "metadata": {},
     "output_type": "execute_result"
    },
    {
     "data": {
      "image/png": "[encoded data removed]",
      "text/plain": [
       "<Figure size 432x288 with 1 Axes>"
      ]
     },
     "metadata": {
      "needs_background": "light"
     },
     "output_type": "display_data"
    }
   ],
   "source": [
    "train_set[0]\n",
    "\n",
    "plt.imshow(model.reconstruct(train_set[1]['x'])[0,0].data.numpy())"
   ]
  },
  {
   "cell_type": "code",
   "execution_count": 31,
   "metadata": {},
   "outputs": [
    {
     "name": "stdout",
     "output_type": "stream",
     "text": [
      "{'label_classifier', 'encoder'}\n"
     ]
    }
   ],
   "source": [
    "import torch.nn as nn\n",
    "\n",
    "attributes_to_store = set()\n",
    "\n",
    "for component_name in dir(model):\n",
    "    component = getattr(model, component_name)\n",
    "    if isinstance(component, nn.Module):\n",
    "        store = False\n",
    "        for name, parameter_group in component.named_parameters():\n",
    "            store = store or parameter_group.requires_grad\n",
    "        if store:\n",
    "            attributes_to_store.add(component_name)\n",
    "\n",
    "print(attributes_to_store)"
   ]
  },
  {
   "cell_type": "code",
   "execution_count": null,
   "metadata": {},
   "outputs": [],
   "source": []
  }
 ],
 "metadata": {
  "kernelspec": {
   "display_name": "Python 3",
   "language": "python",
   "name": "python3"
  },
  "language_info": {
   "codemirror_mode": {
    "name": "ipython",
    "version": 3
   },
   "file_extension": ".py",
   "mimetype": "text/x-python",
   "name": "python",
   "nbconvert_exporter": "python",
   "pygments_lexer": "ipython3",
   "version": "3.8.1"
  },
  "pycharm": {
   "stem_cell": {
    "cell_type": "raw",
    "metadata": {
     "collapsed": false
    },
    "source": [
     "%pylab inline\n",
     "from jade.run_managerwandb import WANDBRunManager"
    ]
   }
  }
 },
 "nbformat": 4,
 "nbformat_minor": 1
}
