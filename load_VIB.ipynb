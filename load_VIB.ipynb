{
 "cells": [
  {
   "cell_type": "code",
   "execution_count": 1,
   "metadata": {
    "pycharm": {
     "name": "#%%\n"
    }
   },
   "outputs": [
    {
     "name": "stdout",
     "output_type": "stream",
     "text": [
      "Populating the interactive namespace from numpy and matplotlib\n"
     ]
    }
   ],
   "source": [
    "%pylab inline\n",
    "\n",
    "from jade.run_manager.wandb import WANDBRunManager"
   ]
  },
  {
   "cell_type": "code",
   "execution_count": 2,
   "metadata": {},
   "outputs": [
    {
     "name": "stdout",
     "output_type": "stream",
     "text": [
      "Warning: the specified configuration will be overrided by the one of the specified run_id\n",
      "Run mfederici/jade_test/1g0o2ad7 has been found\n"
     ]
    },
    {
     "name": "stderr",
     "output_type": "stream",
     "text": [
      "Failed to query for notebook name, you can set it manually with the WANDB_NOTEBOOK_NAME environment variable\n",
      "\u001b[34m\u001b[1mwandb\u001b[0m: Currently logged in as: \u001b[33mmfederici\u001b[0m (use `wandb login --relogin` to force relogin)\n",
      "\u001b[34m\u001b[1mwandb\u001b[0m: wandb version 0.10.32 is available!  To upgrade, please run:\n",
      "\u001b[34m\u001b[1mwandb\u001b[0m:  $ pip install wandb --upgrade\n"
     ]
    },
    {
     "data": {
      "text/html": [
       "\n",
       "                Tracking run with wandb version 0.10.8<br/>\n",
       "                Resuming run <strong style=\"color:#cdcd00\">jumping-blaze-1051</strong> to <a href=\"https://wandb.ai\" target=\"_blank\">Weights & Biases</a> <a href=\"https://docs.wandb.com/integrations/jupyter.html\" target=\"_blank\">(Documentation)</a>.<br/>\n",
       "                Project page: <a href=\"https://wandb.ai/mfederici/jade_test\" target=\"_blank\">https://wandb.ai/mfederici/jade_test</a><br/>\n",
       "                Run page: <a href=\"https://wandb.ai/mfederici/jade_test/runs/1g0o2ad7\" target=\"_blank\">https://wandb.ai/mfederici/jade_test/runs/1g0o2ad7</a><br/>\n",
       "                Run data is saved locally in <code>./wandb/run-20210621_181221-1g0o2ad7</code><br/><br/>\n",
       "            "
      ],
      "text/plain": [
       "<IPython.core.display.HTML object>"
      ]
     },
     "metadata": {},
     "output_type": "display_data"
    },
    {
     "name": "stdout",
     "output_type": "stream",
     "text": [
      "Run Directory: ./wandb/run-20210621_181221-1g0o2ad7/files\n",
      "##############\n",
      "./1g0o2ad7/code/models VAE.py\n",
      "./1g0o2ad7/code/models VIB.py\n",
      "./1g0o2ad7/code/data MNIST.py\n",
      "./1g0o2ad7/code/eval accuracy.py\n",
      "./1g0o2ad7/code/eval base.py\n",
      "./1g0o2ad7/code/eval elbo.py\n",
      "./1g0o2ad7/code/eval image_eval.py\n",
      "./1g0o2ad7/code/architectures MNIST.py\n"
     ]
    }
   ],
   "source": [
    "run_manager = WANDBRunManager(run_id='1g0o2ad7', verbose=True)"
   ]
  },
  {
   "cell_type": "code",
   "execution_count": 6,
   "metadata": {},
   "outputs": [
    {
     "name": "stdout",
     "output_type": "stream",
     "text": [
      "Instantiating class VariationalInformationBottleneck from ./1g0o2ad7/code/models/VIB.py\n",
      "Instantiating class MNISTWrapper from ./1g0o2ad7/code/data/MNIST.py\n",
      "Dowloading the last checkpoint\n",
      "Resuming Training\n",
      "Resuming Training from iteration 1960\n",
      "Instantiating class MNISTWrapper from ./1g0o2ad7/code/data/MNIST.py\n"
     ]
    }
   ],
   "source": [
    "model, evaluators = run_manager.make_instances()"
   ]
  },
  {
   "cell_type": "code",
   "execution_count": 7,
   "metadata": {},
   "outputs": [
    {
     "data": {
      "text/plain": [
       "VariationalInformationBottleneck(\n",
       "  (encoder): Encoder(\n",
       "    (net): Sequential(\n",
       "      (0): Flatten()\n",
       "      (1): Linear(in_features=784, out_features=1024, bias=True)\n",
       "      (2): ReLU(inplace=True)\n",
       "      (3): Linear(in_features=1024, out_features=256, bias=True)\n",
       "      (4): ReLU(inplace=True)\n",
       "      (5): StochasticLinear(in_features=256, out_features=128, bias=True)\n",
       "    )\n",
       "  )\n",
       "  (label_classifier): LabelClassifier(\n",
       "    (net): Sequential(\n",
       "      (0): Linear(in_features=64, out_features=64, bias=True)\n",
       "      (1): ReLU(inplace=True)\n",
       "      (2): Linear(in_features=64, out_features=32, bias=True)\n",
       "      (3): ReLU(inplace=True)\n",
       "      (4): StochasticLinear(in_features=32, out_features=10, bias=True)\n",
       "    )\n",
       "  )\n",
       "  (prior): Prior()\n",
       ")"
      ]
     },
     "execution_count": 7,
     "metadata": {},
     "output_type": "execute_result"
    }
   ],
   "source": [
    "model"
   ]
  },
  {
   "cell_type": "code",
   "execution_count": 15,
   "metadata": {},
   "outputs": [
    {
     "name": "stdout",
     "output_type": "stream",
     "text": [
      "encoder.net.1.weight True\n",
      "encoder.net.1.bias True\n",
      "encoder.net.3.weight True\n",
      "encoder.net.3.bias True\n",
      "encoder.net.5.weight True\n",
      "encoder.net.5.bias True\n",
      "label_classifier.net.0.weight True\n",
      "label_classifier.net.0.bias True\n",
      "label_classifier.net.2.weight True\n",
      "label_classifier.net.2.bias True\n",
      "label_classifier.net.4.weight True\n",
      "label_classifier.net.4.bias True\n",
      "prior.mu False\n",
      "prior.sigma False\n"
     ]
    }
   ],
   "source": [
    "for name, param in model.named_parameters():\n",
    "    print(name, param.requires_grad)"
   ]
  },
  {
   "cell_type": "code",
   "execution_count": 31,
   "metadata": {},
   "outputs": [
    {
     "name": "stdout",
     "output_type": "stream",
     "text": [
      "{'label_classifier', 'encoder'}\n"
     ]
    }
   ],
   "source": [
    "import torch.nn as nn\n",
    "\n",
    "attributes_to_store = set()\n",
    "\n",
    "for component_name in dir(model):\n",
    "    component = getattr(model, component_name)\n",
    "    if isinstance(component, nn.Module):\n",
    "        store = False\n",
    "        for name, parameter_group in component.named_parameters():\n",
    "            store = store or parameter_group.requires_grad\n",
    "        if store:\n",
    "            attributes_to_store.add(component_name)\n",
    "\n",
    "print(attributes_to_store)"
   ]
  },
  {
   "cell_type": "code",
   "execution_count": null,
   "metadata": {},
   "outputs": [],
   "source": []
  }
 ],
 "metadata": {
  "kernelspec": {
   "display_name": "Python 3",
   "language": "python",
   "name": "python3"
  },
  "language_info": {
   "codemirror_mode": {
    "name": "ipython",
    "version": 3
   },
   "file_extension": ".py",
   "mimetype": "text/x-python",
   "name": "python",
   "nbconvert_exporter": "python",
   "pygments_lexer": "ipython3",
   "version": "3.8.1"
  },
  "pycharm": {
   "stem_cell": {
    "cell_type": "raw",
    "metadata": {
     "collapsed": false
    },
    "source": [
     "%pylab inline\n",
     "from jade.run_managerwandb import WANDBRunManager"
    ]
   }
  }
 },
 "nbformat": 4,
 "nbformat_minor": 1
}
