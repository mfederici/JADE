{
 "cells": [
  {
   "cell_type": "code",
   "execution_count": 32,
   "metadata": {},
   "outputs": [
    {
     "name": "stdout",
     "output_type": "stream",
     "text": [
      "Populating the interactive namespace from numpy and matplotlib\n"
     ]
    },
    {
     "name": "stderr",
     "output_type": "stream",
     "text": [
      "/home/marco/anaconda3/envs/mib/lib/python3.8/site-packages/IPython/core/magics/pylab.py:159: UserWarning: pylab import has clobbered these variables: ['f']\n",
      "`%matplotlib` prevents importing * from pylab and numpy\n",
      "  warn(\"pylab import has clobbered these variables: %s\"  % clobbered +\n"
     ]
    }
   ],
   "source": [
    "%pylab inline\n",
    "import torch"
   ]
  },
  {
   "cell_type": "code",
   "execution_count": 33,
   "metadata": {},
   "outputs": [
    {
     "name": "stdout",
     "output_type": "stream",
     "text": [
      "User: mfederici\n",
      "Project: causal-mib\n",
      "Algorithms: ['IRM', 'ERM', 'ECI', 'ECI', 'EI', 'VIB']\n",
      "Datasets: ['D_CMNIST', 'D_CMNIST_v2', 'D_CMNIST_v3']\n"
     ]
    }
   ],
   "source": [
    "import wandb\n",
    "import inspect\n",
    "import seaborn as sns\n",
    "import pandas as pd\n",
    "import json\n",
    "from tqdm.notebook import tqdm\n",
    "import os\n",
    "import yaml\n",
    "\n",
    "\n",
    "class ResultsManager:\n",
    "    def __init__(self, wandb_user, wandb_project, dataset_info_file, \n",
    "                 style_info_file, sid_info_file, verbose=False):\n",
    "        self.api = wandb.Api()\n",
    "        self.verbose = verbose\n",
    "        self.wandb_user = wandb_user\n",
    "        self.wandb_project = wandb_project\n",
    "        \n",
    "        with open(dataset_info_file, 'r') as stream:\n",
    "            self.datasets_info = yaml.safe_load(stream)\n",
    "    \n",
    "        with open(sid_info_file,'r') as stream:\n",
    "            self.sid_info = yaml.safe_load(stream)\n",
    "\n",
    "        self.algorithms = ['IRM','ERM','ECI', 'ECI', 'EI','VIB']\n",
    "            \n",
    "        with open(style_info_file,'r') as stream:\n",
    "            self.style_info = yaml.safe_load(stream)\n",
    "        \n",
    "        if verbose:\n",
    "            print('User: %s' % wandb_user)\n",
    "            print('Project: %s' % wandb_project)\n",
    "            print('Algorithms: %s' % str(list(self.algorithms)))\n",
    "            print('Datasets: %s' % str(list(self.datasets_info.keys())))\n",
    "            \n",
    "    def sid2sweep(self, sid):\n",
    "        return self.api.sweep('%s/%s'%(self.wandb_project, sid))\n",
    "    \n",
    "    def rid2datalg(self, rid):\n",
    "        run = self.api.run('%s/%s'%(self.wandb_project, rid))\n",
    "        return self.sid2datalg(run.sweep.id)\n",
    "    \n",
    "    def get_name(self, idx):\n",
    "        if idx in self.style_info:\n",
    "            if 'name' in self.style_info[idx]:\n",
    "                return self.style_info[idx]['name']\n",
    "            else:\n",
    "                return idx\n",
    "            \n",
    "    def datalg2uid(self, dataset, algorithm):\n",
    "        return dataset+'-'+algorithm\n",
    "    \n",
    "    def sid2datalg(self, sid):\n",
    "        uids = [uid for uid in self.sid_info if sid in self.sid_info[uid]['sid']]\n",
    "        assert len(uids) == 1\n",
    "        return self.uid2datalg(uids[0])\n",
    "\n",
    "    def uid2datalg(self, uid):\n",
    "        datalg = uid.split('-')\n",
    "        return datalg[0], datalg[1]\n",
    "\n",
    "    def get_sweep(self, dataset, algorithm):\n",
    "        name = self.datalg2uid(dataset, algorithm)\n",
    "        sid = self.sid_info[name]['id']\n",
    "        return self.sid2sweep(sid)\n",
    "    \n",
    "    def get_runs(self, dataset, algorithm):\n",
    "        name = self.datalg2uid(dataset, algorithm)\n",
    "        sid = self.sid_info[name]['sid']\n",
    "        if not isinstance(sid, list):\n",
    "            sid = [sid]\n",
    "            \n",
    "        runs = []\n",
    "        for s in sid:\n",
    "            runs += self.sid2sweep(s).runs\n",
    "        return runs\n",
    "    \n",
    "    def get_algorithms(self, dataset=None):\n",
    "        if dataset:\n",
    "            return [alg for alg in self.algorithms \n",
    "                    if self.datalg2uid(dataset,alg) in self.sid_info]\n",
    "        else:\n",
    "            return [alg for alg in self.algorithms.keys()]\n",
    "        \n",
    "    def get_run_config(self, run):\n",
    "        dataset, algorithm = self.sid2datalg(run.sweep.id)\n",
    "        key_lookup = self.algorithms_info[algorithm]['params']\n",
    "        return {key: run.config[value['config_key']] for key,value in key_lookup.items()}\n",
    "    \n",
    "\n",
    "if 'WANDB_USER' in os.environ:\n",
    "    wandb_user = os.environ['WANDB_USER']\n",
    "else:\n",
    "    raise Exception('Please set WANDB_USER')\n",
    "    \n",
    "if 'WANDB_PROJECT' in os.environ:\n",
    "    wandb_project = os.environ['WANDB_PROJECT']\n",
    "else:\n",
    "    raise Exception('Please set WANDB_PROJECT')\n",
    "\n",
    "    \n",
    "rm = ResultsManager(wandb_user=wandb_user, \n",
    "                    wandb_project=wandb_project, \n",
    "                    dataset_info_file='results/datasets.yml', \n",
    "                    sid_info_file='results/ids.yml',\n",
    "                    style_info_file='results/styles.yml',\n",
    "                    verbose=True)\n"
   ]
  },
  {
   "cell_type": "code",
   "execution_count": 34,
   "metadata": {},
   "outputs": [],
   "source": [
    "def decorate_plot(dataset_config, style_info, ax, plot_only=None):\n",
    "    for name, point in dataset_config['plot'].items():\n",
    "        if 'name' in style_info[name]:\n",
    "            label = style_info[name]['name']\n",
    "        else:\n",
    "            label = name\n",
    "        \n",
    "        plot_this = plot_only is None\n",
    "        if not plot_this:\n",
    "            plot_this = name in plot_only\n",
    "        \n",
    "        if plot_this:\n",
    "            ax.plot(point['coord'][0], point['coord'][1], label='$%s$'%label, **style_info[name]['params'])\n",
    "        else:\n",
    "            print('Not printing: %s'%name)\n",
    "\n",
    "    ax.set_xlim(*dataset_config['lims']['x'])\n",
    "    ax.set_ylim(*dataset_config['lims']['y'])\n",
    "\n",
    "    ax.set_xlabel('$\\\\mathbb{E}_{t=0}[-\\\\log\\\\ q_\\\\theta(y|x)]$', size=15)\n",
    "    ax.set_ylabel('$\\\\mathbb{E}_{t=1}[-\\\\log\\\\ q_\\\\theta(y|x)]$', size=15)\n",
    "    "
   ]
  },
  {
   "cell_type": "code",
   "execution_count": 35,
   "metadata": {},
   "outputs": [],
   "source": [
    "\n",
    "\n",
    "def plot_data(all_data, ax, color=None,uncertainty_alpha=0.5, label=None):\n",
    "    points = []\n",
    "    for data in all_data:\n",
    "        mu = np.mean(data, axis=0)\n",
    "        sigma = np.cov(data, rowvar=0)\n",
    "\n",
    "        U, s, _ = numpy.linalg.svd(sigma)\n",
    "\n",
    "        ax.plot(mu[0],mu[1],'.', color=color)\n",
    "        ax.plot([mu[0]-U[0,0]*s[0]**0.5,mu[0]+U[0,0]*s[0]**0.5],[mu[1]-U[0,1]*s[0]**0.5,mu[1]+U[0,1]*s[0]**0.5],\n",
    "                '-',color=color, alpha=uncertainty_alpha)\n",
    "        ax.plot([mu[0]-U[1,0]*s[1]**0.5,mu[0]+U[1,0]*s[1]**0.5],[mu[1]-U[1,1]*s[1]**0.5,mu[1]+U[1,1]*s[1]**0.5],\n",
    "                '-',color=color, alpha=uncertainty_alpha)\n",
    "        points.append(mu.reshape(1,-1))\n",
    "    points = np.concatenate(points,0)\n",
    "    ax.plot(points[:,0], points[:,1], color=color, label=label)    \n",
    "    \n",
    "    \n",
    "def plot_data_points(all_data, ax, color=None,uncertainty_alpha=0.5, label=None):\n",
    "    all_data = pd.concat(all_data)\n",
    "    \n",
    "    x_min, x_max = all_data['train'].min(),all_data['train'].max()\n",
    "    \n",
    "    n = 3  # degree of polynomial\n",
    "    p, C_p = np.polyfit(all_data['train'], all_data['test'], n, cov=True)  # C_z is estimated covariance matrix\n",
    "\n",
    "    # Do the interpolation for plotting:\n",
    "    t = np.linspace(x_min, x_max, 100)\n",
    "    # Matrix with rows 1, t, t**2, ...:\n",
    "    TT = np.vstack([t**(n-i) for i in range(n+1)]).T\n",
    "    yi = np.dot(TT, p)  # matrix multiplication calculates the polynomial values\n",
    "    C_yi = np.dot(TT, np.dot(C_p, TT.T)) # C_y = TT*C_z*TT.T\n",
    "    sig_yi = np.sqrt(np.diag(C_yi))  # Standard deviations are sqrt of diagonal\n",
    "\n",
    "    # Do the plotting:\n",
    "    ax.fill_between(t, yi+sig_yi, yi-sig_yi, alpha=.25, color=color) \n",
    "    ax.plot(t, yi,'-', color=color, label=label) \n",
    "    ax.plot(all_data['train'],all_data['test'],'.',color=color, alpha=0.1) \n",
    "\n",
    "\n",
    "def plot_sweep_result(runs, get_last_run_data, sortkey, ax, uncertainty_alpha=0.5, color=None, label=None, consider_last=1000):\n",
    "    points = []\n",
    "    reg_strenght = []\n",
    "    all_data = [get_last_run_data(run, consider_last=consider_last) for run in runs]\n",
    "    #sortby = [json.loads(run.json_config)[sortkey]['value'] for run in sweep.runs]\n",
    "    #order = np.argsort(sortby)\n",
    "    \n",
    "    #print(order)\n",
    "    if len(all_data)>0:\n",
    "        plot_data_points(all_data, ax, color=color, uncertainty_alpha=uncertainty_alpha, label=label)\n",
    "\n",
    "\n",
    "\n"
   ]
  },
  {
   "cell_type": "code",
   "execution_count": 36,
   "metadata": {},
   "outputs": [],
   "source": [
    "def get_last_mixed_data(run, consider_last=None, samples=None):\n",
    "        if consider_last is None:\n",
    "            h = run.history(samples=samples, pandas=False)\n",
    "        else:\n",
    "            min_step = run.lastHistoryStep-consider_last\n",
    "            h = run.scan_history(min_step=min_step)\n",
    "        data = [{'train':(r['test_ce_01']+r['test_ce_02'])/2.0, \n",
    "                        'test':r['test_ce_09'],\n",
    "                        'step': r['_step']} for r in h if 'test_ce_01' in r]\n",
    "        return pd.DataFrame(data)\n",
    "    \n",
    "def get_last_data(run, consider_last=None):\n",
    "        if consider_last is None:\n",
    "            h = run.scan_history()\n",
    "        else:\n",
    "            min_step = run.lastHistoryStep-consider_last\n",
    "            h = run.scan_history(min_step=min_step)\n",
    "        data = [{'train':r['train_ce'], \n",
    "                 'test':r['test_ce'],\n",
    "                 'step': r['_step']} for r in h if 'test_ce' in r]\n",
    "        return pd.DataFrame(data)\n",
    "    \n",
    "def sample_data(run, samples=None, consider_last=None):\n",
    "    h = run.history(samples=samples, pandas=False)\n",
    "        \n",
    "    data = [{'train':r['train_ce'], \n",
    "             'test':r['test_ce'],\n",
    "             'step': r['_step']} for r in h if 'test_ce' in r]\n",
    "    return pd.DataFrame(data)\n",
    "\n",
    "    \n",
    "def _get_last_data(run, consider_last=None):\n",
    "        if consider_last is None:\n",
    "            h = run.scan_history()\n",
    "        else:\n",
    "            min_step = run.lastHistoryStep-consider_last\n",
    "            h = run.scan_history(min_step=min_step)\n",
    "        data = [{'train':r['CE(train_t0)'], \n",
    "                 'test':r['CE(test_t1)'],\n",
    "                 'step': r['_step']} for r in h if 'CE(test_t1)' in r]\n",
    "        return pd.DataFrame(data)\n",
    "    \n",
    "def _sample_data(run, samples=None, consider_last=None):\n",
    "    h = run.history(samples=samples, pandas=False)\n",
    "        \n",
    "    data = [{'train':r['CE(train_t0)'], \n",
    "             'test':r['CE(test_t1)'],\n",
    "             'step': r['_step']} for r in h if 'CE(test_t1)' in r]\n",
    "    return pd.DataFrame(data)\n",
    "\n",
    "process_run = {\n",
    "    'D_CMNIST': {\n",
    "        'get_last': _get_last_data,\n",
    "        'get_all': _get_last_data,\n",
    "        'sample': _sample_data\n",
    "    },\n",
    "    'D_CMNIST_v2': {\n",
    "        'get_last': _get_last_data,\n",
    "        'get_all': _get_last_data,\n",
    "        'sample': _sample_data\n",
    "    },\n",
    "    'D_CMNIST_v3': {\n",
    "        'get_last': _get_last_data,\n",
    "        'get_all': _get_last_data,\n",
    "        'sample': _sample_data\n",
    "    },\n",
    "    'SpeechCommands': {\n",
    "        'get_last': get_last_data,\n",
    "        'get_all': get_last_data,\n",
    "        'sample': sample_data,\n",
    "    }\n",
    "    \n",
    "}"
   ]
  },
  {
   "cell_type": "code",
   "execution_count": 41,
   "metadata": {},
   "outputs": [
    {
     "data": {
      "application/vnd.jupyter.widget-view+json": {
       "model_id": "e44646a7d3394b0f88dcc32960384cbd",
       "version_major": 2,
       "version_minor": 0
      },
      "text/plain": [
       "HBox(children=(FloatProgress(value=0.0, max=1.0), HTML(value='')))"
      ]
     },
     "metadata": {},
     "output_type": "display_data"
    },
    {
     "name": "stdout",
     "output_type": "stream",
     "text": [
      "\n"
     ]
    },
    {
     "data": {
      "image/png": "[encoded data removed]",
      "text/plain": [
       "<Figure size 360x360 with 1 Axes>"
      ]
     },
     "metadata": {
      "needs_background": "light"
     },
     "output_type": "display_data"
    }
   ],
   "source": [
    "dataset = 'D_CMNIST'\n",
    "algorithm = 'IRM'\n",
    "\n",
    "min_step = 0\n",
    "max_step = 30000\n",
    "\n",
    "runs = rm.get_runs(dataset=dataset, algorithm=algorithm)\n",
    "\n",
    "cmap = plt.get_cmap('coolwarm')\n",
    "\n",
    "f, ax = plt.subplots(1,len(runs), figsize=(5*len(runs),5), sharex=True, sharey=True)\n",
    "if len(runs)==1:\n",
    "    ax = [ax]\n",
    "\n",
    "sns.despine()\n",
    "\n",
    "f.suptitle('%s: %s'%(rm.get_name(dataset), rm.get_name(algorithm)), size=20)\n",
    "\n",
    "for j,run in enumerate(tqdm(runs)):\n",
    "    #config_key = rm.algorithms_info[algorithm]['params']['beta']['config_key']\n",
    "    #ax[j].set_title('$\\\\beta$= %f'%(run.config[config_key]))\n",
    "        \n",
    "    h = run.scan_history(min_step=min_step, max_step=max_step)\n",
    "    data = [{'train':r['CE(train_t0)'], \n",
    "                 'test':r['CE(test_t1)'],\n",
    "                 'step': r['_step']} for r in h if 'CE(test_t1)' in r]\n",
    "    run_data = pd.DataFrame(data)\n",
    "    #process_run[dataset]['sample'](run,10000)\n",
    "    colors = np.array([cmap(v/run_data['step'].values.max()) \n",
    "                       for v in run_data['step'].values[:len(run_data['step'].values)]])\n",
    "    \n",
    "    \n",
    "    for i in range(len(colors)):\n",
    "        ax[j].plot(run_data['train'][i], run_data['test'][i],'.',color=colors[i], alpha=0.8)\n",
    "        ax[j].plot(run_data['train'][i:i+2], run_data['test'][i:i+2],'-',color=colors[i], alpha=0.5)\n",
    "        \n",
    "    decorate_plot(rm.datasets_info[dataset], rm.style_info, ax[j])\n",
    "\n",
    "        \n",
    "\n",
    "        #ax[j].set_title(run_name, fontsize=20)\n",
    "\n",
    "#ax[-1].legend(fontsize=12)"
   ]
  },
  {
   "cell_type": "code",
   "execution_count": 38,
   "metadata": {},
   "outputs": [
    {
     "data": {
      "application/vnd.jupyter.widget-view+json": {
       "model_id": "9293967abea64d31aa0a664f1a3e8751",
       "version_major": 2,
       "version_minor": 0
      },
      "text/plain": [
       "HBox(children=(FloatProgress(value=0.0, max=2.0), HTML(value='')))"
      ]
     },
     "metadata": {},
     "output_type": "display_data"
    },
    {
     "name": "stdout",
     "output_type": "stream",
     "text": [
      "\n"
     ]
    },
    {
     "data": {
      "image/png": "[encoded data removed]",
      "text/plain": [
       "<Figure size 720x360 with 2 Axes>"
      ]
     },
     "metadata": {
      "needs_background": "light"
     },
     "output_type": "display_data"
    }
   ],
   "source": [
    "dataset = 'D_CMNIST_v3'\n",
    "algorithm = 'IRM'\n",
    "\n",
    "min_step = 0\n",
    "max_step = 30000\n",
    "\n",
    "runs = rm.get_runs(dataset=dataset, algorithm=algorithm)\n",
    "\n",
    "cmap = plt.get_cmap('coolwarm')\n",
    "\n",
    "f, ax = plt.subplots(1,len(runs), figsize=(5*len(runs),5), sharex=True, sharey=True)\n",
    "if len(runs)==1:\n",
    "    ax = [ax]\n",
    "\n",
    "sns.despine()\n",
    "\n",
    "f.suptitle('%s: %s'%(rm.get_name(dataset), rm.get_name(algorithm)), size=20)\n",
    "\n",
    "for j,run in enumerate(tqdm(runs)):\n",
    "    #config_key = rm.algorithms_info[algorithm]['params']['beta']['config_key']\n",
    "    #ax[j].set_title('$\\\\beta$= %f'%(run.config[config_key]))\n",
    "        \n",
    "    h = run.scan_history(min_step=min_step, max_step=max_step)\n",
    "    data = [{'train':r['CE(train_t0)'], \n",
    "                 'test':r['CE(test_t1)'],\n",
    "                 'step': r['_step']} for r in h if 'CE(test_t1)' in r]\n",
    "    run_data = pd.DataFrame(data)\n",
    "    #process_run[dataset]['sample'](run,10000)\n",
    "    colors = np.array([cmap(v/run_data['step'].values.max()) \n",
    "                       for v in run_data['step'].values[:len(run_data['step'].values)]])\n",
    "    \n",
    "    \n",
    "    for i in range(len(colors)):\n",
    "        ax[j].plot(run_data['train'][i], run_data['test'][i],'.',color=colors[i], alpha=0.8)\n",
    "        ax[j].plot(run_data['train'][i:i+2], run_data['test'][i:i+2],'-',color=colors[i], alpha=0.5)\n",
    "        \n",
    "    decorate_plot(rm.datasets_info[dataset], rm.style_info, ax[j])\n",
    "\n",
    "        \n",
    "\n",
    "        #ax[j].set_title(run_name, fontsize=20)\n",
    "\n",
    "#ax[-1].legend(fontsize=12)"
   ]
  },
  {
   "cell_type": "code",
   "execution_count": 6,
   "metadata": {},
   "outputs": [
    {
     "ename": "NameError",
     "evalue": "name 'datasets' is not defined",
     "output_type": "error",
     "traceback": [
      "\u001b[0;31m---------------------------------------------------------------------------\u001b[0m",
      "\u001b[0;31mNameError\u001b[0m                                 Traceback (most recent call last)",
      "\u001b[0;32m<ipython-input-6-1a7f4f062683>\u001b[0m in \u001b[0;36m<module>\u001b[0;34m\u001b[0m\n\u001b[0;32m----> 1\u001b[0;31m \u001b[0mx\u001b[0m \u001b[0;34m=\u001b[0m \u001b[0mdatasets\u001b[0m\u001b[0;34m[\u001b[0m\u001b[0;34m'train_t0'\u001b[0m\u001b[0;34m]\u001b[0m\u001b[0;34m[\u001b[0m\u001b[0;36m31\u001b[0m\u001b[0;34m]\u001b[0m\u001b[0;34m[\u001b[0m\u001b[0;34m'x'\u001b[0m\u001b[0;34m]\u001b[0m\u001b[0;34m.\u001b[0m\u001b[0mpermute\u001b[0m\u001b[0;34m(\u001b[0m\u001b[0;36m1\u001b[0m\u001b[0;34m,\u001b[0m\u001b[0;36m2\u001b[0m\u001b[0;34m,\u001b[0m\u001b[0;36m0\u001b[0m\u001b[0;34m)\u001b[0m\u001b[0;34m\u001b[0m\u001b[0;34m\u001b[0m\u001b[0m\n\u001b[0m\u001b[1;32m      2\u001b[0m \u001b[0mim\u001b[0m \u001b[0;34m=\u001b[0m \u001b[0mtorch\u001b[0m\u001b[0;34m.\u001b[0m\u001b[0mcat\u001b[0m\u001b[0;34m(\u001b[0m\u001b[0;34m[\u001b[0m\u001b[0mx\u001b[0m\u001b[0;34m,\u001b[0m \u001b[0mx\u001b[0m\u001b[0;34m[\u001b[0m\u001b[0;34m:\u001b[0m\u001b[0;34m,\u001b[0m\u001b[0;34m:\u001b[0m\u001b[0;34m,\u001b[0m\u001b[0;36m0\u001b[0m\u001b[0;34m]\u001b[0m\u001b[0;34m.\u001b[0m\u001b[0munsqueeze\u001b[0m\u001b[0;34m(\u001b[0m\u001b[0;34m-\u001b[0m\u001b[0;36m1\u001b[0m\u001b[0;34m)\u001b[0m\u001b[0;34m*\u001b[0m\u001b[0;36m0\u001b[0m\u001b[0;34m]\u001b[0m\u001b[0;34m,\u001b[0m\u001b[0;36m2\u001b[0m\u001b[0;34m)\u001b[0m\u001b[0;34m.\u001b[0m\u001b[0mnumpy\u001b[0m\u001b[0;34m(\u001b[0m\u001b[0;34m)\u001b[0m\u001b[0;34m.\u001b[0m\u001b[0mastype\u001b[0m\u001b[0;34m(\u001b[0m\u001b[0mnp\u001b[0m\u001b[0;34m.\u001b[0m\u001b[0mfloat\u001b[0m\u001b[0;34m)\u001b[0m\u001b[0;34m\u001b[0m\u001b[0;34m\u001b[0m\u001b[0m\n\u001b[1;32m      3\u001b[0m \u001b[0mplt\u001b[0m\u001b[0;34m.\u001b[0m\u001b[0mimshow\u001b[0m\u001b[0;34m(\u001b[0m\u001b[0mim\u001b[0m\u001b[0;34m[\u001b[0m\u001b[0;34m:\u001b[0m\u001b[0;34m,\u001b[0m\u001b[0;34m:\u001b[0m\u001b[0;34m]\u001b[0m\u001b[0;34m,\u001b[0m \u001b[0mcmap\u001b[0m\u001b[0;34m=\u001b[0m\u001b[0;34m'bone'\u001b[0m\u001b[0;34m)\u001b[0m\u001b[0;34m\u001b[0m\u001b[0;34m\u001b[0m\u001b[0m\n\u001b[1;32m      4\u001b[0m \u001b[0mplt\u001b[0m\u001b[0;34m.\u001b[0m\u001b[0maxis\u001b[0m\u001b[0;34m(\u001b[0m\u001b[0;34m'off'\u001b[0m\u001b[0;34m)\u001b[0m\u001b[0;34m\u001b[0m\u001b[0;34m\u001b[0m\u001b[0m\n",
      "\u001b[0;31mNameError\u001b[0m: name 'datasets' is not defined"
     ]
    }
   ],
   "source": [
    "x = datasets['train_t0'][31]['x'].permute(1,2,0)\n",
    "im = torch.cat([x, x[:,:,0].unsqueeze(-1)*0],2).numpy().astype(np.float)\n",
    "plt.imshow(im[:,:], cmap='bone')\n",
    "plt.axis('off')"
   ]
  },
  {
   "cell_type": "code",
   "execution_count": 9,
   "metadata": {
    "scrolled": true
   },
   "outputs": [
    {
     "name": "stdout",
     "output_type": "stream",
     "text": [
      "IRM\n"
     ]
    },
    {
     "data": {
      "application/vnd.jupyter.widget-view+json": {
       "model_id": "715b5da501054fdba2cc576ceb21bedf",
       "version_major": 2,
       "version_minor": 0
      },
      "text/plain": [
       "HBox(children=(FloatProgress(value=0.0, max=3.0), HTML(value='')))"
      ]
     },
     "metadata": {},
     "output_type": "display_data"
    },
    {
     "data": {
      "application/vnd.jupyter.widget-view+json": {
       "model_id": "729ac44093884eb3adf3a0ecf0168c23",
       "version_major": 2,
       "version_minor": 0
      },
      "text/plain": [
       "HBox(children=(FloatProgress(value=0.0, max=18.0), HTML(value='')))"
      ]
     },
     "metadata": {},
     "output_type": "display_data"
    },
    {
     "data": {
      "application/vnd.jupyter.widget-view+json": {
       "model_id": "a41b8dac960941cab15b39859984420d",
       "version_major": 2,
       "version_minor": 0
      },
      "text/plain": [
       "HBox(children=(FloatProgress(value=0.0, max=4.0), HTML(value='')))"
      ]
     },
     "metadata": {},
     "output_type": "display_data"
    },
    {
     "name": "stdout",
     "output_type": "stream",
     "text": [
      "\n"
     ]
    },
    {
     "data": {
      "application/vnd.jupyter.widget-view+json": {
       "model_id": "6bfe692d269e4683b74ea7761b458506",
       "version_major": 2,
       "version_minor": 0
      },
      "text/plain": [
       "HBox(children=(FloatProgress(value=0.0, max=4.0), HTML(value='')))"
      ]
     },
     "metadata": {},
     "output_type": "display_data"
    },
    {
     "name": "stdout",
     "output_type": "stream",
     "text": [
      "\n"
     ]
    },
    {
     "data": {
      "application/vnd.jupyter.widget-view+json": {
       "model_id": "e9f7ec71fc8e4f73b6718b1bd29aa427",
       "version_major": 2,
       "version_minor": 0
      },
      "text/plain": [
       "HBox(children=(FloatProgress(value=0.0, max=4.0), HTML(value='')))"
      ]
     },
     "metadata": {},
     "output_type": "display_data"
    },
    {
     "name": "stdout",
     "output_type": "stream",
     "text": [
      "\n"
     ]
    },
    {
     "data": {
      "application/vnd.jupyter.widget-view+json": {
       "model_id": "7be02d8a46ee487fbc14fb8e7e22ba86",
       "version_major": 2,
       "version_minor": 0
      },
      "text/plain": [
       "HBox(children=(FloatProgress(value=0.0, max=4.0), HTML(value='')))"
      ]
     },
     "metadata": {},
     "output_type": "display_data"
    },
    {
     "name": "stdout",
     "output_type": "stream",
     "text": [
      "\n"
     ]
    },
    {
     "data": {
      "application/vnd.jupyter.widget-view+json": {
       "model_id": "9205ed6afb5c4dbc9304d16b193ee0e9",
       "version_major": 2,
       "version_minor": 0
      },
      "text/plain": [
       "HBox(children=(FloatProgress(value=0.0, max=4.0), HTML(value='')))"
      ]
     },
     "metadata": {},
     "output_type": "display_data"
    },
    {
     "name": "stdout",
     "output_type": "stream",
     "text": [
      "\n"
     ]
    },
    {
     "data": {
      "application/vnd.jupyter.widget-view+json": {
       "model_id": "69f0d6a815144050ad5b2fa674637471",
       "version_major": 2,
       "version_minor": 0
      },
      "text/plain": [
       "HBox(children=(FloatProgress(value=0.0, max=4.0), HTML(value='')))"
      ]
     },
     "metadata": {},
     "output_type": "display_data"
    },
    {
     "name": "stdout",
     "output_type": "stream",
     "text": [
      "\n"
     ]
    },
    {
     "data": {
      "application/vnd.jupyter.widget-view+json": {
       "model_id": "a4447f848b654a92a51da807c7af71a3",
       "version_major": 2,
       "version_minor": 0
      },
      "text/plain": [
       "HBox(children=(FloatProgress(value=0.0, max=4.0), HTML(value='')))"
      ]
     },
     "metadata": {},
     "output_type": "display_data"
    },
    {
     "name": "stdout",
     "output_type": "stream",
     "text": [
      "\n"
     ]
    },
    {
     "data": {
      "application/vnd.jupyter.widget-view+json": {
       "model_id": "c92361e9a98d41aaae69fe383fc7a516",
       "version_major": 2,
       "version_minor": 0
      },
      "text/plain": [
       "HBox(children=(FloatProgress(value=0.0, max=4.0), HTML(value='')))"
      ]
     },
     "metadata": {},
     "output_type": "display_data"
    },
    {
     "name": "stdout",
     "output_type": "stream",
     "text": [
      "\n"
     ]
    },
    {
     "data": {
      "application/vnd.jupyter.widget-view+json": {
       "model_id": "3d6b4b079aa54b3092f4be3aeed41e8c",
       "version_major": 2,
       "version_minor": 0
      },
      "text/plain": [
       "HBox(children=(FloatProgress(value=0.0, max=4.0), HTML(value='')))"
      ]
     },
     "metadata": {},
     "output_type": "display_data"
    },
    {
     "name": "stdout",
     "output_type": "stream",
     "text": [
      "\n"
     ]
    },
    {
     "data": {
      "application/vnd.jupyter.widget-view+json": {
       "model_id": "87c3987890614a18be7da6a3fce0f6df",
       "version_major": 2,
       "version_minor": 0
      },
      "text/plain": [
       "HBox(children=(FloatProgress(value=0.0, max=4.0), HTML(value='')))"
      ]
     },
     "metadata": {},
     "output_type": "display_data"
    },
    {
     "name": "stdout",
     "output_type": "stream",
     "text": [
      "\n"
     ]
    },
    {
     "data": {
      "application/vnd.jupyter.widget-view+json": {
       "model_id": "d369d074cfc44beea5cb0835d9ef3a1d",
       "version_major": 2,
       "version_minor": 0
      },
      "text/plain": [
       "HBox(children=(FloatProgress(value=0.0, max=4.0), HTML(value='')))"
      ]
     },
     "metadata": {},
     "output_type": "display_data"
    },
    {
     "name": "stdout",
     "output_type": "stream",
     "text": [
      "\n"
     ]
    },
    {
     "data": {
      "application/vnd.jupyter.widget-view+json": {
       "model_id": "a69979fb013146d38b1e5362890f4abd",
       "version_major": 2,
       "version_minor": 0
      },
      "text/plain": [
       "HBox(children=(FloatProgress(value=0.0, max=4.0), HTML(value='')))"
      ]
     },
     "metadata": {},
     "output_type": "display_data"
    },
    {
     "name": "stdout",
     "output_type": "stream",
     "text": [
      "\n"
     ]
    },
    {
     "data": {
      "application/vnd.jupyter.widget-view+json": {
       "model_id": "886518abfefc4275862f33ca5942d5d4",
       "version_major": 2,
       "version_minor": 0
      },
      "text/plain": [
       "HBox(children=(FloatProgress(value=0.0, max=4.0), HTML(value='')))"
      ]
     },
     "metadata": {},
     "output_type": "display_data"
    },
    {
     "name": "stdout",
     "output_type": "stream",
     "text": [
      "\n"
     ]
    },
    {
     "data": {
      "application/vnd.jupyter.widget-view+json": {
       "model_id": "e3dce9dec6ab4abea89b94566952824e",
       "version_major": 2,
       "version_minor": 0
      },
      "text/plain": [
       "HBox(children=(FloatProgress(value=0.0, max=4.0), HTML(value='')))"
      ]
     },
     "metadata": {},
     "output_type": "display_data"
    },
    {
     "name": "stdout",
     "output_type": "stream",
     "text": [
      "\n"
     ]
    },
    {
     "data": {
      "application/vnd.jupyter.widget-view+json": {
       "model_id": "a4412dfd1c2441159d2ea3a77fd5fd58",
       "version_major": 2,
       "version_minor": 0
      },
      "text/plain": [
       "HBox(children=(FloatProgress(value=0.0, max=4.0), HTML(value='')))"
      ]
     },
     "metadata": {},
     "output_type": "display_data"
    },
    {
     "name": "stdout",
     "output_type": "stream",
     "text": [
      "\n"
     ]
    },
    {
     "data": {
      "application/vnd.jupyter.widget-view+json": {
       "model_id": "ba40563ce18b437ba842da8046cbaed9",
       "version_major": 2,
       "version_minor": 0
      },
      "text/plain": [
       "HBox(children=(FloatProgress(value=0.0, max=4.0), HTML(value='')))"
      ]
     },
     "metadata": {},
     "output_type": "display_data"
    },
    {
     "name": "stdout",
     "output_type": "stream",
     "text": [
      "\n"
     ]
    },
    {
     "data": {
      "application/vnd.jupyter.widget-view+json": {
       "model_id": "f1aa16c6906b4c72aa857cd18e7c739c",
       "version_major": 2,
       "version_minor": 0
      },
      "text/plain": [
       "HBox(children=(FloatProgress(value=0.0, max=4.0), HTML(value='')))"
      ]
     },
     "metadata": {},
     "output_type": "display_data"
    },
    {
     "name": "stdout",
     "output_type": "stream",
     "text": [
      "\n"
     ]
    },
    {
     "data": {
      "application/vnd.jupyter.widget-view+json": {
       "model_id": "f344f37943ec45939bad9b5ec16e75dd",
       "version_major": 2,
       "version_minor": 0
      },
      "text/plain": [
       "HBox(children=(FloatProgress(value=0.0, max=4.0), HTML(value='')))"
      ]
     },
     "metadata": {},
     "output_type": "display_data"
    },
    {
     "name": "stdout",
     "output_type": "stream",
     "text": [
      "\n",
      "\n"
     ]
    },
    {
     "data": {
      "application/vnd.jupyter.widget-view+json": {
       "model_id": "9b7e084a875b497cabd459023ae4d3c5",
       "version_major": 2,
       "version_minor": 0
      },
      "text/plain": [
       "HBox(children=(FloatProgress(value=0.0, max=18.0), HTML(value='')))"
      ]
     },
     "metadata": {},
     "output_type": "display_data"
    },
    {
     "data": {
      "application/vnd.jupyter.widget-view+json": {
       "model_id": "6d3b3fe6693e454f998f1290ba1bcd22",
       "version_major": 2,
       "version_minor": 0
      },
      "text/plain": [
       "HBox(children=(FloatProgress(value=0.0, max=4.0), HTML(value='')))"
      ]
     },
     "metadata": {},
     "output_type": "display_data"
    },
    {
     "name": "stdout",
     "output_type": "stream",
     "text": [
      "\n"
     ]
    },
    {
     "data": {
      "application/vnd.jupyter.widget-view+json": {
       "model_id": "3497546a2c0c465fb056cdf70828531d",
       "version_major": 2,
       "version_minor": 0
      },
      "text/plain": [
       "HBox(children=(FloatProgress(value=0.0, max=4.0), HTML(value='')))"
      ]
     },
     "metadata": {},
     "output_type": "display_data"
    },
    {
     "name": "stdout",
     "output_type": "stream",
     "text": [
      "\n"
     ]
    },
    {
     "data": {
      "application/vnd.jupyter.widget-view+json": {
       "model_id": "51c79e7e71f94761a0d2d159ff28139f",
       "version_major": 2,
       "version_minor": 0
      },
      "text/plain": [
       "HBox(children=(FloatProgress(value=0.0, max=4.0), HTML(value='')))"
      ]
     },
     "metadata": {},
     "output_type": "display_data"
    },
    {
     "name": "stdout",
     "output_type": "stream",
     "text": [
      "\n"
     ]
    },
    {
     "data": {
      "application/vnd.jupyter.widget-view+json": {
       "model_id": "41009c050b9b4d8b989cadcd0fa991c3",
       "version_major": 2,
       "version_minor": 0
      },
      "text/plain": [
       "HBox(children=(FloatProgress(value=0.0, max=4.0), HTML(value='')))"
      ]
     },
     "metadata": {},
     "output_type": "display_data"
    },
    {
     "name": "stdout",
     "output_type": "stream",
     "text": [
      "\n"
     ]
    },
    {
     "data": {
      "application/vnd.jupyter.widget-view+json": {
       "model_id": "b9c47b2bb8f9487b830f0364079dee3a",
       "version_major": 2,
       "version_minor": 0
      },
      "text/plain": [
       "HBox(children=(FloatProgress(value=0.0, max=4.0), HTML(value='')))"
      ]
     },
     "metadata": {},
     "output_type": "display_data"
    },
    {
     "name": "stdout",
     "output_type": "stream",
     "text": [
      "\n"
     ]
    },
    {
     "data": {
      "application/vnd.jupyter.widget-view+json": {
       "model_id": "b2eed92eefc645bbbc4b3f0d5901b08c",
       "version_major": 2,
       "version_minor": 0
      },
      "text/plain": [
       "HBox(children=(FloatProgress(value=0.0, max=4.0), HTML(value='')))"
      ]
     },
     "metadata": {},
     "output_type": "display_data"
    },
    {
     "name": "stdout",
     "output_type": "stream",
     "text": [
      "\n"
     ]
    },
    {
     "data": {
      "application/vnd.jupyter.widget-view+json": {
       "model_id": "8debe81b5256405da3f3ccce065425e5",
       "version_major": 2,
       "version_minor": 0
      },
      "text/plain": [
       "HBox(children=(FloatProgress(value=0.0, max=4.0), HTML(value='')))"
      ]
     },
     "metadata": {},
     "output_type": "display_data"
    },
    {
     "name": "stdout",
     "output_type": "stream",
     "text": [
      "\n"
     ]
    },
    {
     "data": {
      "application/vnd.jupyter.widget-view+json": {
       "model_id": "2a8a09c7d1cf4354b347cf4f720ddae9",
       "version_major": 2,
       "version_minor": 0
      },
      "text/plain": [
       "HBox(children=(FloatProgress(value=0.0, max=4.0), HTML(value='')))"
      ]
     },
     "metadata": {},
     "output_type": "display_data"
    },
    {
     "name": "stdout",
     "output_type": "stream",
     "text": [
      "\n"
     ]
    },
    {
     "data": {
      "application/vnd.jupyter.widget-view+json": {
       "model_id": "c3bba05ad0aa4af193a441ce7c99d8bb",
       "version_major": 2,
       "version_minor": 0
      },
      "text/plain": [
       "HBox(children=(FloatProgress(value=0.0, max=4.0), HTML(value='')))"
      ]
     },
     "metadata": {},
     "output_type": "display_data"
    },
    {
     "name": "stdout",
     "output_type": "stream",
     "text": [
      "\n"
     ]
    },
    {
     "data": {
      "application/vnd.jupyter.widget-view+json": {
       "model_id": "7634febce9ca4d10ae7a569d05e43b26",
       "version_major": 2,
       "version_minor": 0
      },
      "text/plain": [
       "HBox(children=(FloatProgress(value=0.0, max=4.0), HTML(value='')))"
      ]
     },
     "metadata": {},
     "output_type": "display_data"
    },
    {
     "name": "stdout",
     "output_type": "stream",
     "text": [
      "\n"
     ]
    },
    {
     "data": {
      "application/vnd.jupyter.widget-view+json": {
       "model_id": "a452fa742cd347b0a521f2ee2bf1de90",
       "version_major": 2,
       "version_minor": 0
      },
      "text/plain": [
       "HBox(children=(FloatProgress(value=0.0, max=4.0), HTML(value='')))"
      ]
     },
     "metadata": {},
     "output_type": "display_data"
    },
    {
     "name": "stdout",
     "output_type": "stream",
     "text": [
      "\n"
     ]
    },
    {
     "data": {
      "application/vnd.jupyter.widget-view+json": {
       "model_id": "e6448f626910488fbc0202a1ef69b048",
       "version_major": 2,
       "version_minor": 0
      },
      "text/plain": [
       "HBox(children=(FloatProgress(value=0.0, max=4.0), HTML(value='')))"
      ]
     },
     "metadata": {},
     "output_type": "display_data"
    },
    {
     "name": "stdout",
     "output_type": "stream",
     "text": [
      "\n"
     ]
    },
    {
     "data": {
      "application/vnd.jupyter.widget-view+json": {
       "model_id": "cc5dfa38baa44e209462556c1611ae19",
       "version_major": 2,
       "version_minor": 0
      },
      "text/plain": [
       "HBox(children=(FloatProgress(value=0.0, max=4.0), HTML(value='')))"
      ]
     },
     "metadata": {},
     "output_type": "display_data"
    },
    {
     "name": "stdout",
     "output_type": "stream",
     "text": [
      "\n"
     ]
    },
    {
     "data": {
      "application/vnd.jupyter.widget-view+json": {
       "model_id": "db87174faa114d90841046acbe059f07",
       "version_major": 2,
       "version_minor": 0
      },
      "text/plain": [
       "HBox(children=(FloatProgress(value=0.0, max=4.0), HTML(value='')))"
      ]
     },
     "metadata": {},
     "output_type": "display_data"
    },
    {
     "name": "stdout",
     "output_type": "stream",
     "text": [
      "\n"
     ]
    },
    {
     "data": {
      "application/vnd.jupyter.widget-view+json": {
       "model_id": "132c8ebb1bb1429b9f95c2b5758c591c",
       "version_major": 2,
       "version_minor": 0
      },
      "text/plain": [
       "HBox(children=(FloatProgress(value=0.0, max=4.0), HTML(value='')))"
      ]
     },
     "metadata": {},
     "output_type": "display_data"
    },
    {
     "name": "stdout",
     "output_type": "stream",
     "text": [
      "\n"
     ]
    },
    {
     "data": {
      "application/vnd.jupyter.widget-view+json": {
       "model_id": "3d86dc02b2ae4df7a5d975dfa6c67e7b",
       "version_major": 2,
       "version_minor": 0
      },
      "text/plain": [
       "HBox(children=(FloatProgress(value=0.0, max=4.0), HTML(value='')))"
      ]
     },
     "metadata": {},
     "output_type": "display_data"
    },
    {
     "name": "stdout",
     "output_type": "stream",
     "text": [
      "\n"
     ]
    },
    {
     "data": {
      "application/vnd.jupyter.widget-view+json": {
       "model_id": "ad9831c9b9cd47119da0b8f467ffe74a",
       "version_major": 2,
       "version_minor": 0
      },
      "text/plain": [
       "HBox(children=(FloatProgress(value=0.0, max=4.0), HTML(value='')))"
      ]
     },
     "metadata": {},
     "output_type": "display_data"
    },
    {
     "name": "stdout",
     "output_type": "stream",
     "text": [
      "\n"
     ]
    },
    {
     "data": {
      "application/vnd.jupyter.widget-view+json": {
       "model_id": "58b554b8468345f087f70fc30a9c8cb5",
       "version_major": 2,
       "version_minor": 0
      },
      "text/plain": [
       "HBox(children=(FloatProgress(value=0.0, max=4.0), HTML(value='')))"
      ]
     },
     "metadata": {},
     "output_type": "display_data"
    },
    {
     "name": "stdout",
     "output_type": "stream",
     "text": [
      "\n",
      "\n"
     ]
    },
    {
     "data": {
      "application/vnd.jupyter.widget-view+json": {
       "model_id": "8501066f20e241f481aaa0b7c2555d3e",
       "version_major": 2,
       "version_minor": 0
      },
      "text/plain": [
       "HBox(children=(FloatProgress(value=0.0, max=18.0), HTML(value='')))"
      ]
     },
     "metadata": {},
     "output_type": "display_data"
    },
    {
     "data": {
      "application/vnd.jupyter.widget-view+json": {
       "model_id": "9c6d988995004e60960739581a84400e",
       "version_major": 2,
       "version_minor": 0
      },
      "text/plain": [
       "HBox(children=(FloatProgress(value=0.0, max=4.0), HTML(value='')))"
      ]
     },
     "metadata": {},
     "output_type": "display_data"
    },
    {
     "name": "stdout",
     "output_type": "stream",
     "text": [
      "\n"
     ]
    },
    {
     "data": {
      "application/vnd.jupyter.widget-view+json": {
       "model_id": "49495536218b4a72a10019d899e7150f",
       "version_major": 2,
       "version_minor": 0
      },
      "text/plain": [
       "HBox(children=(FloatProgress(value=0.0, max=4.0), HTML(value='')))"
      ]
     },
     "metadata": {},
     "output_type": "display_data"
    },
    {
     "name": "stdout",
     "output_type": "stream",
     "text": [
      "\n"
     ]
    },
    {
     "data": {
      "application/vnd.jupyter.widget-view+json": {
       "model_id": "73bff61e3a29494aa124d8338a98cc4c",
       "version_major": 2,
       "version_minor": 0
      },
      "text/plain": [
       "HBox(children=(FloatProgress(value=0.0, max=4.0), HTML(value='')))"
      ]
     },
     "metadata": {},
     "output_type": "display_data"
    },
    {
     "name": "stdout",
     "output_type": "stream",
     "text": [
      "\n"
     ]
    },
    {
     "data": {
      "application/vnd.jupyter.widget-view+json": {
       "model_id": "37509ec3dfa349fd951e8a8578a58263",
       "version_major": 2,
       "version_minor": 0
      },
      "text/plain": [
       "HBox(children=(FloatProgress(value=0.0, max=4.0), HTML(value='')))"
      ]
     },
     "metadata": {},
     "output_type": "display_data"
    },
    {
     "name": "stdout",
     "output_type": "stream",
     "text": [
      "\n"
     ]
    },
    {
     "data": {
      "application/vnd.jupyter.widget-view+json": {
       "model_id": "cf836a69a23044b2961c6587e2476495",
       "version_major": 2,
       "version_minor": 0
      },
      "text/plain": [
       "HBox(children=(FloatProgress(value=0.0, max=4.0), HTML(value='')))"
      ]
     },
     "metadata": {},
     "output_type": "display_data"
    },
    {
     "name": "stdout",
     "output_type": "stream",
     "text": [
      "\n"
     ]
    },
    {
     "data": {
      "application/vnd.jupyter.widget-view+json": {
       "model_id": "b9832c3f183a47968ed9b503fe1186cc",
       "version_major": 2,
       "version_minor": 0
      },
      "text/plain": [
       "HBox(children=(FloatProgress(value=0.0, max=4.0), HTML(value='')))"
      ]
     },
     "metadata": {},
     "output_type": "display_data"
    },
    {
     "name": "stdout",
     "output_type": "stream",
     "text": [
      "\n"
     ]
    },
    {
     "data": {
      "application/vnd.jupyter.widget-view+json": {
       "model_id": "38a9d9d0a9eb4f31bb6470e8e118a9c0",
       "version_major": 2,
       "version_minor": 0
      },
      "text/plain": [
       "HBox(children=(FloatProgress(value=0.0, max=4.0), HTML(value='')))"
      ]
     },
     "metadata": {},
     "output_type": "display_data"
    },
    {
     "name": "stdout",
     "output_type": "stream",
     "text": [
      "\n"
     ]
    },
    {
     "data": {
      "application/vnd.jupyter.widget-view+json": {
       "model_id": "10ecd3c1986642e8b3377130a36af4a6",
       "version_major": 2,
       "version_minor": 0
      },
      "text/plain": [
       "HBox(children=(FloatProgress(value=0.0, max=4.0), HTML(value='')))"
      ]
     },
     "metadata": {},
     "output_type": "display_data"
    },
    {
     "name": "stdout",
     "output_type": "stream",
     "text": [
      "\n"
     ]
    },
    {
     "data": {
      "application/vnd.jupyter.widget-view+json": {
       "model_id": "11cafce13cf64ebdab4927e8d5681416",
       "version_major": 2,
       "version_minor": 0
      },
      "text/plain": [
       "HBox(children=(FloatProgress(value=0.0, max=4.0), HTML(value='')))"
      ]
     },
     "metadata": {},
     "output_type": "display_data"
    },
    {
     "name": "stdout",
     "output_type": "stream",
     "text": [
      "\n"
     ]
    },
    {
     "data": {
      "application/vnd.jupyter.widget-view+json": {
       "model_id": "54ed34b3958f4db6960e0c9bfc6c1db7",
       "version_major": 2,
       "version_minor": 0
      },
      "text/plain": [
       "HBox(children=(FloatProgress(value=0.0, max=4.0), HTML(value='')))"
      ]
     },
     "metadata": {},
     "output_type": "display_data"
    },
    {
     "name": "stdout",
     "output_type": "stream",
     "text": [
      "\n"
     ]
    },
    {
     "data": {
      "application/vnd.jupyter.widget-view+json": {
       "model_id": "8bc47029b2fc4392b2cb04a3cee92d42",
       "version_major": 2,
       "version_minor": 0
      },
      "text/plain": [
       "HBox(children=(FloatProgress(value=0.0, max=4.0), HTML(value='')))"
      ]
     },
     "metadata": {},
     "output_type": "display_data"
    },
    {
     "name": "stdout",
     "output_type": "stream",
     "text": [
      "\n"
     ]
    },
    {
     "data": {
      "application/vnd.jupyter.widget-view+json": {
       "model_id": "91751fefb7384da1a95b61ca6ba7214d",
       "version_major": 2,
       "version_minor": 0
      },
      "text/plain": [
       "HBox(children=(FloatProgress(value=0.0, max=4.0), HTML(value='')))"
      ]
     },
     "metadata": {},
     "output_type": "display_data"
    },
    {
     "name": "stdout",
     "output_type": "stream",
     "text": [
      "\n"
     ]
    },
    {
     "data": {
      "application/vnd.jupyter.widget-view+json": {
       "model_id": "27b5312deb6c45e3aad6ee818c66e62b",
       "version_major": 2,
       "version_minor": 0
      },
      "text/plain": [
       "HBox(children=(FloatProgress(value=0.0, max=4.0), HTML(value='')))"
      ]
     },
     "metadata": {},
     "output_type": "display_data"
    },
    {
     "name": "stdout",
     "output_type": "stream",
     "text": [
      "\n"
     ]
    },
    {
     "data": {
      "application/vnd.jupyter.widget-view+json": {
       "model_id": "dc238510188f4ecc9bed02224c3d36f7",
       "version_major": 2,
       "version_minor": 0
      },
      "text/plain": [
       "HBox(children=(FloatProgress(value=0.0, max=4.0), HTML(value='')))"
      ]
     },
     "metadata": {},
     "output_type": "display_data"
    },
    {
     "name": "stdout",
     "output_type": "stream",
     "text": [
      "\n"
     ]
    },
    {
     "data": {
      "application/vnd.jupyter.widget-view+json": {
       "model_id": "ec81d3b14b40432e8fed219a6c0c712a",
       "version_major": 2,
       "version_minor": 0
      },
      "text/plain": [
       "HBox(children=(FloatProgress(value=0.0, max=4.0), HTML(value='')))"
      ]
     },
     "metadata": {},
     "output_type": "display_data"
    },
    {
     "name": "stdout",
     "output_type": "stream",
     "text": [
      "\n"
     ]
    },
    {
     "data": {
      "application/vnd.jupyter.widget-view+json": {
       "model_id": "1914a47e9b9b4543bebe6cf1b43543ed",
       "version_major": 2,
       "version_minor": 0
      },
      "text/plain": [
       "HBox(children=(FloatProgress(value=0.0, max=4.0), HTML(value='')))"
      ]
     },
     "metadata": {},
     "output_type": "display_data"
    },
    {
     "name": "stdout",
     "output_type": "stream",
     "text": [
      "\n"
     ]
    },
    {
     "data": {
      "application/vnd.jupyter.widget-view+json": {
       "model_id": "378fa0ee7a404a60982a06596ef0daa4",
       "version_major": 2,
       "version_minor": 0
      },
      "text/plain": [
       "HBox(children=(FloatProgress(value=0.0, max=4.0), HTML(value='')))"
      ]
     },
     "metadata": {},
     "output_type": "display_data"
    },
    {
     "name": "stdout",
     "output_type": "stream",
     "text": [
      "\n"
     ]
    },
    {
     "data": {
      "application/vnd.jupyter.widget-view+json": {
       "model_id": "f777a618b3e14e8ebd4bf60bda14308e",
       "version_major": 2,
       "version_minor": 0
      },
      "text/plain": [
       "HBox(children=(FloatProgress(value=0.0, max=4.0), HTML(value='')))"
      ]
     },
     "metadata": {},
     "output_type": "display_data"
    },
    {
     "name": "stdout",
     "output_type": "stream",
     "text": [
      "\n",
      "\n",
      "\n",
      "ECI\n"
     ]
    },
    {
     "data": {
      "application/vnd.jupyter.widget-view+json": {
       "model_id": "e0fb20b0a3094c718f6d8b1abab924c6",
       "version_major": 2,
       "version_minor": 0
      },
      "text/plain": [
       "HBox(children=(FloatProgress(value=0.0, max=3.0), HTML(value='')))"
      ]
     },
     "metadata": {},
     "output_type": "display_data"
    },
    {
     "data": {
      "application/vnd.jupyter.widget-view+json": {
       "model_id": "738b2c250c6e4a719847a5c443a4516b",
       "version_major": 2,
       "version_minor": 0
      },
      "text/plain": [
       "HBox(children=(FloatProgress(value=0.0, max=19.0), HTML(value='')))"
      ]
     },
     "metadata": {},
     "output_type": "display_data"
    },
    {
     "name": "stdout",
     "output_type": "stream",
     "text": [
      "nnm8nmk3_0: already computed\n",
      "nnm8nmk3_10681: already computed\n",
      "nnm8nmk3_12818: already computed\n",
      "nnm8nmk3_14954: already computed\n",
      "nnm8nmk3_17090: already computed\n",
      "nnm8nmk3_19227: already computed\n",
      "nnm8nmk3_2136: already computed\n",
      "nnm8nmk3_21363: already computed\n",
      "nnm8nmk3_23500: already computed\n",
      "nnm8nmk3_25636: already computed\n",
      "nnm8nmk3_27772: already computed\n",
      "nnm8nmk3_29909: already computed\n",
      "nnm8nmk3_32045: already computed\n",
      "nnm8nmk3_34181: already computed\n"
     ]
    },
    {
     "data": {
      "application/vnd.jupyter.widget-view+json": {
       "model_id": "2a991f5bca594285be9dd5d2b2aa1342",
       "version_major": 2,
       "version_minor": 0
      },
      "text/plain": [
       "HBox(children=(FloatProgress(value=0.0, max=4.0), HTML(value='')))"
      ]
     },
     "metadata": {},
     "output_type": "display_data"
    },
    {
     "name": "stdout",
     "output_type": "stream",
     "text": [
      "\n"
     ]
    },
    {
     "data": {
      "application/vnd.jupyter.widget-view+json": {
       "model_id": "0a5f8999b5b2469d81f3882ef0ff4742",
       "version_major": 2,
       "version_minor": 0
      },
      "text/plain": [
       "HBox(children=(FloatProgress(value=0.0, max=4.0), HTML(value='')))"
      ]
     },
     "metadata": {},
     "output_type": "display_data"
    },
    {
     "name": "stdout",
     "output_type": "stream",
     "text": [
      "\n",
      "nnm8nmk3_4272: already computed\n",
      "nnm8nmk3_6409: already computed\n",
      "nnm8nmk3_8545: already computed\n",
      "\n"
     ]
    },
    {
     "data": {
      "application/vnd.jupyter.widget-view+json": {
       "model_id": "9c4720d630704765845acb576432ae5c",
       "version_major": 2,
       "version_minor": 0
      },
      "text/plain": [
       "HBox(children=(FloatProgress(value=0.0, max=19.0), HTML(value='')))"
      ]
     },
     "metadata": {},
     "output_type": "display_data"
    },
    {
     "name": "stdout",
     "output_type": "stream",
     "text": [
      "w2aw3gyo_0: already computed\n",
      "w2aw3gyo_10681: already computed\n",
      "w2aw3gyo_12818: already computed\n",
      "w2aw3gyo_14954: already computed\n",
      "w2aw3gyo_17090: already computed\n",
      "w2aw3gyo_19227: already computed\n",
      "w2aw3gyo_2136: already computed\n",
      "w2aw3gyo_21363: already computed\n",
      "w2aw3gyo_23500: already computed\n",
      "w2aw3gyo_25636: already computed\n",
      "w2aw3gyo_27772: already computed\n",
      "w2aw3gyo_29909: already computed\n",
      "w2aw3gyo_32045: already computed\n",
      "w2aw3gyo_34181: already computed\n"
     ]
    },
    {
     "data": {
      "application/vnd.jupyter.widget-view+json": {
       "model_id": "e57bebac064b4c068072a4b9cfd7c54a",
       "version_major": 2,
       "version_minor": 0
      },
      "text/plain": [
       "HBox(children=(FloatProgress(value=0.0, max=4.0), HTML(value='')))"
      ]
     },
     "metadata": {},
     "output_type": "display_data"
    },
    {
     "name": "stdout",
     "output_type": "stream",
     "text": [
      "\n"
     ]
    },
    {
     "data": {
      "application/vnd.jupyter.widget-view+json": {
       "model_id": "7694411a085a4434af3081c70068469a",
       "version_major": 2,
       "version_minor": 0
      },
      "text/plain": [
       "HBox(children=(FloatProgress(value=0.0, max=4.0), HTML(value='')))"
      ]
     },
     "metadata": {},
     "output_type": "display_data"
    },
    {
     "name": "stdout",
     "output_type": "stream",
     "text": [
      "\n",
      "w2aw3gyo_4272: already computed\n",
      "w2aw3gyo_6409: already computed\n",
      "w2aw3gyo_8545: already computed\n",
      "\n"
     ]
    },
    {
     "data": {
      "application/vnd.jupyter.widget-view+json": {
       "model_id": "7ef7ea54883946db88f129de952addd3",
       "version_major": 2,
       "version_minor": 0
      },
      "text/plain": [
       "HBox(children=(FloatProgress(value=0.0, max=19.0), HTML(value='')))"
      ]
     },
     "metadata": {},
     "output_type": "display_data"
    },
    {
     "name": "stdout",
     "output_type": "stream",
     "text": [
      "yobtns8d_0: already computed\n",
      "yobtns8d_10681: already computed\n",
      "yobtns8d_12818: already computed\n",
      "yobtns8d_14954: already computed\n",
      "yobtns8d_17090: already computed\n",
      "yobtns8d_19227: already computed\n",
      "yobtns8d_2136: already computed\n",
      "yobtns8d_21363: already computed\n",
      "yobtns8d_23500: already computed\n",
      "yobtns8d_25636: already computed\n",
      "yobtns8d_27772: already computed\n",
      "yobtns8d_29909: already computed\n",
      "yobtns8d_32045: already computed\n",
      "yobtns8d_34181: already computed\n"
     ]
    },
    {
     "data": {
      "application/vnd.jupyter.widget-view+json": {
       "model_id": "09999afe952c48b0bc233661e8d2ea23",
       "version_major": 2,
       "version_minor": 0
      },
      "text/plain": [
       "HBox(children=(FloatProgress(value=0.0, max=4.0), HTML(value='')))"
      ]
     },
     "metadata": {},
     "output_type": "display_data"
    },
    {
     "name": "stdout",
     "output_type": "stream",
     "text": [
      "\n"
     ]
    },
    {
     "data": {
      "application/vnd.jupyter.widget-view+json": {
       "model_id": "da2574258bae44248f46f793951f7244",
       "version_major": 2,
       "version_minor": 0
      },
      "text/plain": [
       "HBox(children=(FloatProgress(value=0.0, max=4.0), HTML(value='')))"
      ]
     },
     "metadata": {},
     "output_type": "display_data"
    },
    {
     "name": "stdout",
     "output_type": "stream",
     "text": [
      "\n",
      "yobtns8d_4272: already computed\n",
      "yobtns8d_6409: already computed\n",
      "yobtns8d_8545: already computed\n",
      "\n",
      "\n",
      "ECI\n"
     ]
    },
    {
     "data": {
      "application/vnd.jupyter.widget-view+json": {
       "model_id": "631f4b231ec9444a8a20678719384ba6",
       "version_major": 2,
       "version_minor": 0
      },
      "text/plain": [
       "HBox(children=(FloatProgress(value=0.0, max=3.0), HTML(value='')))"
      ]
     },
     "metadata": {},
     "output_type": "display_data"
    },
    {
     "data": {
      "application/vnd.jupyter.widget-view+json": {
       "model_id": "fc1d60b4a324460798bbfe0c42b67013",
       "version_major": 2,
       "version_minor": 0
      },
      "text/plain": [
       "HBox(children=(FloatProgress(value=0.0, max=19.0), HTML(value='')))"
      ]
     },
     "metadata": {},
     "output_type": "display_data"
    },
    {
     "name": "stdout",
     "output_type": "stream",
     "text": [
      "nnm8nmk3_0: already computed\n",
      "nnm8nmk3_10681: already computed\n",
      "nnm8nmk3_12818: already computed\n",
      "nnm8nmk3_14954: already computed\n",
      "nnm8nmk3_17090: already computed\n",
      "nnm8nmk3_19227: already computed\n",
      "nnm8nmk3_2136: already computed\n",
      "nnm8nmk3_21363: already computed\n",
      "nnm8nmk3_23500: already computed\n",
      "nnm8nmk3_25636: already computed\n",
      "nnm8nmk3_27772: already computed\n",
      "nnm8nmk3_29909: already computed\n",
      "nnm8nmk3_32045: already computed\n",
      "nnm8nmk3_34181: already computed\n",
      "nnm8nmk3_36318: already computed\n",
      "nnm8nmk3_38454: already computed\n",
      "nnm8nmk3_4272: already computed\n",
      "nnm8nmk3_6409: already computed\n",
      "nnm8nmk3_8545: already computed\n",
      "\n"
     ]
    },
    {
     "data": {
      "application/vnd.jupyter.widget-view+json": {
       "model_id": "2dacfb6b7a454aa4a1e66166c5da5a73",
       "version_major": 2,
       "version_minor": 0
      },
      "text/plain": [
       "HBox(children=(FloatProgress(value=0.0, max=19.0), HTML(value='')))"
      ]
     },
     "metadata": {},
     "output_type": "display_data"
    },
    {
     "name": "stdout",
     "output_type": "stream",
     "text": [
      "w2aw3gyo_0: already computed\n",
      "w2aw3gyo_10681: already computed\n",
      "w2aw3gyo_12818: already computed\n",
      "w2aw3gyo_14954: already computed\n",
      "w2aw3gyo_17090: already computed\n",
      "w2aw3gyo_19227: already computed\n",
      "w2aw3gyo_2136: already computed\n",
      "w2aw3gyo_21363: already computed\n",
      "w2aw3gyo_23500: already computed\n",
      "w2aw3gyo_25636: already computed\n",
      "w2aw3gyo_27772: already computed\n",
      "w2aw3gyo_29909: already computed\n",
      "w2aw3gyo_32045: already computed\n",
      "w2aw3gyo_34181: already computed\n",
      "w2aw3gyo_36318: already computed\n",
      "w2aw3gyo_38454: already computed\n",
      "w2aw3gyo_4272: already computed\n",
      "w2aw3gyo_6409: already computed\n",
      "w2aw3gyo_8545: already computed\n",
      "\n"
     ]
    },
    {
     "data": {
      "application/vnd.jupyter.widget-view+json": {
       "model_id": "2cf7fc744b64435ab69a1058f678a0f6",
       "version_major": 2,
       "version_minor": 0
      },
      "text/plain": [
       "HBox(children=(FloatProgress(value=0.0, max=19.0), HTML(value='')))"
      ]
     },
     "metadata": {},
     "output_type": "display_data"
    },
    {
     "name": "stdout",
     "output_type": "stream",
     "text": [
      "yobtns8d_0: already computed\n",
      "yobtns8d_10681: already computed\n",
      "yobtns8d_12818: already computed\n",
      "yobtns8d_14954: already computed\n",
      "yobtns8d_17090: already computed\n",
      "yobtns8d_19227: already computed\n",
      "yobtns8d_2136: already computed\n",
      "yobtns8d_21363: already computed\n",
      "yobtns8d_23500: already computed\n",
      "yobtns8d_25636: already computed\n",
      "yobtns8d_27772: already computed\n",
      "yobtns8d_29909: already computed\n",
      "yobtns8d_32045: already computed\n",
      "yobtns8d_34181: already computed\n",
      "yobtns8d_36318: already computed\n",
      "yobtns8d_38454: already computed\n",
      "yobtns8d_4272: already computed\n",
      "yobtns8d_6409: already computed\n",
      "yobtns8d_8545: already computed\n",
      "\n",
      "\n",
      "EI\n"
     ]
    },
    {
     "data": {
      "application/vnd.jupyter.widget-view+json": {
       "model_id": "e5232fc3960146aeb22355857d0e7c76",
       "version_major": 2,
       "version_minor": 0
      },
      "text/plain": [
       "HBox(children=(FloatProgress(value=0.0, max=3.0), HTML(value='')))"
      ]
     },
     "metadata": {},
     "output_type": "display_data"
    },
    {
     "data": {
      "application/vnd.jupyter.widget-view+json": {
       "model_id": "bfcb53df147149a7bfce9f309228a8a5",
       "version_major": 2,
       "version_minor": 0
      },
      "text/plain": [
       "HBox(children=(FloatProgress(value=0.0, max=19.0), HTML(value='')))"
      ]
     },
     "metadata": {},
     "output_type": "display_data"
    },
    {
     "name": "stdout",
     "output_type": "stream",
     "text": [
      "b0yuvmhn_0: already computed\n",
      "b0yuvmhn_10681: already computed\n",
      "b0yuvmhn_12818: already computed\n",
      "b0yuvmhn_14954: already computed\n",
      "b0yuvmhn_17090: already computed\n",
      "b0yuvmhn_19227: already computed\n",
      "b0yuvmhn_2136: already computed\n",
      "b0yuvmhn_21363: already computed\n",
      "b0yuvmhn_23500: already computed\n",
      "b0yuvmhn_25636: already computed\n",
      "b0yuvmhn_27772: already computed\n",
      "b0yuvmhn_29909: already computed\n",
      "b0yuvmhn_32045: already computed\n",
      "b0yuvmhn_34181: already computed\n"
     ]
    },
    {
     "data": {
      "application/vnd.jupyter.widget-view+json": {
       "model_id": "8c0531f9a2e246dcb8ffa379322c19bd",
       "version_major": 2,
       "version_minor": 0
      },
      "text/plain": [
       "HBox(children=(FloatProgress(value=0.0, max=4.0), HTML(value='')))"
      ]
     },
     "metadata": {},
     "output_type": "display_data"
    },
    {
     "name": "stdout",
     "output_type": "stream",
     "text": [
      "\n"
     ]
    },
    {
     "data": {
      "application/vnd.jupyter.widget-view+json": {
       "model_id": "8171d8db5c1c4aaf8cef3d30b6fb53a1",
       "version_major": 2,
       "version_minor": 0
      },
      "text/plain": [
       "HBox(children=(FloatProgress(value=0.0, max=4.0), HTML(value='')))"
      ]
     },
     "metadata": {},
     "output_type": "display_data"
    },
    {
     "name": "stdout",
     "output_type": "stream",
     "text": [
      "\n",
      "b0yuvmhn_4272: already computed\n",
      "b0yuvmhn_6409: already computed\n",
      "b0yuvmhn_8545: already computed\n",
      "\n"
     ]
    },
    {
     "data": {
      "application/vnd.jupyter.widget-view+json": {
       "model_id": "24467e7645ee43d8a9259bdd991aa122",
       "version_major": 2,
       "version_minor": 0
      },
      "text/plain": [
       "HBox(children=(FloatProgress(value=0.0, max=19.0), HTML(value='')))"
      ]
     },
     "metadata": {},
     "output_type": "display_data"
    },
    {
     "name": "stdout",
     "output_type": "stream",
     "text": [
      "j2ert47a_0: already computed\n",
      "j2ert47a_10681: already computed\n",
      "j2ert47a_12818: already computed\n",
      "j2ert47a_14954: already computed\n",
      "j2ert47a_17090: already computed\n",
      "j2ert47a_19227: already computed\n",
      "j2ert47a_2136: already computed\n",
      "j2ert47a_21363: already computed\n",
      "j2ert47a_23500: already computed\n",
      "j2ert47a_25636: already computed\n",
      "j2ert47a_27772: already computed\n",
      "j2ert47a_29909: already computed\n",
      "j2ert47a_32045: already computed\n",
      "j2ert47a_34181: already computed\n"
     ]
    },
    {
     "data": {
      "application/vnd.jupyter.widget-view+json": {
       "model_id": "4d78d7bdadfd45838c4309beb586b121",
       "version_major": 2,
       "version_minor": 0
      },
      "text/plain": [
       "HBox(children=(FloatProgress(value=0.0, max=4.0), HTML(value='')))"
      ]
     },
     "metadata": {},
     "output_type": "display_data"
    },
    {
     "name": "stdout",
     "output_type": "stream",
     "text": [
      "\n"
     ]
    },
    {
     "data": {
      "application/vnd.jupyter.widget-view+json": {
       "model_id": "c0241898a9f44cabbc779d873b79ebdb",
       "version_major": 2,
       "version_minor": 0
      },
      "text/plain": [
       "HBox(children=(FloatProgress(value=0.0, max=4.0), HTML(value='')))"
      ]
     },
     "metadata": {},
     "output_type": "display_data"
    },
    {
     "name": "stdout",
     "output_type": "stream",
     "text": [
      "\n",
      "j2ert47a_4272: already computed\n",
      "j2ert47a_6409: already computed\n",
      "j2ert47a_8545: already computed\n",
      "\n"
     ]
    },
    {
     "data": {
      "application/vnd.jupyter.widget-view+json": {
       "model_id": "11f2fe1bb8b440aa8bf3dbbdfa715caf",
       "version_major": 2,
       "version_minor": 0
      },
      "text/plain": [
       "HBox(children=(FloatProgress(value=0.0, max=19.0), HTML(value='')))"
      ]
     },
     "metadata": {},
     "output_type": "display_data"
    },
    {
     "name": "stdout",
     "output_type": "stream",
     "text": [
      "xyato4v6_0: already computed\n",
      "xyato4v6_10681: already computed\n",
      "xyato4v6_12818: already computed\n",
      "xyato4v6_14954: already computed\n",
      "xyato4v6_17090: already computed\n",
      "xyato4v6_19227: already computed\n",
      "xyato4v6_2136: already computed\n",
      "xyato4v6_21363: already computed\n",
      "xyato4v6_23500: already computed\n",
      "xyato4v6_25636: already computed\n",
      "xyato4v6_27772: already computed\n",
      "xyato4v6_29909: already computed\n",
      "xyato4v6_32045: already computed\n",
      "xyato4v6_34181: already computed\n"
     ]
    },
    {
     "data": {
      "application/vnd.jupyter.widget-view+json": {
       "model_id": "b0a90780a29d4784953c3e0a93f9c03e",
       "version_major": 2,
       "version_minor": 0
      },
      "text/plain": [
       "HBox(children=(FloatProgress(value=0.0, max=4.0), HTML(value='')))"
      ]
     },
     "metadata": {},
     "output_type": "display_data"
    },
    {
     "name": "stdout",
     "output_type": "stream",
     "text": [
      "\n"
     ]
    },
    {
     "data": {
      "application/vnd.jupyter.widget-view+json": {
       "model_id": "89982971a96d4707b7b97a3231c747ad",
       "version_major": 2,
       "version_minor": 0
      },
      "text/plain": [
       "HBox(children=(FloatProgress(value=0.0, max=4.0), HTML(value='')))"
      ]
     },
     "metadata": {},
     "output_type": "display_data"
    },
    {
     "name": "stdout",
     "output_type": "stream",
     "text": [
      "\n",
      "xyato4v6_4272: already computed\n",
      "xyato4v6_6409: already computed\n",
      "xyato4v6_8545: already computed\n",
      "\n",
      "\n",
      "VIB\n"
     ]
    },
    {
     "data": {
      "application/vnd.jupyter.widget-view+json": {
       "model_id": "eb4984e2835947fe8d12fb08bac385b3",
       "version_major": 2,
       "version_minor": 0
      },
      "text/plain": [
       "HBox(children=(FloatProgress(value=0.0, max=3.0), HTML(value='')))"
      ]
     },
     "metadata": {},
     "output_type": "display_data"
    },
    {
     "data": {
      "application/vnd.jupyter.widget-view+json": {
       "model_id": "1b1a72aee926452790c9ad53274f6975",
       "version_major": 2,
       "version_minor": 0
      },
      "text/plain": [
       "HBox(children=(FloatProgress(value=0.0, max=18.0), HTML(value='')))"
      ]
     },
     "metadata": {},
     "output_type": "display_data"
    },
    {
     "name": "stdout",
     "output_type": "stream",
     "text": [
      "1v6ik37x_0: already computed\n",
      "1v6ik37x_11750: already computed\n",
      "1v6ik37x_14100: already computed\n",
      "1v6ik37x_16450: already computed\n",
      "1v6ik37x_18800: already computed\n",
      "1v6ik37x_21150: already computed\n",
      "1v6ik37x_2350: already computed\n",
      "1v6ik37x_23500: already computed\n",
      "1v6ik37x_25850: already computed\n",
      "1v6ik37x_28200: already computed\n",
      "1v6ik37x_30550: already computed\n",
      "1v6ik37x_32900: already computed\n"
     ]
    },
    {
     "data": {
      "application/vnd.jupyter.widget-view+json": {
       "model_id": "111b307e69fe45dd91f968ae3b02be8d",
       "version_major": 2,
       "version_minor": 0
      },
      "text/plain": [
       "HBox(children=(FloatProgress(value=0.0, max=4.0), HTML(value='')))"
      ]
     },
     "metadata": {},
     "output_type": "display_data"
    },
    {
     "name": "stdout",
     "output_type": "stream",
     "text": [
      "\n"
     ]
    },
    {
     "data": {
      "application/vnd.jupyter.widget-view+json": {
       "model_id": "343abe8fe37e4312963d5a9fef64b5ff",
       "version_major": 2,
       "version_minor": 0
      },
      "text/plain": [
       "HBox(children=(FloatProgress(value=0.0, max=4.0), HTML(value='')))"
      ]
     },
     "metadata": {},
     "output_type": "display_data"
    },
    {
     "name": "stdout",
     "output_type": "stream",
     "text": [
      "\n"
     ]
    },
    {
     "data": {
      "application/vnd.jupyter.widget-view+json": {
       "model_id": "309183fbb54c45628ad66c442aa95aa1",
       "version_major": 2,
       "version_minor": 0
      },
      "text/plain": [
       "HBox(children=(FloatProgress(value=0.0, max=4.0), HTML(value='')))"
      ]
     },
     "metadata": {},
     "output_type": "display_data"
    },
    {
     "name": "stdout",
     "output_type": "stream",
     "text": [
      "\n",
      "1v6ik37x_4700: already computed\n",
      "1v6ik37x_7050: already computed\n",
      "1v6ik37x_9400: already computed\n",
      "\n"
     ]
    },
    {
     "data": {
      "application/vnd.jupyter.widget-view+json": {
       "model_id": "8177f817367e40b980466a01481fbaf2",
       "version_major": 2,
       "version_minor": 0
      },
      "text/plain": [
       "HBox(children=(FloatProgress(value=0.0, max=18.0), HTML(value='')))"
      ]
     },
     "metadata": {},
     "output_type": "display_data"
    },
    {
     "name": "stdout",
     "output_type": "stream",
     "text": [
      "88w4na4y_0: already computed\n",
      "88w4na4y_11750: already computed\n",
      "88w4na4y_14100: already computed\n",
      "88w4na4y_16450: already computed\n",
      "88w4na4y_18800: already computed\n",
      "88w4na4y_21150: already computed\n",
      "88w4na4y_2350: already computed\n",
      "88w4na4y_23500: already computed\n",
      "88w4na4y_25850: already computed\n",
      "88w4na4y_28200: already computed\n",
      "88w4na4y_30550: already computed\n",
      "88w4na4y_32900: already computed\n"
     ]
    },
    {
     "data": {
      "application/vnd.jupyter.widget-view+json": {
       "model_id": "11500257eb31436ba11f24621921d044",
       "version_major": 2,
       "version_minor": 0
      },
      "text/plain": [
       "HBox(children=(FloatProgress(value=0.0, max=4.0), HTML(value='')))"
      ]
     },
     "metadata": {},
     "output_type": "display_data"
    },
    {
     "name": "stdout",
     "output_type": "stream",
     "text": [
      "\n"
     ]
    },
    {
     "data": {
      "application/vnd.jupyter.widget-view+json": {
       "model_id": "a18eafe114654abab6e2593f991532ae",
       "version_major": 2,
       "version_minor": 0
      },
      "text/plain": [
       "HBox(children=(FloatProgress(value=0.0, max=4.0), HTML(value='')))"
      ]
     },
     "metadata": {},
     "output_type": "display_data"
    },
    {
     "name": "stdout",
     "output_type": "stream",
     "text": [
      "\n"
     ]
    },
    {
     "data": {
      "application/vnd.jupyter.widget-view+json": {
       "model_id": "42d23636694341d294213604e5770016",
       "version_major": 2,
       "version_minor": 0
      },
      "text/plain": [
       "HBox(children=(FloatProgress(value=0.0, max=4.0), HTML(value='')))"
      ]
     },
     "metadata": {},
     "output_type": "display_data"
    },
    {
     "name": "stdout",
     "output_type": "stream",
     "text": [
      "\n",
      "88w4na4y_4700: already computed\n",
      "88w4na4y_7050: already computed\n",
      "88w4na4y_9400: already computed\n",
      "\n"
     ]
    },
    {
     "data": {
      "application/vnd.jupyter.widget-view+json": {
       "model_id": "b17a473c2c64422a92c5589b8c1f4875",
       "version_major": 2,
       "version_minor": 0
      },
      "text/plain": [
       "HBox(children=(FloatProgress(value=0.0, max=18.0), HTML(value='')))"
      ]
     },
     "metadata": {},
     "output_type": "display_data"
    },
    {
     "name": "stdout",
     "output_type": "stream",
     "text": [
      "85wm1r49_0: already computed\n",
      "85wm1r49_11750: already computed\n",
      "85wm1r49_14100: already computed\n",
      "85wm1r49_16450: already computed\n",
      "85wm1r49_18800: already computed\n",
      "85wm1r49_21150: already computed\n",
      "85wm1r49_2350: already computed\n",
      "85wm1r49_23500: already computed\n",
      "85wm1r49_25850: already computed\n",
      "85wm1r49_28200: already computed\n",
      "85wm1r49_30550: already computed\n",
      "85wm1r49_32900: already computed\n"
     ]
    },
    {
     "data": {
      "application/vnd.jupyter.widget-view+json": {
       "model_id": "e97dfadeae914fb487da5cecc7b2895d",
       "version_major": 2,
       "version_minor": 0
      },
      "text/plain": [
       "HBox(children=(FloatProgress(value=0.0, max=4.0), HTML(value='')))"
      ]
     },
     "metadata": {},
     "output_type": "display_data"
    },
    {
     "name": "stdout",
     "output_type": "stream",
     "text": [
      "\n"
     ]
    },
    {
     "data": {
      "application/vnd.jupyter.widget-view+json": {
       "model_id": "b6f45f60967f4dababe2fb08577697f7",
       "version_major": 2,
       "version_minor": 0
      },
      "text/plain": [
       "HBox(children=(FloatProgress(value=0.0, max=4.0), HTML(value='')))"
      ]
     },
     "metadata": {},
     "output_type": "display_data"
    },
    {
     "name": "stdout",
     "output_type": "stream",
     "text": [
      "\n"
     ]
    },
    {
     "data": {
      "application/vnd.jupyter.widget-view+json": {
       "model_id": "b7788f744795476b9cf12c029ac75938",
       "version_major": 2,
       "version_minor": 0
      },
      "text/plain": [
       "HBox(children=(FloatProgress(value=0.0, max=4.0), HTML(value='')))"
      ]
     },
     "metadata": {},
     "output_type": "display_data"
    },
    {
     "name": "stdout",
     "output_type": "stream",
     "text": [
      "\n",
      "85wm1r49_4700: already computed\n",
      "85wm1r49_7050: already computed\n",
      "85wm1r49_9400: already computed\n",
      "\n",
      "\n"
     ]
    }
   ],
   "source": [
    "dataset = 'D_CMNIST'\n",
    "\n",
    "max_iterations = 40000\n",
    "\n",
    "recompute = False\n",
    "arch_filepath = 'definitions/architectures/CMNIST.py'\n",
    "save_path = 'results/final_eval'\n",
    "\n",
    "data_filepath = os.path.join(save_path,'runs_%s.yml'%dataset)\n",
    "\n",
    "from data import *\n",
    "from eval.accuracy import AccuracyEvaluation, CrossEntropyEvaluation\n",
    "from utils.run_manager.wandb import WANDBRunManager\n",
    "\n",
    "datasets = {}\n",
    "\n",
    "datasets['train_t0'] = DynamicCMNIST(path='datasets/MNIST', split='train+valid', \n",
    "                         cond_dist_file='data/cmnist_resources/%s_t0.pyt'%(dataset))\n",
    "datasets['train_t1'] = DynamicCMNIST(path='datasets/MNIST', split='train+valid', \n",
    "                         cond_dist_file='data/cmnist_resources/%s_t1.pyt'%(dataset))\n",
    "datasets['test_t0'] = DynamicCMNIST(path='datasets/MNIST', split='test', \n",
    "                         cond_dist_file='data/cmnist_resources/%s_t0.pyt'%(dataset))\n",
    "datasets['test_t1'] = DynamicCMNIST(path='datasets/MNIST', split='test', \n",
    "                         cond_dist_file='data/cmnist_resources/%s_t1.pyt'%(dataset))\n",
    "\n",
    "results = []\n",
    "ids = []\n",
    "\n",
    "if os.path.isfile(data_filepath):\n",
    "    with open(data_filepath, 'r') as file:\n",
    "        results = yaml.safe_load(file)\n",
    "    ids = [row['rid'] for row in results]\n",
    "\n",
    "for algorithm in rm.get_algorithms(dataset):\n",
    "    runs = rm.get_runs(dataset, algorithm)\n",
    "    print(algorithm)\n",
    "    \n",
    "    for run in tqdm(runs):\n",
    "        \n",
    "        \n",
    "        run_manager = WANDBRunManager(experiments_root='.', arch_filepath=arch_filepath, \n",
    "                                      desc=None, run_id=run.id, verbose=False, init=False, resume=False)\n",
    "        \n",
    "        try:\n",
    "            trainer, _ = run_manager.make_instances()\n",
    "        except Exception as e:\n",
    "            print(e)\n",
    "            continue\n",
    "\n",
    "        evaluators = {}\n",
    "        for d in datasets:\n",
    "            evaluators['CE(%s)'% d] = CrossEntropyEvaluation(trainer=trainer, datasets=datasets, evaluate_on=d)\n",
    "\n",
    "        \n",
    "        files = [file for file in run.files() if file.name.endswith('.pt')]\n",
    "        all_models = []\n",
    "        for file in files:\n",
    "            if '_' in file.name:\n",
    "                iteration = int(file.name.split('_')[1].split('.')[0])\n",
    "                if iteration < max_iterations:\n",
    "                    all_models.append(file)\n",
    "        \n",
    "        for file in tqdm(all_models):\n",
    "            \n",
    "            \n",
    "            iteration = int(file.name.split('_')[1].split('.')[0])\n",
    "            \n",
    "            if run.id in ids and not recompute:\n",
    "                if iteration in [row['iterations'] for row in results if row['rid']==run.id]:\n",
    "                    print('%s_%d: already computed'%(run.id, iteration))\n",
    "                    continue\n",
    "            \n",
    "            evaluation = {}\n",
    "            \n",
    "            run_manager.load_model(trainer, file.name)\n",
    "            \n",
    "            for name, evaluator in tqdm(evaluators.items()):\n",
    "                evaluation[name] = float(evaluator.evaluate()['value'])\n",
    "\n",
    "            evaluation['rid'] = run.id\n",
    "            evaluation['iterations'] = iteration\n",
    "            #evaluation['beta'] = trainer.beta_scheduler(trainer.iteration)\n",
    "            \n",
    "            results.append(evaluation)\n",
    "\n",
    "\n",
    "with open(data_filepath, 'w') as file:\n",
    "    yaml.dump(results, file)\n",
    "    \n",
    "results = pd.DataFrame(results)"
   ]
  },
  {
   "cell_type": "code",
   "execution_count": null,
   "metadata": {},
   "outputs": [],
   "source": []
  },
  {
   "cell_type": "code",
   "execution_count": 17,
   "metadata": {},
   "outputs": [
    {
     "data": {
      "image/png": "[encoded data removed]",
      "text/plain": [
       "<Figure size 360x360 with 1 Axes>"
      ]
     },
     "metadata": {
      "needs_background": "light"
     },
     "output_type": "display_data"
    }
   ],
   "source": [
    "pd_r = pd.DataFrame(results)\n",
    "pd_r = pd_r.sort_values('iterations')\n",
    "f, ax = plt.subplots(1,1, figsize=(5,5))\n",
    "sns.despine()\n",
    "\n",
    "##for rid in pd_r['']\n",
    "#pd_r.plot(x='CE(train_t0)',y='CE(train_t1)', ax=ax)\n",
    "#decorate_plot(rm.datasets_info[dataset], ax)\n",
    "\n",
    "legend_items = []\n",
    "\n",
    "decorate_plot(rm.datasets_info[dataset],rm.style_info, ax, ['p(y|x,t=1)','p(y|t=1)','p(y|c,t=1)', 'p(y|d,t=1)', \n",
    "                                                            'I(X;Z)','I(E;Z)', 'I(E;Y|Z)', 'I(E;Z|Y)'])\n",
    "\n",
    "min_max = {\n",
    "    'ECI': {'min': 4000, 'max': 25000},\n",
    "    'EI': {'min': 4000, 'max': 25000},\n",
    "    'VIB': {'min': 4000, 'max': 30000},\n",
    "    'VREx': {'min': 4000, 'max': 30000},\n",
    "     'IRM': {'min': 4000, 'max': 30000}\n",
    "}\n",
    "\n",
    "for rid in pd_r['rid'].unique():\n",
    "    dataset, algorithm = rm.rid2datalg(rid)\n",
    "    s_pd = pd_r[pd_r['rid']==rid]\n",
    "    s_pd = s_pd[s_pd['iterations']>=min_max[algorithm]['min']]\n",
    "    s_pd = s_pd[s_pd['iterations']<=min_max[algorithm]['max']]\n",
    "    s_pd = s_pd.sort_values('iterations')\n",
    "    params = rm.style_info[algorithm]['params']\n",
    "    label = rm.style_info[algorithm]['name'] \n",
    "    \n",
    "    if label!='IRM':# and label!='VIB' :\n",
    "        continue\n",
    "    \n",
    "    if label in legend_items:\n",
    "        label = None\n",
    "    else:\n",
    "        legend_items.append(label)\n",
    "    ax.plot(s_pd['CE(train_t0)'], s_pd['CE(test_t1)'], 'ow', markersize=8, alpha=1)\n",
    "    ax.plot(s_pd['CE(train_t0)'], s_pd['CE(test_t1)'], **params, alpha=0.5, label=label)\n",
    "    \n",
    "handles, labels = ax.get_legend_handles_labels()\n",
    "order = [0,1,2,3,4,5,6,7,8]#,9,5,8,4,10]\n",
    "handles = [handles[i] for i in order]\n",
    "labels = [labels[i] for i in order]\n",
    "\n",
    "leg = ax.legend(handles, labels, loc='center left', bbox_to_anchor=(1, 0.5),fontsize=15,)\n",
    "#leg = ax.legend(loc='center left', bbox_to_anchor=(1, 0.5),fontsize=15)\n",
    "    \n",
    "for i, lh in enumerate(leg.legendHandles): \n",
    "    if i< 4:\n",
    "        lh.set_linewidth(0)\n",
    "    lh._legmarker.set_alpha(1)\n",
    "\n",
    "#ax.set_title(rm.datasets_info[dataset]['name'], size=20)\n",
    "#ax.set_title('CMNIST ($e\\\\to \\\\hat y$)', size=20)\n",
    "\n",
    "replace_labels = {\n",
    "    '$p(y|x,t=1)$': '$p(y|{\\\\bf x},t=1)$',\n",
    "    '$p(y|d,t=1)$': '$p(y|{\\\\hat y},t=1)$'\n",
    "}\n",
    "\n",
    "for text in leg.get_texts():\n",
    "    label = text.get_text()\n",
    "    if label in replace_labels:\n",
    "        text.set_text(replace_labels[label])"
   ]
  },
  {
   "cell_type": "code",
   "execution_count": 14,
   "metadata": {},
   "outputs": [
    {
     "data": {
      "text/plain": [
       "[{'train': 0.694145330786705, 'test': 0.6918183088302612, 'step': 0},\n",
       " {'train': 0.40736257582902907, 'test': 1.660610741376877, 'step': 235},\n",
       " {'train': 0.4111090645194054, 'test': 1.5513818502426147, 'step': 470},\n",
       " {'train': 0.3989963665604591, 'test': 1.6013743877410889, 'step': 705},\n",
       " {'train': 0.39567639827728274, 'test': 1.4688052117824555, 'step': 940},\n",
       " {'train': 0.3852785170078278, 'test': 1.423546153306961, 'step': 1175},\n",
       " {'train': 0.3838342770934105, 'test': 1.543105411529541, 'step': 1410},\n",
       " {'train': 0.37370828688144686, 'test': 1.4689481437206269, 'step': 1645},\n",
       " {'train': 0.3702715516090393, 'test': 1.4437385261058808, 'step': 1880},\n",
       " {'train': 0.3550704389810562, 'test': 1.4744729220867157, 'step': 2115},\n",
       " {'train': 0.3722931668162346, 'test': 1.4383042216300965, 'step': 2350},\n",
       " {'train': 0.3675129756331444, 'test': 1.4717551052570343, 'step': 2585},\n",
       " {'train': 0.363409985601902, 'test': 1.4480253636837006, 'step': 2820},\n",
       " {'train': 0.33920521289110184, 'test': 1.4064964175224304, 'step': 3055},\n",
       " {'train': 0.35490807741880415, 'test': 1.5014351904392242, 'step': 3290},\n",
       " {'train': 0.3567515045404434, 'test': 1.421907788515091, 'step': 3525},\n",
       " {'train': 0.36269197314977647, 'test': 1.403900182247162, 'step': 3760},\n",
       " {'train': 0.3735015094280243, 'test': 1.4087801933288575, 'step': 3995},\n",
       " {'train': 0.3609652206301689, 'test': 1.4424587607383728, 'step': 4230},\n",
       " {'train': 0.3658482596278191, 'test': 1.3522017061710359, 'step': 4465},\n",
       " {'train': 0.36661329716444013, 'test': 1.4117289423942565, 'step': 4700},\n",
       " {'train': 0.3774006515741348, 'test': 1.4190873682498932, 'step': 4935},\n",
       " {'train': 0.36316766291856767, 'test': 1.4123429477214813, 'step': 5170},\n",
       " {'train': 0.3795461609959602, 'test': 1.3945208966732026, 'step': 5405},\n",
       " {'train': 0.35607720464468, 'test': 1.312348860502243, 'step': 5640},\n",
       " {'train': 0.3679774612188339, 'test': 1.2688641011714936, 'step': 5875},\n",
       " {'train': 0.37735636383295057, 'test': 1.2833719670772552, 'step': 6110},\n",
       " {'train': 0.37901498526334765, 'test': 1.2351757526397704, 'step': 6345},\n",
       " {'train': 0.3842972442507744, 'test': 1.1841842651367187, 'step': 6580},\n",
       " {'train': 0.3918341502547264, 'test': 1.204191905260086, 'step': 6815},\n",
       " {'train': 0.3862502261996269, 'test': 1.10562504529953, 'step': 7050},\n",
       " {'train': 0.40199256092309954, 'test': 1.0802269220352172, 'step': 7285},\n",
       " {'train': 0.44924547225236894, 'test': 0.9780067473649978, 'step': 7520},\n",
       " {'train': 0.4048811733722687, 'test': 1.0673271715641022, 'step': 7755},\n",
       " {'train': 0.4179440915584564, 'test': 0.9683452874422074, 'step': 7990},\n",
       " {'train': 0.41949759870767594, 'test': 0.9859506338834763, 'step': 8225},\n",
       " {'train': 0.4157977417111397, 'test': 0.979996845126152, 'step': 8460},\n",
       " {'train': 0.4095618069171906, 'test': 0.9503848016262054, 'step': 8695},\n",
       " {'train': 0.4218776926398277, 'test': 0.9702821165323258, 'step': 8930},\n",
       " {'train': 0.415507036447525, 'test': 0.9751465857028961, 'step': 9165},\n",
       " {'train': 0.4253812819719315, 'test': 0.9227413326501847, 'step': 9400},\n",
       " {'train': 0.45379444360733034, 'test': 0.8965441882610321, 'step': 9635},\n",
       " {'train': 0.4497245281934738, 'test': 0.8910353690385818, 'step': 9870},\n",
       " {'train': 0.4745553210377693, 'test': 0.8244528383016586, 'step': 10105},\n",
       " {'train': 0.4848539739847183, 'test': 0.7783627092838288, 'step': 10340},\n",
       " {'train': 0.4766653671860695, 'test': 0.8349506109952927, 'step': 10575},\n",
       " {'train': 0.46557798981666565, 'test': 0.7957081913948059, 'step': 10810},\n",
       " {'train': 0.45418554842472075, 'test': 0.8752959966659546, 'step': 11045},\n",
       " {'train': 0.42874861508607864, 'test': 0.9794545322656631, 'step': 11280},\n",
       " {'train': 0.44527691751718523, 'test': 0.9289452940225601, 'step': 11515},\n",
       " {'train': 0.4632527455687523, 'test': 0.8478620320558548, 'step': 11750},\n",
       " {'train': 0.4765788376331329, 'test': 0.8072930604219437, 'step': 11985},\n",
       " {'train': 0.49854197949171064, 'test': 0.7570195138454437, 'step': 12220},\n",
       " {'train': 0.47000439167022706, 'test': 0.8414470493793488, 'step': 12455},\n",
       " {'train': 0.4514693573117256, 'test': 0.8978763043880462, 'step': 12690},\n",
       " {'train': 0.4775422990322113, 'test': 0.8171172171831131, 'step': 12925},\n",
       " {'train': 0.4717351719737053, 'test': 0.8302967250347137, 'step': 13160},\n",
       " {'train': 0.4945649281144142, 'test': 0.7812580198049546, 'step': 13395},\n",
       " {'train': 0.4598142996430397, 'test': 0.8419886231422424, 'step': 13630},\n",
       " {'train': 0.47416197657585146, 'test': 0.7948598057031632, 'step': 13865},\n",
       " {'train': 0.48970683962106704, 'test': 0.7615145355463028, 'step': 14100},\n",
       " {'train': 0.49658032059669494, 'test': 0.8189192116260529, 'step': 14335},\n",
       " {'train': 0.49585242867469786, 'test': 0.7666270196437835, 'step': 14570},\n",
       " {'train': 0.49439055025577544, 'test': 0.8236865341663361, 'step': 14805},\n",
       " {'train': 0.4892263516783714, 'test': 0.7912018179893494, 'step': 15040},\n",
       " {'train': 0.48654224425554277, 'test': 0.7977324396371841, 'step': 15275},\n",
       " {'train': 0.4813456594944, 'test': 0.8310711711645127, 'step': 15510},\n",
       " {'train': 0.5173066198825836, 'test': 0.7525055855512619, 'step': 15745},\n",
       " {'train': 0.5190714627504349, 'test': 0.7297607332468032, 'step': 15980},\n",
       " {'train': 0.4819926083087921, 'test': 0.7998790860176086, 'step': 16215},\n",
       " {'train': 0.5339280918240548, 'test': 0.7109959244728088, 'step': 16450},\n",
       " {'train': 0.504449899494648, 'test': 0.7917557120323181, 'step': 16685},\n",
       " {'train': 0.48983478248119355, 'test': 0.8191906988620759, 'step': 16920},\n",
       " {'train': 0.489189101755619, 'test': 0.8277078211307526, 'step': 17155},\n",
       " {'train': 0.5036005303263664, 'test': 0.774960994720459, 'step': 17390},\n",
       " {'train': 0.5247882336378098, 'test': 0.7357565134763717, 'step': 17625},\n",
       " {'train': 0.515095928311348, 'test': 0.740156301856041, 'step': 17860},\n",
       " {'train': 0.5206652328372001, 'test': 0.7973661869764328, 'step': 18095},\n",
       " {'train': 0.5440590649843215, 'test': 0.7114599466323852, 'step': 18330},\n",
       " {'train': 0.5135525375604629, 'test': 0.7812224894762039, 'step': 18565},\n",
       " {'train': 0.5039771780371666, 'test': 0.7738869100809097, 'step': 18800},\n",
       " {'train': 0.5151892513036728, 'test': 0.7268327057361603, 'step': 19035},\n",
       " {'train': 0.5214814051985741, 'test': 0.7512042164802551, 'step': 19270},\n",
       " {'train': 0.5439140021800994, 'test': 0.7039077281951904, 'step': 19505},\n",
       " {'train': 0.5451338738203049, 'test': 0.6881715387105942, 'step': 19740},\n",
       " {'train': 0.5432306945323944, 'test': 0.709908264875412, 'step': 19975},\n",
       " {'train': 0.5405299961566925, 'test': 0.6941707521677017, 'step': 20210},\n",
       " {'train': 0.5174037858843803, 'test': 0.725574380159378, 'step': 20445},\n",
       " {'train': 0.4917441114783287, 'test': 0.8025311440229416, 'step': 20680},\n",
       " {'train': 0.5002948462963104, 'test': 0.787009459733963, 'step': 20915},\n",
       " {'train': 0.5175214111804962, 'test': 0.740678009390831, 'step': 21150},\n",
       " {'train': 0.5480882048606872, 'test': 0.6725194156169891, 'step': 21385},\n",
       " {'train': 0.5260092318058014, 'test': 0.7429570913314819, 'step': 21620},\n",
       " {'train': 0.515634648501873, 'test': 0.7232565402984619, 'step': 21855},\n",
       " {'train': 0.5384580984711647, 'test': 0.6854362964630127, 'step': 22090},\n",
       " {'train': 0.5962533265352249, 'test': 0.637270936369896, 'step': 22325},\n",
       " {'train': 0.5201722636818886, 'test': 0.7300518125295639, 'step': 22560},\n",
       " {'train': 0.569035279750824, 'test': 0.6608127236366272, 'step': 22795},\n",
       " {'train': 0.572316375374794, 'test': 0.6397043257951737, 'step': 23030},\n",
       " {'train': 0.5130971953272819, 'test': 0.7419771671295166, 'step': 23265},\n",
       " {'train': 0.5407344713807106, 'test': 0.7029362052679062, 'step': 23500},\n",
       " {'train': 0.5573479384183884, 'test': 0.6882028967142105, 'step': 23735},\n",
       " {'train': 0.553620134294033, 'test': 0.6810358434915542, 'step': 23970},\n",
       " {'train': 0.5496214807033539, 'test': 0.6846408516168594, 'step': 24205},\n",
       " {'train': 0.5300414085388183, 'test': 0.7292851865291595, 'step': 24440},\n",
       " {'train': 0.536933633685112, 'test': 0.7046796143054962, 'step': 24675},\n",
       " {'train': 0.5416132569313049, 'test': 0.7059491574764252, 'step': 24910},\n",
       " {'train': 0.5264016404747963, 'test': 0.7408450722694397, 'step': 25145},\n",
       " {'train': 0.5515336066484451, 'test': 0.6759929627180099, 'step': 25380},\n",
       " {'train': 0.5352530777454376, 'test': 0.7085668563842773, 'step': 25615},\n",
       " {'train': 0.5072268053889275, 'test': 0.7352948874235153, 'step': 25850},\n",
       " {'train': 0.5252951249480248, 'test': 0.698789095878601, 'step': 26085},\n",
       " {'train': 0.5270588576793671, 'test': 0.7641943782567978, 'step': 26320},\n",
       " {'train': 0.5742323011159897, 'test': 0.6982905864715576, 'step': 26555},\n",
       " {'train': 0.5600625216960907, 'test': 0.6979825079441071, 'step': 26790},\n",
       " {'train': 0.5906799554824829, 'test': 0.6647212088108063, 'step': 27025},\n",
       " {'train': 0.5697039157152176, 'test': 0.683685177564621, 'step': 27260},\n",
       " {'train': 0.5379527240991593, 'test': 0.7237413585186004, 'step': 27495},\n",
       " {'train': 0.5699652373790741, 'test': 0.6880339086055756, 'step': 27730},\n",
       " {'train': 0.5699426531791687, 'test': 0.6512903243303299, 'step': 27965},\n",
       " {'train': 0.5468359723687172, 'test': 0.6987520396709442, 'step': 28200},\n",
       " {'train': 0.5507929623126984, 'test': 0.7052208751440048, 'step': 28435},\n",
       " {'train': 0.5338714301586152, 'test': 0.7074714332818985, 'step': 28670},\n",
       " {'train': 0.5507316321134568, 'test': 0.7275531351566314, 'step': 28905},\n",
       " {'train': 0.5677392482757568, 'test': 0.6678849995136261, 'step': 29140},\n",
       " {'train': 0.5552188009023666, 'test': 0.6885033041238785, 'step': 29375},\n",
       " {'train': 0.550260566174984, 'test': 0.6981365263462067, 'step': 29610},\n",
       " {'train': 0.5318831667304039, 'test': 0.7379870116710663, 'step': 29845}]"
      ]
     },
     "execution_count": 14,
     "metadata": {},
     "output_type": "execute_result"
    }
   ],
   "source": [
    "data"
   ]
  },
  {
   "cell_type": "code",
   "execution_count": 76,
   "metadata": {},
   "outputs": [
    {
     "data": {
      "text/plain": [
       "<matplotlib.legend.Legend at 0x7f0efd272e80>"
      ]
     },
     "execution_count": 76,
     "metadata": {},
     "output_type": "execute_result"
    },
    {
     "data": {
      "image/png": "[encoded data removed]",
      "text/plain": [
       "<Figure size 360x360 with 1 Axes>"
      ]
     },
     "metadata": {
      "needs_background": "light"
     },
     "output_type": "display_data"
    }
   ],
   "source": [
    "min_iterations = 4000\n",
    "max_iterations = 25000\n",
    "\n",
    "pd_data = pd.DataFrame(data)\n",
    "\n",
    "\n",
    "pd_data = pd_data[pd_data['iterations']>min_iterations]\n",
    "pd_data = pd_data[pd_data['iterations']<max_iterations]\n",
    "f, ax = plt.subplots(1,1,figsize=(5,5))\n",
    "decorate_plot(rm.datasets_info[dataset], ax)\n",
    "\n",
    "sns.lineplot(data=pd_data, x='CE(train_t0)',y='CE(test_t1)', marker='o',linewidth=3, hue='algorithm')\n",
    "ax.legend()"
   ]
  },
  {
   "cell_type": "code",
   "execution_count": 174,
   "metadata": {},
   "outputs": [],
   "source": [
    "%matplotlib inline\n",
    "\n",
    "import numpy as np\n",
    "import matplotlib.pyplot as plt\n",
    "\n",
    "from matplotlib import animation, rc\n",
    "from IPython.display import HTML"
   ]
  },
  {
   "cell_type": "code",
   "execution_count": null,
   "metadata": {},
   "outputs": [],
   "source": []
  },
  {
   "cell_type": "code",
   "execution_count": 240,
   "metadata": {},
   "outputs": [],
   "source": [
    "def make_animation(run, ax, x='CE(train_t0)', y='CE(test_t1)', n=10, color='b', samples=1000, max_steps=100000):\n",
    "    \n",
    "    print('Scanning history')\n",
    "    h = run.history(samples=samples, pandas=False)\n",
    "    \n",
    "    data = [{'x':r[x], \n",
    "                 'y':r[y],\n",
    "                 'step': r['_step']} for r in h if y in r]\n",
    "    \n",
    "    \n",
    "    data = [{'x':r['x'], \n",
    "                 'y':r['y'],\n",
    "                 'step': r['step']} for r in data if isinstance(r['x'], float) and isinstance(r['y'], float)]\n",
    "   \n",
    "    lines = []\n",
    "    i = 0\n",
    "    for k in range(n):\n",
    "        idx = i-k\n",
    "        idx_ = idx-1\n",
    "        if idx<0:\n",
    "            idx=0\n",
    "        if idx_<0:\n",
    "            idx_=0\n",
    "        alpha = 1-(float(k+1.0)/(n+1.0))\n",
    "        line, = ax.plot([], [], '.-', color=color, alpha=alpha)\n",
    "        lines.append(line)\n",
    "    \n",
    "    # initialization function: plot the background of each frame\n",
    "    def init():\n",
    "        for k in range(n):\n",
    "            idx = i-k\n",
    "            idx_ = idx-1\n",
    "            if idx<0:\n",
    "                idx=0\n",
    "            if idx_<0:\n",
    "                idx_=0\n",
    "            alpha = float(k+1.0)/(n+1.0)\n",
    "            lines[k].set_data([data[idx_]['x'],data[idx]['x']], [data[idx_]['y'],data[idx]['y']])\n",
    "            lines[k].set_alpha(alpha)\n",
    "        return lines\n",
    "\n",
    "    # animation function. This is called sequentially\n",
    "    def animate(i):\n",
    "        for k in range(n):\n",
    "            idx = i-k\n",
    "            idx_ = idx-1\n",
    "            if idx<0:\n",
    "                idx=0\n",
    "            if idx_<0:\n",
    "                idx_=0\n",
    "            alpha = 1-(float(k+1.0)/(n+1.0))\n",
    "            lines[k].set_data([data[idx_]['x'],data[idx]['x']], [data[idx_]['y'],data[idx]['y']])\n",
    "            lines[k].set_alpha(alpha)\n",
    "        return lines\n",
    "    \n",
    "    print('Animating')\n",
    "    # call the animator. blit=True means only re-draw the parts that have changed.\n",
    "    anim = animation.FuncAnimation(fig, animate, init_func=init,\n",
    "                               frames=min(len(data),max_steps), interval=50, blit=True)\n",
    "    return anim"
   ]
  },
  {
   "cell_type": "code",
   "execution_count": 244,
   "metadata": {},
   "outputs": [
    {
     "name": "stdout",
     "output_type": "stream",
     "text": [
      "Not printing: I(E;Z|Y)\n",
      "Scanning history\n",
      "Animating\n"
     ]
    },
    {
     "data": {
      "image/png": "[encoded data removed]",
      "text/plain": [
       "<Figure size 360x360 with 1 Axes>"
      ]
     },
     "metadata": {
      "needs_background": "light"
     },
     "output_type": "display_data"
    }
   ],
   "source": [
    "# First set up the figure, the axis, and the plot element we want to animate\n",
    "fig, ax = plt.subplots(1,1, figsize=(5,5))\n",
    "\n",
    "decorate_plot(rm.datasets_info[dataset],rm.style_info, ax, plot_only=['I(X;Z)',\n",
    "                                                                      'p(y|x,t=1)','p(y|t=1)', 'p(y|d,t=1)','p(y|c,t=1)','I(E;Z)','I(E;Y|Z)'])\n",
    "\n",
    "anim = make_animation(runs[1], ax, n=5, color=rm.style_info[algorithm]['params']['color'], max_steps=400)"
   ]
  },
  {
   "cell_type": "code",
   "execution_count": 245,
   "metadata": {
    "scrolled": true
   },
   "outputs": [
    {
     "data": {
      "text/html": [
       "<video width=\"360\" height=\"360\" controls autoplay loop>\n",
       "  <source type=\"video/mp4\" src=\"data:video/mp4;base64,AAAAHGZ0eXBNNFYgAAACAGlzb21pc28yYXZjMQAAAAhmcmVlAABXn21kYXQAAAKvBgX//6vcRem9\n",
       "5tlIt5Ys2CDZI+7veDI2NCAtIGNvcmUgMTUyIHIyODU0IGU5YTU5MDMgLSBILjI2NC9NUEVHLTQg\n",
       "QVZDIGNvZGVjIC0gQ29weWxlZnQgMjAwMy0yMDE3IC0gaHR0cDovL3d3dy52aWRlb2xhbi5vcmcv\n",
       "eDI2NC5odG1sIC0gb3B0aW9uczogY2FiYWM9MSByZWY9MyBkZWJsb2NrPTE6MDowIGFuYWx5c2U9\n",
       "MHgzOjB4MTEzIG1lPWhleCBzdWJtZT03IHBzeT0xIHBzeV9yZD0xLjAwOjAuMDAgbWl4ZWRfcmVm\n",
       "PTEgbWVfcmFuZ2U9MTYgY2hyb21hX21lPTEgdHJlbGxpcz0xIDh4OGRjdD0xIGNxbT0wIGRlYWR6\n",
       "b25lPTIxLDExIGZhc3RfcHNraXA9MSBjaHJvbWFfcXBfb2Zmc2V0PS0yIHRocmVhZHM9MTEgbG9v\n",
       "a2FoZWFkX3RocmVhZHM9MSBzbGljZWRfdGhyZWFkcz0wIG5yPTAgZGVjaW1hdGU9MSBpbnRlcmxh\n",
       "Y2VkPTAgYmx1cmF5X2NvbXBhdD0wIGNvbnN0cmFpbmVkX2ludHJhPTAgYmZyYW1lcz0zIGJfcHly\n",
       "YW1pZD0yIGJfYWRhcHQ9MSBiX2JpYXM9MCBkaXJlY3Q9MSB3ZWlnaHRiPTEgb3Blbl9nb3A9MCB3\n",
       "ZWlnaHRwPTIga2V5aW50PTI1MCBrZXlpbnRfbWluPTIwIHNjZW5lY3V0PTQwIGludHJhX3JlZnJl\n",
       "c2g9MCByY19sb29rYWhlYWQ9NDAgcmM9Y3JmIG1idHJlZT0xIGNyZj0yMy4wIHFjb21wPTAuNjAg\n",
       "cXBtaW49MCBxcG1heD02OSBxcHN0ZXA9NCBpcF9yYXRpbz0xLjQwIGFxPTE6MS4wMACAAAAcdWWI\n",
       "hAA///73aJ8Cm1pDeoDklcUl20+B/6tncHyP6QMAAAMD8jBBZR6N5CzWkACnVnGQaX1c8QDT+TT/\n",
       "N9CqofS50PgZ9yTzmbG19e4o0FxZi7etP+FNN7kiDHzcmARUp4HEWSL+WE9gnliwN1EgbEBMEE65\n",
       "2tbniyLSzIz0MYql8YPbgP+c1iLq0neaJ4oA21K8ROdepbTFovgAdf+z3MX2vXbcyR0zhU291rz0\n",
       "p2PuJs27QldrxkPTACbbD0EjWGQpq73eOedIqSfZTRWNpufbjt5HUXrSZ4CvzeVOY1BnGqt2ix61\n",
       "BbkHqVryBKLEEK1OP6ONS6NQlgjP1sa88qTthAVPK0sr9M+XwJ41kmcaBjn1Y2ZbQWIeM9bIa33n\n",
       "HgxP3Lx7hJf1qIvWospOOwgeb9tRc5/UBXoEG5Gt8pVDnBJyXecVePnovODvE0HxABywHlzIaNw9\n",
       "b6U2pkIA5vKLd5Q83SrljiR7N+pcqNQwcBPlS/PKneIgoG3duvzcchNXWEz+kGNQyLFt1E7reNje\n",
       "gZ8macGaVuR5lk2u5HocoRWKTdk0HlKZDbXh4weS6tjQwQtvNrQBbpf4APBRPgFphFMusv2nfESf\n",
       "QTl6pDq15Bi8TswpVs8tE9/Y4rz2rAh4Smp2wEYHt4D+wnhpRDXBp+OTKrWPPSUuj8JdO8h8R9YT\n",
       "AxOKSZwRla2nTMA7KtoSBFssweU8ZDgwHrP50fcGD9jg1i6cfwE3WZiv+ks5NMXuprJubqfqWJd/\n",
       "PYsefYrkpaJuwuFnZkIUYwLVm5sXMaLvroTM4+NgC2/HlaXy5FYTaD3zFwwX7njP3yVOpbFaRjE8\n",
       "YsPp/IQuf/qAKSgENqZX/rZE1GZvvKIDszOb5GzE5gwcqjo4jCqKRWFkle+JP7oOYD6ivHANNV2z\n",
       "Op4IpdCb06ef95LF5ywTDQHI6Dxq3Wh7tsk6p10IJlJRe3bugvv72/mwNuHa1VlbKhIMs4xWxlSe\n",
       "YKtuYloSkJrUXQdVMja33WEOh4JOoUJTBFtvgTynF9i97hdnCXFvenspzU9k25IAIEYXr19lvz5v\n",
       "cZNOQ8hPJO3GrQ/ZYGNCfzaR/wRQ5oVS03gjeXf89S+BMfl/yyZEoXHL04CAak4AowvDKUiHkAmK\n",
       "7mpENkMQr1sHi6pm+Rpkdf4RrHI8lLKaXjm/GQyuKDGBMBOxVREMG0kyqAAEd9ownsNLraLAOMsS\n",
       "Ty4kYGCbLPdg9OxmQIxR6OI06DeRiR3cGywPlDXBdSVXZiObV0X5gFcapfJINLsRYOgz8CgQ/ui5\n",
       "uIN3YIAeNQUsub1G2e8G86/s+DBm8bV/AAyG/11TB5MtRGs38Ju2eJiI3Q5D4xjje5IAiC7QFcIv\n",
       "hPG+tTFT/HhXKHgQZFNsyxTtHVnEAdMhPBoQmh9AQF90YMGNw5dgNWNR7CwwSpyL2xnxNXgs/XN+\n",
       "+ti1AKrJ3zj/X619s3sEzn0w5pclspD/L/FGdOCpXxWe5q2uAKfPkpa8raH8q5WuVhjyubHxK3sI\n",
       "tORtUqRXj2WY4HGEbdUNcxHepOxnN7aFfFKdceSdGfd7O4DoVncQej+ieoQdtnRgivIt/hT151Dv\n",
       "NV15M8Pu5VABfWxYzy1k4+CVeo1MtoM612Koi4/gUrVDm1nM5ENDmFRQ/0HvIB0Xv/XkGlvLOEdX\n",
       "HI1t/JlEFZqAtll0WTCNdE0H4THFKHe/u9NL/Z8NC5C8K4h8LvCJw3XJLLaxOUxTALr3SUOCMupN\n",
       "c/GcZnGMgl++Rdo6xZmZmmPE26y8JlPa9Ov0SLfSs16pHjX4zo2bQWCQhDWM0gOt43aLCJO1QvOJ\n",
       "8ZyPUwias5ZdP76C1VMZtN9Kr+TsK9x8+LCfuH5Ocdi0C6DgEh2L1H8ZYWN13uuqEoZ7a+FH+cWi\n",
       "yUqk7wsbrcWUJFjSw8nZF+JmdtAbmEmtRYuZX20ibA6iv1BZojCw++GNOuUYuA0ZkOrPvciUx2QD\n",
       "9T/WlwdCZ3YWjOQOpaQXi0BNbw+XvIKrAUy9FzWIz1JGu61zZ1MYHKJ0nybWp4VRFDElf0AumTQ0\n",
       "lzMWxfU9CukK5Wlvcf5uAjDgzFrx4V+vvlK1umCZt2i+ug+rdu366ww3LeksOydMpmtBaetRB0Rw\n",
       "VQIUMvBNzKHyPgLckLFxgmBXcrKnrEoL5/wMyPQjrIdaeYRPtgRBnd4mGd/lR5O12h6Qk98/kuNR\n",
       "M92my+AuvAbOOV+Ydrs42wjwps/22QfszLsN80g1NgiJfM0XRXU4l8dwShN9UCPWYXfjN8LRUBom\n",
       "ACT7fTXiYH5CvYbV6LY70t4MIwu8fX5NI9x1HR/8FLrbloaaxt/F6UghAtPDUjJNrcuEM3y9KP0E\n",
       "mzo/8N81c64KyUGG0vk0JVdBDexQvmD+U3R+kTe89hY9yxDPJy6Z2B6smyiCNImtcNGBrvJrNLf3\n",
       "yA40wBLrEVEgqIyE2Vx7jQzkt8NIL8hE9EccU9KSLOSBQ66OiD5Sab1gorlUDQRlOAONdUS46uix\n",
       "T3NelrmqsWwMigVJVLDpVIOZUTDolctQfkKwlUIn9mRoIpS/3Qt6w1VhNNO/z9b0xfZGUz8nEq8/\n",
       "7BsgJc15IqDv8sC0/2Ed54omyYKbBu+0U2k/kKqacEZhnBBZBzEp20RqowgNR6ubtqnYghWSsasu\n",
       "UntHrG2rxoV5ZB/fojDjwL66IGykaaswJVj/6tEQ8RJSMlq72UnC08G+FBqzyAApsHR0zT0sxY59\n",
       "b7hxvxRQ5MTb+4T3HK9A1c8GOMzL8pKfwFBrhA71AN37evedR/7NbWgHYp3Uqug675m7YD1uZX/G\n",
       "UsgYqnpST70EKLcSjtbc520cSCvGfbafQUvj4h0TnhQYRdvbpRsyqdnrbLjg0pzjq6HaEJvAcsKZ\n",
       "JDcd98K7ZKWBYXAom12e1UTKZNxcRxKycLYV1NcTDNIwGDIqmq5/StktM4CNBBU2Axu2JfAfvfhP\n",
       "OkGWXPOxjxHlcCj+NLvmwlmEFBjSgg552RV46nGFSUg+kA88mvIw00WfxfkdhU1udtRukc0GNCQo\n",
       "ohza8LcrWwe1Rd9hjUvOJ/7RINbtMwHXVHZjw+3n9NqZ3QetfEWk1BYHnRpoJaGFX/hocpnbtKPK\n",
       "Iw94jHapo9JxbKbvqiPwy3fojaTEc+8+qXl1wExCjQN8WHMoqExNEzWpkFxMIdY09H8BJDkTgLhI\n",
       "jqimY/vY89fitbXCZwBLDtVBJKjaGE44UkKhxPDe2nMuB26uQs05Ic0tvg4DDbhLiG3qttti0+n+\n",
       "W3VZ5PYVr+yElX3Xj8fqGp0wpVeqnOy+y1u6eoZSPIb46rTgpPDxb05g1EzN2kBBoJqNkEY2zh+o\n",
       "6sOuPCVayubc5HhfEjm/6pROBsxlXvZZMLHjGWpiua+Px14NjRieb+GKvLuABHwcz7b1T0dtaakE\n",
       "QX+arpN7mzjDcNUTxBj8bHoysn6tXrsAXS5zvpBJ0HD47IsHRruYkz6orUxGtYiUxgoi7YOGnwuW\n",
       "/JCaXDLH4Spw9CyjTuzJe8K+lRM5fLokXc+EFdYu8VSoRnVUlUZM6HjMJ/1RdbEc75kQE93j4aZC\n",
       "hbgWdc79hoFqkQstcvqiLgIPLQqdDr6U7ihGmkv6kR1Rj/D8DwuZbgW+84ftq1NLtsLr4NYPzDUk\n",
       "t3MTYlm9oWLAeSnv54VsKXMMauH31C/zMXWugseE3/uPOSg/BhkpNAPIo/GFaKDnlDh5/soOm6Fq\n",
       "n26GoNNoBuOnCfdrFo2pFlB6V196VzIpN2bnXZ7ZsEKr1Gj62j7N6SXMUrmhzZnBCs57eaK08q0L\n",
       "heGbPJ3GXHPSPUzKaKdEwL++VBaFhXiV9crw4kl8jsNXrblHnpux9FmtT2nO71fX0lJT2wSdt/yT\n",
       "+Pe15t4wyp7eQi4muUyrOd6AZwH7mv1V98a7TojWU+6Oj3JsC3P9FNHZZ4d37dGSC6GZlSR/7ez3\n",
       "ZaPNLG5SgA7cwfb21uwin/wCgifPMUphLxI+ezl973/oGbh1lNQLLzNKYJvJSazYuxLEJfy93Z0g\n",
       "M6aGBaJiNJHgcVmdkpuIJUbRAxHGHK5MUuo/7ITqIzUuMat34AvjNVdHdPvVLZtIkbhpHmBq+X5t\n",
       "fufVsa8WKcqqoyoi1Eb/+bynYV1tANJEahtHjs/psse9s3Hk/80KXnqzklxIDojJyx9kEgfCAiNv\n",
       "XaOgL7gie+qhS2YX8myuPA+JXcz6ZWBnXFhIS/xXy78PXuMvk4bUIy+CWLF7nnMZB3za2tZm057i\n",
       "j36V0FO9IayvCYlLx65ifQhQifL4xVYQHleSiE1Y4qfMv0QM9j6muZsEElPKq6jgCUEUo9McvT61\n",
       "FYRkb/rWT5FEB+q1ZvicNShvaC8Er3nZl4egb2Y/Jtk9UejI5zp1NVFbNNIOLWcdMneD/Uds4PJc\n",
       "FFAYtJRT+vjWTGRDnY58XqD5WqgTFv4C0gkMUN0LOzvQFmYkI0aqjCqboOTSgvyeZSyx9E1wcsbl\n",
       "ztCTss+E0wfpxrPCr3RbsoW+xpk+GeC8WRjvi7BVpZubXI9oRzk+TzsjEUIOHOKkawCh+t862Dkf\n",
       "UDTLJZyuC6LK7RlAyc6FAFAFTftc27lDlQWuFsDBkzr/v895aAqTUTwT11S5bB7ckLqXLFfFc8Wn\n",
       "MR7hBTClQ9ma1QGhodl5soZNScj3cCxWknPfmQivxk80a/wZwDUr7pvDFB7XAEdcggE6bTuaQ/K+\n",
       "AGcwbevvvBNq8k99IlySeozD2JeO2KdEwecXT/61LRWFptGVsMS6Wl8XTyIBw/xkh0P1M4kROeZu\n",
       "DAZBhzSCY6s2a9rIDFQv4h3siFUV/1yz9tXfWcpPdxLkocOhdFK/3ly9WMAXEhgCkkW3YwVdpfDZ\n",
       "xL7uZ7FqKYvoq/x9dmZ/TZMWGnl9I9I3iYjSfLSqO7Z6wUuP0I5vs1CDKT9TG/ygu/as0US9ZSX5\n",
       "DihRVrd9NmoWz2SqYFbYN+/3R8msRrXwklJeCLqHD+2Efiziumhe5HmM/q5CJg0XqLE+EvVZYVht\n",
       "9+f3y/iQxLmfrSKw6CL96TD+CtSKQLUA7DdMikbu1ZI5cFT6QsxD1U/UpVAu2yj1akfsMra8csM3\n",
       "3Bi3Ut238MpxxFhMoozr/gWp1q4QKaYlQT41+L4iqOgyjxNzjr2wCgKETObpP9YUvlViEekg3o4D\n",
       "ExNy1UaVTmfQs2F9m3rO733YuTfVL6pWj9UysxZ5aRC9mphiZh1DWXBc8RP2XH0rewQ+foUy8y1U\n",
       "jDFy29nOw3fC3f1N0yiBVViVVsC5Rpl1rI8ngzDerv2q9HylxlmsgppUhGZCVfGmE2QAWBkizIK1\n",
       "DLCWaHJC7vVtnE6aUlRFvrfwH+7IZchEUPqxzfdp8HXgvtybhl/KcnMnMHKvTuth6rYh/vOQXhsM\n",
       "M/dwK0xF9xOORIv8Y7ENwDsAKrVlzNRtlNbpUU+bGMfr63iQPvIhDCiMC/+Q4msuaavkuadjAuDY\n",
       "6WMRlzqv4Xe8CjEDGthPAZmwIgO55fMieODda8SpVXpXwZGCrIVuA/+mpRjOcEEnyNEbjdiba/9X\n",
       "rhjOWHm9gofrgaDEyFr9zEpKBt3anNgDmJ5W1h1VFcrE9GuoxT2bSumBFn7BQZpdSOEc7i5fadOo\n",
       "xm7OZkRAtJvpRlqSToglhVei+0U0MTTcFYEc1Mwgl9ZJmvtgkfcIAXDVkv60CnHN529V1LQQZjM0\n",
       "1EbroVXFVmVyuLhQ+Ag7ev/OlnHHLP3RSc1Y2XFwGdAm2Ipus3gZVLFs3z7x+v3KvWfeiuV91EQT\n",
       "ZxPmNX1ssDIY3TedaD2H8bxTfYEZ+3Nk+KZkRUEuS3qdacmdHoVdPhkkcMpP/iSTnsEjPdKF6lce\n",
       "oxxqG4H8wFFIPjlPqqxr8drmGU5vciv4sujO1sdVJaFx/g5oCtAT7+I+JabWi7tAryvPI01KzIYP\n",
       "/Wxkt20wy+aNBvG+eW/fWQOpiV5431m2TsNH+Wq4vi/c8vNFTYM4Y1MEAs7rvXhusJi5PDZg4iYH\n",
       "aot1dsnAlt8xD1WyoMxaeFHF+6vVDnMfq1zwZlYqNzE4fyiFb5XzbekaempzNAgpLSNXZxD1xMnF\n",
       "y1UL0gT9sphzDM5GecIINIpTQ/0UrMzpkIrHOgSUfdq2GkKl5Bck82KXCeTpy8X/nw51U+R2IfHK\n",
       "0RfqFP0RZmq4rcfGQ2HuRBYmZu6hKNs18tPngR9b5iWthvbiqpahzKlE+Vbbnf0UMwyDJ3pPIW8P\n",
       "MQ0jf3vgrEWpqHdFbhPx2EdEfZZTXi4Wwzdglp523KTwNm6+Uelwj3BWYRM52mBp5LWnrhGcSJ7+\n",
       "Yv0rAde466i1hGGIj1lZdswDkgpbXgoUK7bb+dZ0obV3nkvr5r++ky0OWWC6O3hu97LCJeXyWBKR\n",
       "GpkMh4d+wscH+jAQl7CS7/4clmfvTbKQothln2mEZfsIUJjuj5wDBwbF9Lt5BD6iRqHCu+MXUxoh\n",
       "pkik/MF4q62G42iI/SdYdcVZTUWRjLXdSYDJQHkycizresdUpRPNQopb0znRHTUlNqEUnt2vkvk0\n",
       "nk8CdWNeyuR9r5rKiDezvPNeNf/5kdqxYm3+FwWRwLFAYHAJ1IPu6FfeYPkWe7Sjy7LC7jwRt7rb\n",
       "4ZtUBKmWq0+oXWQniAHjbZ7JjLCpepMEfYysahJaxiMbsPbSI3vI8yCryxAeCTNfx2GJa99xArZD\n",
       "DV1owNk5INZElT69ciolpbv630dMtlyaqx4Cec8MJMG67DSStiwIxY3N0BzJmKMdfP3x/1yPUe0J\n",
       "kp+zfT50b0h2UZjmgnmWgRc2zk970+lpjoOoE7q3EQvysUuP//8NOD709oWKjFAbShwUkMcic84E\n",
       "xeBXtJN22i3zz+9BA6qaVkqdNYIEAmBo0XB4GuGKsMey4+QHch+8PXqcj1ezYInTuKV4X7rF+RlD\n",
       "ahBqeN6JCF8bXApDxN7NplEOsGEZxzxeWkrkD79DgSIKsJPfm5UnS+n4HrkvY1KSqElloq4sdFUN\n",
       "6Gnhy1l9DJ0povKitLWZaU4l4Vxk5agJmVOAMJH8Bx/dVk9yNB0Vmsb4DElBLvt6vnI1xIIaYy/z\n",
       "OkWmNwK4fCXebpHVH/ysaLx0xsGAg/O3Lw6uWeWOaK76tbW638VaIZfNvdBlBuApNvn/yDKO3xT8\n",
       "eGfqQZZc6NoM7IJBONdiTAk6L/JhTiEiOxHnaF6SwjHtJ2aRVJ7W1G+Chc2Zm6nn/bd2EKVg/Zv0\n",
       "7CMqu8CqSqu7DmhTubF+jKxx4MvObWNRq8SjMJ64azWW+tRy2W9PpG0GcmQgSZdu3ZiLzM6d8kSI\n",
       "SthEhg+SmsE7KQfRih9W3M+FnzQy6O4J8gp0Do/R7OD+YZDm5SP9Ea8oC119xMS+eMmJAO127fJj\n",
       "5XpVcAnnUi/hm6sQlZpAj7V/CSRY1Clm3GJ3hYwQ6WLG52zPXZ6IgOhzX7U4AWpp4d662UGyBRbs\n",
       "guWIUKYj0pU8jCVFZ/byuZX1Hu+Fcab2klnu8w9+2CtzEkcbl74jmQ6ngpKn+427I7I3raPKtETc\n",
       "niI1iptL0XjBLYGmyOQQW5QTfmiZR6gRX0DPIN31A2RyGBPXGgYxVJdcYuPk4QE+t7pyB/gCEjKm\n",
       "rpO4WzgyjvKt9r77agQBSD4AEJLnXaGNui7QcyqPnNJCKDit++PLvd9n/IgJ4dk1zDJ8Wsmi/p7a\n",
       "3xqJ7RYTPI4ecs6lan69KwbUNVfIiYcKeNqxfSpfslh8S9nKtQ8+w8cNdYjNPYpZZ1Bg3t+SR2TS\n",
       "DXfTZCgm2/PmEkS+U4eHlmMvwmjz4/c6QvRJQMHkH0RxKTwysvaAbtSB/Ms6wk8AfSRtkULkMzMm\n",
       "pXj9MkdGAms1543VysG5s6uBR7qRVl9KvCcn8I9Cu31FE5NGx3+xO2s0OYfE3FGORW7nyvku0UhV\n",
       "XTF2Tg3a9fUvNOMEDSN4AuBB/m9UbzonNtmthIJLMhzc/zqKfYsuKiBZq4JFIuQJaWP2Csny97nu\n",
       "U7a9VZ/zfTsYTZqCdLFUFGtqkcGgjWszjdPkZcSwpNCXltVQbsJxWfEoQkg2r2PQg3viQ6Ym7Vx6\n",
       "0L4bRsDxUR8qzW64Ie8nyCaNp2BAtzDN8XwLvcJXek2MHbmsRQ6hTwekxuB6FhxKsYWX2gWC0FFs\n",
       "7Oej/+4q5xfUXqC0bgDlSnLgvPJ4a9w2psxmi/v2WXeJrOkf0sZVh8/4CneDlOP78PKozhi1Ir3O\n",
       "xAvHaCeIEPpW9Y3Sx51+HL09YJgB6YbEZ+15in7s22SQEC71D0YxSMMlEirHeD7Dzmdsws/O74Tz\n",
       "J5ZtYb77J0VoT9X+P3VZnfoqoM/9n6UTUiEfYjB9W7rRJ7UXgA3419nsNkkEgs/sVlYOpNt1CEhn\n",
       "qhLwAa36YF4gV3LFV5gZMT359KS1uWOosp+gXZ7JXT7ID0zTNwihxcmrAkBzEN44z8t8mUleyNYD\n",
       "AYsDnoELBQQd0XfaeGiysR2NtlnCYPUAaH+oWjRXwvJkIF0L5Vl9PYiDvq+qC2P5Qysy/lwu3J/b\n",
       "qIVEBIpe/8Y5UVMpJqP/3Uv8YI4t8O2ygqoSP5K1y4BSsOOwmQdbmxO8kfQa+j1cUKfMMRAw1sGa\n",
       "Bi6UirDDZ4sK/fM+hMUSL95FtdohQQcCbPWzvG1D0NbZeywIxqQNgNUyWqHVwPuVKNMj4akgXFot\n",
       "Qfq4V/CABCJ0kZWU6lb12k+FNsFvXYolUWikRrpxQplLUnmmV/eOP7HKpsn8RTFKXdjQuoDAnk45\n",
       "6RxzQjthQCtQBG/vakaxFcZy3k+z2crc180ZqbvMLLwXYs43JDbDKHD8wmB9xHYken3Db5W2A2FW\n",
       "9Ro7IvkpFHjCp11YPZr0/DLq6fDKhAgkFwb6ZflE4TKmrHYj+P1q7dQRbzKPcrx8wXMkw4otwVP/\n",
       "CMBGLvOq6mQTIQbEc5l7DJKi9lMutePyFU9Af91W2GHT38OAjbYJfqVHw2OXESZyPhpOlYNt2ylw\n",
       "pU5fpL9C57VTn51TY9yhaDUkqgEzn6FCLIqgzG77sJEyuSTcQAlY/Ga02Ukn4s36a7bIXdPVd9EI\n",
       "2xPjJgRdHc6h7kK+5OURzkGRPG1cSVBlB8cO264Ymwm/y/+XaBU8ALg4ibdsH4Tp+lTkO3BsQpHj\n",
       "R78lWAnP6jYUQQixeVlNcfB8hP4iGTc7slwgKkJO101LHwQInQwzOyhXUZTl6dWS44H1PBtWSh0D\n",
       "80en1jo4xrv+CGpGp4kpKtAtEL90WqV495lKXqxGMF1WCUldzhsDgRYMxSFWuzDPi1qx5XVKQrFD\n",
       "Gdf2PyZFzMtLEPYEc/26tHyPtYRd4E79hXG/yKFK+Rq7wAoHnfebhmnzyTj4DnZll/O9tU2vMAhl\n",
       "WbpDpv27auhUAIJrAvwqfdniAXHsfxC/pxEAMiFK8E3McTxm0Tlx2t3wj8M9HxjxWLc78+IynVYC\n",
       "wbNmNFcMvPNFnkn4JtsWCjfElOsmNJvh4U1II5BqAV7/H7Q2bBP6Cb/1pjilU8XcJX/nefW1aEVs\n",
       "OaFOV0laRNB9LefWcK8GdAIE+oD5lQY3rExkIvcJKq7g3DwxOtq3gfQ1EWKykjKoYDUjkswUv44a\n",
       "AsUcH0CEp3/l7DaYcXg/8jRQ38LL4ElDIEAw411bHzB4VDUvVMrVjQM419gJWjbkQk05FhP+bIFP\n",
       "Czm7psq6lMLSXp6CAynei0IerLWDfBvCqXtMNmrbjCc0FGvLL5GEgOaZEJMAAAP5QZokbEO//qmW\n",
       "AFC4W+CbX3ADb48CzRbcGQGBjUgcP0CKX0c6M+0P6VK46lmUZref3FVxYzSoeErUUHCfU0cTszfh\n",
       "3TNpNAvw7fQjymxGRUDohrvlpAetenbdoWiq7aS9bCi13ypjCH8IJ0mBEtvOlGpNbYk0UqMzveJs\n",
       "398eHu3WT49cCkhujjm6iw8dbaxeI8ZbXVs8dN0F9fGYDJ8TIZsWRmyPLU2uY5WDjBXlQAqJ45Ex\n",
       "72PCxnnoPxV/Jm8JL7PnE4EZ4XgfKhJriyD3D8L40sQL3mdSQbtdZFGMorIcVuSC383vECY68Dy9\n",
       "4+FZFp7HB4kat2nw9ABm2WgrfzLRqVB2jvsjqKfMSdr18RaZPz4FbBGp/zx81jWlzFkySztPNPB3\n",
       "T4SwXkZkXA96pmN5KNUIg1LBGADQgqTCNfu5f9VHibXpc1OCvuO62DYReNPt8MJRVsCgSX8VKVNq\n",
       "ygtPaiAMJeRlpq6Jm9Hc7dHkPTOpWalhKNlLyFewJZzDBoCTx58NsNpWePceNNlw3rtB8HvmHFUb\n",
       "acq2llvhY2Fc/TvsfHxKPliDdWGFp0NAE+m+tfriAP17PQJlgHGCkQ3o2qeZG+/3+xmKGkFfDClX\n",
       "M2HduCdIDEBxZsKcK2f2BfTf4Fb5jlxYU4vq+2Kvpc7PXUlt9RLY1clHWHxBzoyqNUXJoi9KfsEu\n",
       "mzTqnwle06WswH9CaFBPUJvm+7knTeod9l9jIDDU4PupYjweMqk1sVnP1WffgxctLZInzqjxz49+\n",
       "NFQE6pWqKyRjGhICLyYysIBgfliPIh1A3qt+KBwyupfh7cVZshMnTIRTDv/ZU+07GQL1pL0wBFwI\n",
       "RwGSBjmU9HnHIp8VTauhNiiWTj210AD6T0fOBDQzw7NYhHrPsPM9PCBw1h1yQX4WcqKK324MgWVm\n",
       "oPmhA0BVQGIbV6yBur/QGa9c5u4dIiHVWizQR+k1GqBMSGZjb0Ib4EFkRBa29yHaQmXdSsmQrFCq\n",
       "hRVuONxLVGB7YLuKsgwRETnUDNQNeoRpL5wgHmlEgfM5HOCTtxv7oYtSMBQMRnAZ3mbfq+Zy2Zxi\n",
       "CoZGOfYHQWRAbANGKmPEKYaSfeee1imxw0ijmQ6V1lN6Zfdy35OBSzM/nzRMzmgNbTOc49/cI8w8\n",
       "Z+4r9wZWFCilPN3SWpIX+nSbStEEi1DmfktXekzqweQks4sYz4ZaZvO7DDnSqTjeq0jLPPUzcKzg\n",
       "6kT8gEcDJMsEJVsLO83RhonPA80v3TxJAlGx7pL3/JpeSB+mJAh15KqXufD2iZGyKoowYfF8VnpT\n",
       "WxijrRQoiJ7Wc4yzi8XN5XhHC0Yf7B/YJelDN+N8xzyIAFa9vbhWAAACKkGeQniGfwBJWiZfQnwB\n",
       "ExoAg0WxlthXMkKYLyntBepgeubsDfcs/9dvAY+syuVPKlfRvnH3BCtwcffaH8qcIlSdkPThRGjd\n",
       "D5r7OBpJ5jT7Bt34N1KZMnV24JJ8tbiYPY7fouWCsI5njR9Ho+/PiBEOeMpN7fY/yAGNaZV1cyyb\n",
       "oyNupZLRykF0TnBreTasoz+W01a/O4tLLgrkLwMXzdTz9Mjvjt6k6NCeWN+AVKmkKtHmjO/GaFid\n",
       "Io7CpUZaisuEKDUo3sEaC7sWmlfH4xMdxCma8T2sgOjEeLIVya3Zb6VBEOzpWqDNaWyt3A6J+W7i\n",
       "sRi/op6eAEO2thGv5psjbpbO5RO5V2qpGaRR9NrOM0b8rWseZyq4pu22lTtenpiQDfgakULS9vC8\n",
       "0Z3vDEXUqhZgjNiy6wieZnhqKjLGzhDRMN0DFOSVHFaRAR61Ugi1J/oqEfxBDn/TM4UI+4spZ5GF\n",
       "v+GoJjCC+wCh1JBfCzaotXnEBFCx9l0utfBj09ul6xKdWDiD2s+ksHOaf1vejkUu45GN7B5g1HMj\n",
       "h/ZfuilKOUKPL4wKDivOV6WdZ1GSDeY+vjqFNPwc7M/sASfwJPL6067DGh7mInD/70kW+JtL2yTg\n",
       "Hk2fuAl4dRBb+v5DQJuNJADssHT7/CyQlRRbnv6hhp4AvFxW4StEykAkLZ5y9JYNV7xvMviX8CHn\n",
       "sAKWYW+Z4g51Gg9qA+ESbHbf4IDix0uPS96xAAAA4gGeYXRCvwB/UCwBt+ctYMEKgaVCjDxdtbRW\n",
       "8HOqFdBqXTMW/zfl2cDdrPHU7xpcaSxvSSkfK0zVLpU/07oHc3MPP4deFoftbsskngXhIxkjmSmd\n",
       "RLymX/dLdANLGjRm/ExpWM4RjYTZys6C1jkJlWXZuINaGE6ZOAPBFXNmEPBYXWpNWQhdlTDXkAtl\n",
       "IqXdSF4ZKq85y2B9f99Sqeppj7AylO0Eiii5REvwoOg3MEjddpprvI0jK2Pe+08UyeHGgMkPslxV\n",
       "ATFV1m9VUU2CfgLDo5MHTfqkBApWZ719vTZsGsAAAABAAZ5jakK/AILsSr8MzPSpdADiztPP7U6v\n",
       "OkGseI2ZCz9Rfyv6xQ+7kkC3uOm3uukzS60gKLbBft3PHv+Zvf6JswAAAlZBmmZJqEFomUwU8P/+\n",
       "qZYAUEXSvAEfDW2XR6Jb5vgRVdWKWO1BAKk/TbIqc2yoUv7kUYN0P09Qj1/7NXs7n1QGpbNFczpd\n",
       "9VjHaegvWAjN9yZGwhvPwM/9ac9wooP+4v1Y6cO7t4eVUCFCjZc2fj9doVQ1BAFC5q97xcZAFk1U\n",
       "vCIi1Oplu1lUsvU8kCjOdl0vXH6Skrk8EIR5ZHchrFYjSd+LWvWqoldW7lqGrYtUPJEH4x+vvXUQ\n",
       "FDGzW+JvwKJ0QncdHbCFQTBvUs72rGd4l9he1WCH8cX9iWUPtFjHqQOuYEo+z1Hir+HTPrO6JHJv\n",
       "ai+Vm27usohPGkTzYzV9lRkM76PV9ISmb6urbjYrJP2HhGth7vT5cSSu2vI5Ow/GuwtGs9hWD6Kn\n",
       "nhTS0d5hDmSXwRnppPv5OBlOrHduYz27+uCQnVi8ImB74gWBdCAcNlw7V7wQlmwtnI//4d1Dk6qI\n",
       "rDFFOskxcKG+xrVKzvodXWYZ227t8Co5frUtlLkwQhFghPDw4RwvlDn7HiFa7fQNGtboEf3ywlAC\n",
       "80wDcW9z8pMkQ1I+fE0TVHn6JU07qWVyoD6ySp/DscmHmuWcRDezhptarfEV3Tz9mX7TFUt9JD5B\n",
       "OUSGVOf3/e/ESQoiGu+VyhyNkwq4/EOjI6WSm1xFOOxtinpaqvQ6/EnnHBxfhd4iYcMjjysNFMLc\n",
       "I1oTRbyBtNI+S3arsIjxm0cWAmblee+k+Dw/PkB7ZGOsLnh3redc/nlnlN/SUWeqpuVx9dZ1DaWQ\n",
       "XnGBwaXjq532pu/5zjBlAAAARAGehWpCvwB4U0Q3THJAC6DbW0BtX7My0qM+YoNL9V65n3cTzt6o\n",
       "iMpSvULKJqZgxe8OZYt4+4wrB8qss65p3riGN9ajAAABW0GaiknhClJlMCHf/qmWAFC+AJzZwnVA\n",
       "K9KHN0ALTYT7VPvfg2YHk8MfLA9Na2g8jLMvaKQ7eRS7Mlepn/S/KWaKE7al+l1ZKr09hhoLJ4s2\n",
       "jqFrOfvco9IRledvw29ejhi180oyt/D9IbJrnqe1+yw2c+nMiwaSHpmmisrIqUguG/NSwSGvNC9N\n",
       "w1Y1hLh/4F6n7cznlNYawd5NFQOs6f37m0VS5rGenwzZkh43NYpYVwxulMdx/wOR1Yopu1Ak7Sqr\n",
       "5RkisnSv4pevbWaLoVMSD9MS29Qnj8WdYdlFhNR9g902EnhsV93Y3SjtB6EJTHmM8ie9EqKFBFFp\n",
       "Hm1ZW+8mj5hAct4AkUagU9EyQxD6/JrkdWISoEekjY9dQhD8YqEif/BmoD5xDBAKm9I0NtN4G1A9\n",
       "Ze0izH+dlj6jYfyI1NvcVzCKtmRYTa+JCHIgikaQcrqK9SdzqcBNAAAAhEGeqEU0TDP/AElaJnFh\n",
       "g50oVxOwA312BxkesaF3Si5OHVBM4Mwq7bmOvor7ltZ68E2u6pq5WYrb8rF/f42QUbn4dgm8pl3n\n",
       "pc2qY+qpJA0PbHZaXp8YqKgxSlCHA/MtcWyXQKWKEjaI/H4b5q4CW73pMEUJWh8zDevphCVi39gl\n",
       "TNyywAAAADgBnsd0Qr8AgrnHQMiY39GETmXM8IAWiTO2vzswzeP2HKBevbarT2UuJRrlHJhecs5Q\n",
       "P52jpn2svwAAADwBnslqQr8AguulxOMuJZVmoXQArlbmFWaUnzufDClc+I4WPUxXoPvoEL0syJNp\n",
       "vjIRHmTgNDI6y/9AssEAAAEuQZrOSahBaJlMCHf//qmWAE4VOd99LW8bipdVOBQkx+FsRZpLOvRG\n",
       "LSNvFW55iMOpZzcyqJHTVaHJwrEvaytlBzf2bAsylo9UhSmEmN1KsWWAVn4NalXrOJ0OvukcPEov\n",
       "EUMDOWYVQ0X9py1soslIXRLN3uQNm3Q5qZ0ZtGrsg+RMHLNLkGPu+G2zkzI5FLg4YzONUmJfNsOw\n",
       "g0UZoj5lCKfSOqcZBciGdCB8CnzgYQbwRN9BWeVT6ho8EJqG2+0m8/ce4gj/78qgOJzNBOcUwy7n\n",
       "N49AbjY8lz+Q+4sbF+XhL1xSf7vAlS6T83aY6K1gDNjR+WYsSBoNqd9ccKntlAjpX8Ueucs58J0B\n",
       "KzfHHyP+t0/TT3mDwFBRT+lTxfYfap38ZBcRmT7TD0BAvIAAAABaQZ7sRREsM/8ASVonE5g0i3rt\n",
       "Pc+kmAOYFuHtK6CEbcPrusviK4SKw5MFrmiV0rGJ0dUCebe8FdYGYfIXqi8zGw9cHOQYk9BpkvaF\n",
       "L6xgWMxfw9WLcQ2yG9g0AAAAHwGfC3RCvwCCumzEA4kSqxERSQgA8vdEsPDdKCj2gccAAAAoAZ8N\n",
       "akK/AILsT2LHBRnyy7v/yAExUYpXSaGsUj8DpiIz20DanQhQQQAAAItBmxBJqEFsmUwUTDv//qmW\n",
       "ABloGjiHN2ABOreekmHTyOqU0FY3COLXBSLop2AChTA1RvVcaUPQq5Fr+67WcEO4Zr+8VE9Qm9Jt\n",
       "25Hox8w2rjjkgbW+XrbRKdc3edan/vIu0c95XRpaaBWuq/RrzIha4DT0gtl3EE3Bzs5emOnxSs0h\n",
       "vnCD6cqdwKqBAAAAIwGfL2pCvwB5q9QmoC9tAATK7vEluLIUvAJRsku9dYJ1PPVPAAAAbEGbMUnh\n",
       "ClJlMCHf/qmWABlJ7lQAQ4Xf1QS/xepXztjekeqrq9JdaWFa3748PiTl37nKMStQGb+kR43v1YxV\n",
       "zhexfsWOuPpN78uQrvUUvYzAl6y9EhEVCcbecBR4LJC+TgoutxI0XyQojasDFgAAAMxBm1VJ4Q6J\n",
       "lMCHf/6plgAZRWyXF7agACduYiVQBFCdmrSrbSGvOuKUMuE2kqM4sVwiFa0um8MwoXiufkXvigAN\n",
       "/9ROFFVKtgnxqjrrb6E6R+iwzzsT1YSz3BWJcFdS2HSmZP47ezLWj9G5v5gL9zg2ruxLfjrowxgh\n",
       "qARh2FzesUGR/2eESxPXBLTCwids9baRsIJZAlovj1gNF/+O+NQEaIlohW/v5nuWWxfVmpskVwf7\n",
       "ni/eP0vpDVIts5TO4l3idzsjmMLaGJyQVsEAAAB3QZ9zRRE8M/8ASVomcuYbEWiV8MDrngALQdlc\n",
       "SyGQ4PgdybCp4Jw7KAc0rpTg6I9eMobMHsYa9rrvzCf+mA4HqVUpAtqDePXJARBe0NrO1WWxZPv1\n",
       "4KUqL0PzUh5SFsqd42T5w8+N8YqXAfiFv7gbaJ9AXo/+7GAAAAA7AZ+SdEK/AIK6bMQQfaUkcALc\n",
       "XxiA+AkfFl5PV4e67bEoOU6F4xgbV9e5zUNbAvLXoXILZFVuvlB0H+AAAAApAZ+UakK/AILsT2Kl\n",
       "PdMZkpU+vEAE6eS36hDiWF1ga/pykVpC+GL0QR8AAAC0QZuXSahBaJlMFPDv/qmWABltn/Aiawmf\n",
       "hpXIgKvgLmkXE9YKk+Bosylq85jPJFFThKS6poLp665w/NpwPVTIsugWrQms5S/K+SdM1/WhyanL\n",
       "L/M75rg96a/XNa4z4wRXW/gAF2sr+SOwyghs+zX+HevrkvDe7W0+LACl2yU4r8+eyonGet2sJ8Lu\n",
       "D/N2fubeSekGw1PhK51EFAfFg+7hcXBTb+0SgjH2Q9he0RggwXMC+wHHAAAAKgGftmpCvwB5q9Qn\n",
       "v70AU1l+eXe7PRdhsGsJEbiccFyY/Nd2nuDbC7uzgQAAAU9Bm7tJ4QpSZTAh3/6plgAONurVKJ9A\n",
       "Fl5GaQzngp2AZWENkurB4YuQeZa7AJwfrGJKeeaWyeH5wOuJ3WC1TirtQsp9dd3QYWeGIaQr0iNf\n",
       "SnXQFvZKzXgeZSXEDpjtiJQViC0EhXhrc+EbS8UlriDC1VIamGUY1pO0gv2l5uWSH9VVO9MYLvj4\n",
       "oj2+fIbhqrnqsXbIS0GtAPazvjYfXEXBGX4LtYJG3JuwgGyidzzpkvgYDx2ukm5TzXdG6yz4Po/m\n",
       "Hbw8anf2be22qjO6jbF0eZVARB90kUKr7r9Dyv9kSV56iUPZAO/aDMzybgrSWMM3A5WBrpbPxPpR\n",
       "okFlUyOdyaF8ehOsMqdjiCI/1vR8XHdGwrJVPHxqA/iUu/jbxwjQ16TwykuP6bCI3gCe0oBT3yZN\n",
       "ob1lWjk1vtLc7vpZ01OFrEjJmM0gP5wPXpwWUQAAAFFBn9lFNEwz/wBJWiZy5hsQ2gjR5dvxcALc\n",
       "Hwa1g40od9gQWchTzh4+S1smTXHrtsMKtSNBON/TrKU5nldnrugh4bvsVJEP4B8CspRYoih+dWAA\n",
       "AAAgAZ/4dEK/AIK6bMQ2bgyw0AJSSVOYd582k+rsM+PmEfEAAAAmAZ/6akK/AILsT2LDpHAS4lmG\n",
       "ADXACFBGH+HqGZ35NJe60cxE4ekAAADGQZv8SahBaJlMCH///qmWABbexw4DF0/aUJUtg9pz5Y6E\n",
       "Ig3GPCicVGFKTHsaKltsJPYf8Zy1zEaT0VauP7oGRlfBtvlvMQnhv/uyYTR569RX7LRF+Vvk9s7d\n",
       "eTvLD/JoeFEs6IuDLTfVnqDI14JWByyqCKoCDb3iKmyOwe0QIP8glSACkvl2+Q07DEdelLOukzur\n",
       "Jip8FpL1r2zDfwaeSLeVqTlcxK+MDtGUJOncwbY27bmTLorbW8h27BEb8MLcyHE2OiyhAAAA+0Ga\n",
       "AEnhClJlMCH//qmWAA45tKQMn5DYoKRIXnK0xwSwJborkUAElslui/B8pnzVKFgimi1E8moRirj0\n",
       "DP+CnTG949B1kqe4GImdud+RgVXxNNXwRSUFBpexv3ENcEqzwKbfLaxfXM8FUYsO4OggT0WyktLe\n",
       "3/wJXWStTdOjLXJFPdswhn6rrOnw+oa01Tsj0Ql2FTMLoqJQgH/Cz6Q2anL5lIdiFPK6CILqPrC3\n",
       "Yu0/Rta11m32BLpPnc8cLLCMxF0PXbYuOBNwjX+4kABIyb6fC/d5v336/dYIOC+Y/AEdHJxNxWit\n",
       "EqV+AqrAeRTZEUBFOBDqqKTl84vZAAAAU0GePkU0TDP/AElaJnLmGxDaeVeqmOTh5ABP6fpv7TTt\n",
       "I8tgfT6/Ir6wixrZMhi52xUJ2trfkiGVh3+cLdkTwxjJUwZFNsyixCffnUnnmTPvmfdrAAAAMAGe\n",
       "XXRCvwCCumzEOJSf+yBfqbK/pUALWLBmuqYV71NEuaJCD8VbYx9Bwx4uMiJHwAAAACYBnl9qQr8A\n",
       "guxPYsOgUhrerCS7aKQNaCT+84AVwkDfdekoFymDFwAAAMhBmkRJqEFomUwId//+qZYABEDaagFI\n",
       "PvhNEevfugMX5cfIB7MFzjvrt05l1gRAXvrzmJXItbyqaHabAPrCsFotANmq4n9UD+0RMdDgtBM5\n",
       "FwJ5j6Ax4PcqfQyGtl55R1Rh837bmoa5rKlZpgoKUq5gHYcQUlFULN/Enwb60R1CxS5TEi7H8yBB\n",
       "FMX9zzNzVBx/82ES92TxUqjiPq+zxSg/Ou7dAiluH9KA9z9HwJjpoFBdkiTHnNF6wH0R0okahyjw\n",
       "RG5XoSmR8AAAAGZBnmJFESwz/wBJWicTmDSUgGmppyYwEAHFJhF6bCHaVBj9LdsNO5b1uLcJLAhG\n",
       "0AH33m9Nemx5+TgldVBozggpLNSQfvEBcL7qKOZKJ02msF+p+WhNhFcXrNYkhXZfJWiDNEFvXlEA\n",
       "AAArAZ6BdEK/AIK6bMQ1OOlY4zgACsKo6D+QzOoHFW2zfFYSgW17uL7R1KMB6wAAACoBnoNqQr8A\n",
       "guxPYsL7sviJV5H2yCuEi65suPxE9Nn9GAaCO+/4i0EGpoEAAADTQZqISahBbJlMCHf//qmWAARA\n",
       "2moB8V0mC7+dRTFFtGTkL9oXqNMusCx9T45BhB3/2ZRfRk16+yhva971Qp/q1LyJwvzh4iEqDGCO\n",
       "ROEqn/8zAS2/0UYVImaeJcbuG+8bNyZfGk+7QvP37KCm4dsWM7Ceolyin66zHJWsqniU7SbkMkPj\n",
       "R7NxMN0bBZbZthW26HgDd2O8J20L6/HLy/eid/6q93Qagsl1Irp4Y38IAa20ulPakveiiohr7vaq\n",
       "IT1Z1Y6gFC8+1k7zfk4tpfggtN7yvwAAAF5BnqZFFSwz/wBJWicTmDSUgDu6ROFdd5AAJgoSTOe1\n",
       "CyPhpGe9VRTYcKucFGLHrJ5oZztKHbiw5FAMfNcUn9E9raoZOvFfe9ZRVNh/4TsYmmKKqxamEwGM\n",
       "bTId/9WFAAAAMQGexXRCvwCCumzENUHoeJyAEk8kV6zd7IDNBVqeam1S1L4iDZI2u7CetXq9umHq\n",
       "Jd0AAAAiAZ7HakK/AILsT2LCnrKdstFC6/KADRWkVsRfBnqDxjWl4AAAAMdBmsxJqEFsmUwIb//+\n",
       "p4QABJZSsSas/F0BTakAvau7BUc0GCI3K4GfSsV3v5XP0YlrMbEy+MCvmqw6MckIURUl8JTelBsc\n",
       "LNCrAy7g6Mh3TzuqRuQ6q5wyeV7S5sUeE+HHTE7pXHOU3n0+P2PQ1/30bgKj26JrU7kzhGqbg024\n",
       "071ZBaMNsqdBRZ/TZH6ukl0CtqISZ5dLXy6Yneln6q6d6kbGu16edgwmeYuzXXVK88pmnxO7pCOc\n",
       "Ay06umenpalOKMz+uA1IAAAATUGe6kUVLDP/AElaJxOYNJRa9w5fqAA0OOMsQTEIvFkHp6Lp8F1B\n",
       "vfTt+097XQwhNg1Q06ESmRh1WdxJhkK/7bZY9Cn+WuJmAMhK/JeBAAAAIgGfCXRCvwCCumzENJ8f\n",
       "XobZSyIopboAJ2z1dk/1Heqj6ygAAAAnAZ8LakK/AILsT2LCoSmfBPKAEy9f79vBrdfM5BSuOFcJ\n",
       "vCrZl4LaAAAAYUGbDUmoQWyZTAhv//6nhAACjcDmoAqxQpW/guX+Bi5k9FgGx52ltudAZOmYL1hX\n",
       "Cx0pTmAaf3mUw4EFQAy2VI/p6/oEuThqfwi6dCzMqDFMA0bdF9m3wTNp2TrURG2rTGkAAACBQZsu\n",
       "SeEKUmUwId/+qZYADeS1TwEI3NsLTOO7abnoahxEQniXzO3CfPcWbZd85Dpf7frU6EJhY+lWBbUk\n",
       "QYgMZ9hOFzGgdP/Y9b47NtjkoEOJEgZpeExDhIJU/JXYddvIcCypWIxMxee/jxR/7vqs88fr1Gu5\n",
       "4qUNxqm4b8JrbkHBAAAAdUGbT0nhDomUwIf//qmWAAFJroaybmAE+3LlgS93ALOMN72nJ2qi7MN0\n",
       "a6eQ+YrfKd9C35kT/VggIQfOqL3HPvDEHtreKXfzQD1OGj1sMK+p0y7+IRjraB2EGwcxV5Ka9RtW\n",
       "4mhtlKzBzjpMNrPNNw2mdZycsQAAALVBm3JJ4Q8mUwIf//6plgABSa7+UHsIySARV7TkmGgmcfYK\n",
       "sXzF/TVCD0ozOYtOzV94EyhXAVlnYcoYbkMOr9xLRMMX6JeDOoF4UmVR+GZZ/kaVkNVq7pFc8lSq\n",
       "hvDb57OikmUydB2M+R+C7HKXShaNPi391BOymh7t0LUi6+XRawzLkFX8Me02J4R8AYAOjRNGOkdI\n",
       "KO4MPXnp0rWkvTrrxI7MIFl4OFMGC8XSBfeXAMdvYOmgAAAAQUGfkEURPC//AGR0aI4L7kMdu4TX\n",
       "AJfvdFZvRE82KuZD/tzrWp8DhvExXLY2PLpe1Xnx6lqCjpwhiog5bccb/RlAAAAAKQGfsWpCvwAC\n",
       "CyLEPAAia5DRDqnRZyJ8dzEh2WsWaZ1qmkG01/TQOo1JAAAAVUGbtkmoQWiZTAh///6plgABQdHC\n",
       "Sj/OAFaUC5bC4fnA5wHJJVKvDrN2N8RZFdpXvYM2srQUoUI3S76CihJb35xY6Gd9opO4CobsFgwC\n",
       "NZM9Kz+lCdUAAAA9QZ/URREsM/8ASVotpKbbInRBG8OCeyUg0ZgBMjquOZmbA7nP/sJhOzQ7QIBI\n",
       "lvCA1DrwBfq31AMRH/MogAAAACYBn/N0Qr8AAfYuUorAHMKSiVcE8e3Mvtv9rjxePCG9Sz8x+s0D\n",
       "AwAAACQBn/VqQr8AAfwC9n0lEgAuIAsxCElrMhlZYqHmiS+SRAYzt6AAAACIQZv6SahBbJlMCH//\n",
       "/qmWAAFA+WKDBKHn/9ABsnxkNmdycn72/bsTTGKnEH6LpVZ89wUgdeODY9VZVIma2nQg2rB3uKbS\n",
       "GPYkhY9TwwjZEB0sZHFZa3lH0wmqFEA9+xsNs/yoy6roaI19fbpH9EezrfFNHXgfuoIKVlgSYCvg\n",
       "j1W3g/j/h8QFqwAAAEpBnhhFFSwz/wBJWi2g1P+6jMACWrnOJow2Lm6X0Wmxs3TKuwmg7waeAN5q\n",
       "dzJlwv80hSN+nrR268a5PdJYEz7Mtd03AeIpsfPUSwAAACABnjd0Qr8AARGKGKNWAGuovJBY2ICJ\n",
       "IeL/6B92XW5xXwAAACIBnjlqQr8AAJ8Vd2TuB6bLNq8AKwMD23iwhuxRPzlp0um5AAAAR0GaPUmo\n",
       "QWyZTAh///6plgAAs3UkQE9Zn/o5CvYtteGKRVArY7y7Nf0k0zxCWNZISEbKN4I/z+n1L1CaeI9w\n",
       "AkhQYRY0sOWrAAAAPEGeW0UVLC//AGR0aIP624AOPJuQbWnkT/4WvKg+lrBX0cYxHZweunJFJxD9\n",
       "VUiC3H2Tuvk1FiZOG69WkQAAABsBnnxqQr8AAR25DwIqAW0AAsdI/9K2Eq7XWVEAAACGQZphSahB\n",
       "bJlMCH///qmWAACzfCtuf2dPNktJXABjfQ7Kc+igHiGLAb/dD6RMbzbi3OJ83X/3sFj7O+GQh9s8\n",
       "nyXUA7me2WQfLO0lNHHpD8RRKLGCIELOfXTa5tIoRt6Y11olK4WJVIbW1LUO5qyGwU6Ct6mFdabv\n",
       "UoMFlPF0akFBBrqXDKgAAABQQZ6fRRUsM/8ASVotoNYCarcvAMS3MkAHfzEbEoLRnzNeQhXPGIaS\n",
       "elbILs3z3bLf2/QnjcKvMEWWyidQvgDPgUJ0oH9bmJ5lPETCzz9VcQgAAAArAZ6+dEK/AACY2wtj\n",
       "HQAfzxgB7OYQnbCRj6a6FdmBhr8OTrg3lxiYxBKsQQAAACUBnqBqQr8AAJja8f7ABcXt1MGM7BgE\n",
       "D+rLCvrCgvajjJlk1242AAAAoEGapUmoQWyZTAh///6plgAAYLZ/8GymIAEOJ6hMMdrJ3oQuY2l2\n",
       "yHhwVhVaBKXvCafcU/ON+vuxSAj7jhxJeP53iMwBWGIRNiKeqyGHoscMWafTNZWTtxg0nETi9CPv\n",
       "h+197G6q9yCYD3V8GMZi7XEUIUBMZ6L8akvFoP2pyT1I6Kr6+PVVzZKPeFX1V08RYxwD42LLFe4s\n",
       "+wXavQ2lUkEAAABYQZ7DRRUsM/8ASVotnpd48yogBqIEF298gwsdYwqlVGwbosWZrdhvkxZ+rJ0O\n",
       "P/12f5eG0A2sBMkEivPswVH7wszgMrqLzM0OJkbRULwR7yRUn+Iyn2bKugAAACUBnuJ0Qr8AAJTa\n",
       "/QYAAtCOwfoGJHhABNvexXUOXRjnCOMokh4RAAAAJgGe5GpCvwAAkwZrHFFZNmappQAhzEGfzvJm\n",
       "lZwLf+m3B60JMVNpAAAAW0Ga6UmoQWyZTAh3//6plgAAYL2z7P8JKyaAFvXQDAoPqqeCeeX6Grz0\n",
       "XNckVL46sxibITKrD61lixQdhJ/sSs38E8K6CDHqqSBo6ymUKFK1Hvtnj7d8PAUZF3EAAABIQZ8H\n",
       "RRUsM/8ASVotnqByGVteGgBXoWAcYAf9rF7TYCYtPAgWZoyfiC/XRyf0kXsy2WhhVsWIBpfj0d9Z\n",
       "U3Mkz5AQq6s8+LKBAAAAGQGfJnRCvwAAU/34PHeABIrL8LMpBCorlUEAAAAdAZ8oakK/AACU2jZe\n",
       "pukvIAJTDpe7pfSDZJvZkEAAAABnQZssSahBbJlMCHf//qmWAABePgHDvRrUvBhAB+bqb4DBs3hI\n",
       "VGExmd7nWBDTZCN23Gt6nwfb7PAqJ5yy5M0hfvXiwnSZirVbfVXNkX1v+hKZPSImdhCnzmxAArIe\n",
       "PtRSHohUEoLouQAAADBBn0pFFSwv/wBkdGh+H/kju0ULoACyaHlh4s2SZRqQYS9JAxIILTDu/LFl\n",
       "eap/W1AAAAAeAZ9rakK/AABQqGySmpgAugwdD2MDvXjSvcjc0iNAAAAAhEGbb0moQWyZTAh3//6p\n",
       "lgAANB7cPfVPmCI966AFjpGDPXYz6AxwjVOmROxofyr+SqBs6o6uFxom7F8oTWKgTaddYGkw/Hgr\n",
       "X9+wyISsBg+rRwsk/jDTBUDt8YBscxcMMnRtMwbjnJRbswQZZSpngDTelJv95k73hpOKG5RR/NyL\n",
       "WylWwQAAAC9Bn41FFSwv/wBkdGh7d1TAAH/wK8B96hZvCkQI/gpSVv5kN66qFfgcF39VwT2NQQAA\n",
       "ADIBn65qQr8AAFL1HIwR0eAEGHD2VkQdej3ShyncQkhWfnLhb9YDmiTVcMEjq41Z7WcqYQAAAHJB\n",
       "m7NJqEFsmUwId//+qZYAADKQToM3ZEADarlp8jyi5eDbHxMTa8GoFyWdFDcqwXWOyzJmMWDkkwEr\n",
       "s6navpeP6jaO2fT5LoIday/DjjM+XTftDVKV6Vh6cqEPZ+nDoLxWrIgJNglkYRRvSYJCTZedvoAA\n",
       "AABNQZ/RRRUsM/8ASVotnWP40gAug6yPwxKMweQQ/sSo+IfW9JplV/OMzD2+HXf0+BWHTgvKXpmN\n",
       "YImOmPJOjg4VwnkhcxmJ9oX/NV6rvaQAAAAhAZ/wdEK/AABPj3Dr4gBoPcDg2cN8zEcT1Lu4GQlf\n",
       "sjbBAAAAGQGf8mpCvwAATuXElEAKtH0alcQuduD/aEAAAABUQZv0SahBbJlMCH///qmWAAAylosB\n",
       "pfp4AWyUkPAg9duhAwMXEEoojIlNkNj5nWxAHnxG6cr9Qtc8/Vs0oU38saYf3656vCn4ooODLov1\n",
       "UrWpLR1IAAAAUUGaGEnhClJlMCHf/qmWAAAy34zWog9V81l/1pgAJN1XrWh4F+6YxyTf6FL5yWAc\n",
       "UPm5rqnJDhs3CnpBRvhh1e8V8KazU9VRbO87iw79r8WjqQAAAEJBnjZFNEwz/wBJWi2dYjjqkMcq\n",
       "AF/tYRclfKVKzy/auKON7IZWCUgsqSnUhcRGtEy+dqp9nFE3PkkdTxZK5QiY9XEAAAAhAZ5VdEK/\n",
       "AABR0wvz+pwAFxXePBLzbuAVUbEv6+Eh82krAAAAGQGeV2pCvwAAT5qLXQ9MHVYANh3alOkV/00A\n",
       "AABlQZpaSahBaJlMFPD//qmWAAAbLFM6UKQloE//ivGaZYSmfPFFDnQMGuAYofoeqN6kz6EJIsMc\n",
       "+p4hnHh98BgtrFTanuLa/gcQlBT9evI7Ovnpm2BbM0tATsxXslPcLaUPVgR+VQoAAAAxAZ55akK/\n",
       "AABNdgXLt5AI2v3xTnVNtMK5PThGWhSmskUIwiXrzkGMtTEhGKcHhnccgQAAAIZBmn5J4QpSZTAh\n",
       "//6plgAAG090VzrzJymAAh+q/e5HNMdMHMtAgO7wH7Zc400yT54L+vD5zDLT6Wviiqa3hfdtHETO\n",
       "ddiDEKbUdvFU5//9m2EVqdVpngqSQMHMTbApNc4j//Rbm8mY4OWdUcujb+wdBcOen7HDJ8brj1ab\n",
       "ixLCJrdwNyMITgAAAEFBnpxFNEwz/wBJWi2dULkl4i377kUAFnsoMpZLsAy1DaccCVMlpn5zfcDz\n",
       "WA0xAhnQY54+DrqYkOJJ0Lr2DB/YSQAAABYBnrt0Qr8AAEyVSUnWCz6BtDsjVpGBAAAAJQGevWpC\n",
       "vwAATJVJShH4kALWCK/8V5wCuhUmYFaVac6fsca//ucAAABcQZqiSahBaJlMCHf//qmWAAAar4kf\n",
       "HiY6jZ9WgD3vt7fXKa0inbp3tA0BJZqAR9ooFMNL2CdxJPPP7DUDhpWd4eO8iGc8rOlcEj6JGeL5\n",
       "sTY8Ckvfg0eODNcUd5AAAABJQZ7ARREsM/8ASVotnLoeiWsQAtP21Vul+ONP1J7jr5WC2dVUasGQ\n",
       "wE4mJaTsTyZ5aYU8oo6KPB9lP9a9cAl7U6+cmfrLvEd9EQAAACQBnv90Qr8AACs2SOKFEZaACHZb\n",
       "+3dyjS94RjTP8aE6Yz+QPUAAAAAkAZ7hakK/AAAoXE/WxAC28ojsaKUw/y2wLskZN6RtUTp/pe2h\n",
       "AAAAbkGa5kmoQWyZTAh3//6plgAAGg9s3sV9RFzAA2gkQQX4HhJHFi0g74F2aSz6DeYxZB3/F1Hb\n",
       "XyPLoBJPkAkHCB8g80T+XUI2bonI5D7x8bdBUgEakaNaJa0uKNpXaWQ1U7k8Id1R3CxlGnYuoVmY\n",
       "AAAAR0GfBEUVLDP/AElaLZy1vY9AbZ6LboAFt6eFjBT86J2MGeO5tJYrqrfzBmae4WI89PjiDtB1\n",
       "tf5xvwWrk4JPk9/HzordE6fJAAAAKgGfI3RCvwAAKiuWAG32rNCzi0huF/dm3NkHciY9iZBl5M/4\n",
       "a71Id+71KQAAAB4BnyVqQr8AACoNLEPAAcFumIL322bxujzKhffBhYEAAABMQZspSahBbJlMCHf/\n",
       "/qmWAAAZS0ao+oLQBfpr9ISKegvKjGlN/XxbjxUKm1M2ehNDxFv/q/vIOq6v4nf2mYhuNEQMA5IX\n",
       "fuCCOmfv/QAAADtBn0dFFSwv/wBkdGh5qxwiTVlfQA4xn+733lZW7pQaueuZie+MERxr0OPfKMuo\n",
       "jDTt6UA7+NYJNpvxpQAAACEBn2hqQr8AACoNDH2jle/wmAEk5j02DQGpvMKmfBvXkNQAAABMQZtq\n",
       "SahBbJlMCH///qmWAAAYxYVch2YAvybQAXJFKDbCzCuPNLI/PeJ0bmxxpMFrtb7sWhqBcNXnVaAA\n",
       "utI5aDjp3nrkg5EaM41a7QAAAGZBm41J4QpSZTAh//6plgAAGW/Ddee7xFuNPuhwloANZbKRCmwP\n",
       "3jOh7OHNXTs4blFwgCfM23bK/hiYZsjQIuAeKacqaGogCjj2Lq2tXLEiYGAKOGbYklnYcG7aGh1H\n",
       "u5e7/guugp8AAAAzQZ+rRTRML/8AZHRoebAJvAVGqo+anZeJygQo9Il+6IFMiWt6nwwW/xRGcjKd\n",
       "0SOA97E8AAAAHQGfzGpCvwAAKOy0ktr7vWAGwA4n6SdejlyPsSNpAAAAdUGb0UmoQWiZTAh///6p\n",
       "lgAADacwoBSwNMo+KGOw5slmmGEQiMHzy3/Pi+cadqR91Gx29JG2uPE5OubhFJP0CH839hIq9y37\n",
       "u27XdJrqTay1SwJZ6XR+lq4d+35E+g+a1abkKCH1iPKyKTRkPp3YkIZg+piwKQAAAD1Bn+9FESwz\n",
       "/wBJWi2cX04gFocPwgB0QmPTWx4r7ar6lGrFk5uw8zPRuCpV10ic99JBwv9izS/h9WhA68fBAAAA\n",
       "FgGeDnRCvwAAFU01SWrok3YACyqg5r0AAAAgAZ4QakK/AAAWHf9TwL04quAC5/5g2KQubvNA1jfD\n",
       "8uAAAABUQZoVSahBbJlMCH///qmWAAAYDG29AmrHYJqnureryAl7teqT9Dwu51Xa113954UHL+UY\n",
       "4jxnCzM+DcE5iTGo8jj82T8eeO4+sGRKBB4d1ISfoxT5AAAAQ0GeM0UVLDP/AElaLZxfeaoLgAi9\n",
       "HhkPzCZZTt7U0tcmYmV2pnZgh8EDPPVCBBSYW0bs2FP+0jCBgH3+prjPBlmr00AAAAAcAZ5SdEK/\n",
       "AAAWKMAb4LpwAtGMM763UiLBwJ2lgAAAACYBnlRqQr8AABYmTfehu8gErx48tsx6NcgiFAmY5O8O\n",
       "XSnA+zNvMQAAAGlBmllJqEFsmUwIf//+qZYAAA1XF9RQQKR2VEAMyIO06iT3/rOgHLYagJ1OBVl8\n",
       "pLWz/LWFSvgf2Qe8z8HAUuBNKN5iaz8HUwZBIgoODsQg9j6za1uUNldSKw5QFWbHDBkliXFq1Lhk\n",
       "QVAAAABKQZ53RRUsM/8ASVotnF0PRLWIAVTItY62LamqELvaHYzGV2Gxx9XmceVGvuhnFpYcjNjh\n",
       "TJasYdzHrsB61nQSl68kCZy307b6BYEAAAARAZ6WdEK/AAAVlM7CEGroq8sAAAAcAZ6YakK/AAAU\n",
       "iN6QAjMdtFyEnqrppfSNVIebMAAAAGpBmp1JqEFsmUwIf//+qZYAAA0ArXwDQBglls9lWKhpKfrS\n",
       "rphKdxZNW48y2T86OH6HGc+4qo+q5joF9f8FPo3WOH6RaUaULCtD9MhjHdskeE9qoImtmbZFJki5\n",
       "BtKzATzWcCnt02MQOU6xAAAASkGeu0UVLDP/AElaLZxbFn4gCj6Xm7i8XU4+P1ztJa8SOzf4L1Z1\n",
       "X4eaiV4jd4HgRxiQvvwOkimlLvmmfNRr/jVFwY5f64fS0+DAAAAAGwGe2nRCvwAAFIiA4AW8Nz46\n",
       "yfg46tXjoNqePwAAAA0BntxqQr8AABUGn5rhAAAAVEGawUmoQWyZTAh///6plgAADKL+qRvTlgCN\n",
       "5L7ABy9kt7WpEnOBDmIs5tq7K5R8QBBxnflUWLqqqjwOQzv950qvSZLUZl1M1ZfHHpRItEm1J8rP\n",
       "gAAAACNBnv9FFSwz/wBJWi2cWJK9oAH89M/xYYd/qDoY6P0PLZyCQAAAABgBnx50Qr8AABSHhIAW\n",
       "4iLbBy4K7jCCebMAAAAOAZ8AakK/AAAULgOQw3wAAABHQZsFSahBbJlMCH///qmWAAAMot5aY4wB\n",
       "HiIm6UeEiEe3a5ZsfFYZVuZpxdlNxykjiRonyLLPWU4eZC4lELkBaawV5kxpZ8EAAAAXQZ8jRRUs\n",
       "M/8ASVotnDWDj4UkO2J/UNAAAAATAZ9CdEK/AAAUfJYGdYPJGNqw4QAAAA8Bn0RqQr8AAAyTpfJ6\n",
       "MnkAAABIQZtJSahBbJlMCH///qmWAAAMosxNrWwBdwqt8tq8lYKwfPq64Ye8ezyOawjtCXj8Vte/\n",
       "3utQiDW+oUhcxUniC4XUnK8LW5Z9AAAAIUGfZ0UVLDP/AElaLZxYj358WKSk74ADf8W9VZs/0aW4\n",
       "xQAAABABn4Z0Qr8AAAyP9dRCY4eAAAAAEgGfiGpCvwAADJOqdGx4bNWvwAAAAF9Bm41JqEFsmUwI\n",
       "f//+qZYAAAykzbQBQD8132QMcmIclRRzbPx5KpN1CoCZ1/huveDKZtsUhnBxohbcGsC1iHXi3kpe\n",
       "aHfNnlOrvSYEHCTOj+p3NVhmR5OG+M1PyHurPwAAABdBn6tFFSwz/wBJWi2cNg8AVULnA8MCgAAA\n",
       "AA8Bn8p0Qr8AAAyP9dR9DfAAAAAPAZ/MakK/AAAMk6XyejJ5AAAAREGb0UmoQWyZTAh///6plgAA\n",
       "DKTNtAFANXZaBduO0S9NfRNzY4qewkU5+SmHvKwGzMMxIsJKeuSfwJSHFm9I8iva1LPhAAAAFkGf\n",
       "70UVLDP/AElaLZw2DwBVQudHqOkAAAAPAZ4OdEK/AAAMj/XUfQ3wAAAADwGeEGpCvwAADJOl8noy\n",
       "eAAAAEVBmhVJqEFsmUwIf//+qZYAAAykzbQBqR0IdRed5DU/iDeAf2sj/20oIqTzspvvoKp1SiUf\n",
       "8EjSAyttM9DLVU3nbKo4hYEAAAAXQZ4zRRUsM/8ASVotnDYPAFUve1nDtPAAAAAPAZ5SdEK/AAAM\n",
       "j/XUfQ3wAAAADwGeVGpCvwAADJOl8noyeQAAAD5BmllJqEFsmUwIf//+qZYAAAykzbQBuEPlgqh6\n",
       "Ycs/cngIhqDHgxhtGNtARJkm/1yyuoks2SpFNOZIQuUQsAAAABZBnndFFSwz/wBJWi2cNg8AVULn\n",
       "R6jpAAAADwGelnRCvwAADI/11H0N8QAAAA8BnphqQr8AAAyTpfJ6MngAAAAhQZqdSahBbJlMCH//\n",
       "/qmWAAAYCXvgByiQeS7xLs135/5hAAAAFkGeu0UVLDP/AElaLZw2DwBVQudHqOgAAAAPAZ7adEK/\n",
       "AAAMj/XUfQ3xAAAADwGe3GpCvwAADJOl8noyeQAAAClBmsFJqEFsmUwIf//+qZYAAAykzbQBQbpr\n",
       "9I7JugtOvq57NkxNoxxCwAAAABZBnv9FFSwz/wBJWi2cNg8AVULnR6joAAAADwGfHnRCvwAADI/1\n",
       "1H0N8QAAAA8BnwBqQr8AAAyTpfJ6MngAAAAeQZsFSahBbJlMCH///qmWAAAG8nkugBywvhCHZ4zB\n",
       "AAAAFkGfI0UVLDP/AElaLZw2DwBVQudHqOgAAAAPAZ9CdEK/AAAMj/XUfQ3xAAAADwGfRGpCvwAA\n",
       "DJOl8noyeQAAADdBm0lJqEFsmUwIf//+qZYAAAyk01QA6Uqpjt4oH0k419IOWwJuxCHzhiEKf0de\n",
       "mVPuazCzlqIXAAAAFkGfZ0UVLDP/AElaLZw2DwBVQudHqOkAAAAPAZ+GdEK/AAAMj/XUfQ3wAAAA\n",
       "DwGfiGpCvwAADJOl8noyeAAAABVBm41JqEFsmUwIf//+qZYAAAMAUMEAAAAWQZ+rRRUsM/8ASVot\n",
       "nDYPAFVC50eo6AAAAA8Bn8p0Qr8AAAyP9dR9DfAAAAAPAZ/MakK/AAAMk6XyejJ5AAAAHkGb0Umo\n",
       "QWyZTAh3//6plgAABvJmDQA5nFP4fDyPjwAAABZBn+9FFSwz/wBJWi2cNg8AVULnR6jpAAAADwGe\n",
       "DnRCvwAADI/11H0N8AAAAA8BnhBqQr8AAAyTpfJ6MngAAAAlQZoVSahBbJlMCHf//qmWAAAG8eWe\n",
       "gBdgjXreIO5bIrg04QQgiwAAABZBnjNFFSwz/wBJWi2cNg8AVULnR6joAAAADwGeUnRCvwAADI/1\n",
       "1H0N8AAAAA8BnlRqQr8AAAyTpfJ6MnkAAAAVQZpZSahBbJlMCG///qeEAAADAKCAAAAAFkGed0UV\n",
       "LDP/AElaLZw2DwBVQudHqOkAAAAPAZ6WdEK/AAAMj/XUfQ3xAAAADwGemGpCvwAADJOl8noyeAAA\n",
       "ABNBmpxJqEFsmUwIV//+OEAAAAl5AAAAFkGeukUVLC//AGR0aHiC/sNjFZ06vUAAAAAPAZ7bakK/\n",
       "AAAMk6XyejJ5AAALw21vb3YAAABsbXZoZAAAAAAAAAAAAAAAAAAAA+gAACTqAAEAAAEAAAAAAAAA\n",
       "AAAAAAABAAAAAAAAAAAAAAAAAAAAAQAAAAAAAAAAAAAAAAAAQAAAAAAAAAAAAAAAAAAAAAAAAAAA\n",
       "AAAAAAAAAAAAAAIAAArtdHJhawAAAFx0a2hkAAAAAwAAAAAAAAAAAAAAAQAAAAAAACTqAAAAAAAA\n",
       "AAAAAAAAAAAAAAABAAAAAAAAAAAAAAAAAAAAAQAAAAAAAAAAAAAAAAAAQAAAAAFoAAABaAAAAAAA\n",
       "JGVkdHMAAAAcZWxzdAAAAAAAAAABAAAk6gAABAAAAQAAAAAKZW1kaWEAAAAgbWRoZAAAAAAAAAAA\n",
       "AAAAAAAAKAAAAXoAVcQAAAAAAC1oZGxyAAAAAAAAAAB2aWRlAAAAAAAAAAAAAAAAVmlkZW9IYW5k\n",
       "bGVyAAAAChBtaW5mAAAAFHZtaGQAAAABAAAAAAAAAAAAAAAkZGluZgAAABxkcmVmAAAAAAAAAAEA\n",
       "AAAMdXJsIAAAAAEAAAnQc3RibAAAALRzdHNkAAAAAAAAAAEAAACkYXZjMQAAAAAAAAABAAAAAAAA\n",
       "AAAAAAAAAAAAAAFoAWgASAAAAEgAAAAAAAAAAQAAAAAAAAAAAAAAAAAAAAAAAAAAAAAAAAAAAAAA\n",
       "AAAAABj//wAAADJhdmNDAWQAFf/hABlnZAAVrNlBcL+WWEAAAAMAQAAACgPFi2WAAQAGaOvjyyLA\n",
       "AAAAHHV1aWRraEDyXyRPxbo5pRvPAyPzAAAAAAAAABhzdHRzAAAAAAAAAAEAAAC9AAACAAAAABRz\n",
       "dHNzAAAAAAAAAAEAAAABAAAFsGN0dHMAAAAAAAAAtAAAAAEAAAQAAAAAAQAACgAAAAABAAAEAAAA\n",
       "AAEAAAAAAAAAAQAAAgAAAAABAAAGAAAAAAEAAAIAAAAAAQAACgAAAAABAAAEAAAAAAEAAAAAAAAA\n",
       "AQAAAgAAAAABAAAKAAAAAAEAAAQAAAAAAQAAAAAAAAABAAACAAAAAAEAAAYAAAAAAQAAAgAAAAAB\n",
       "AAAEAAAAAAEAAAoAAAAAAQAABAAAAAABAAAAAAAAAAEAAAIAAAAAAQAABgAAAAABAAACAAAAAAEA\n",
       "AAoAAAAAAQAABAAAAAABAAAAAAAAAAEAAAIAAAAAAQAABAAAAAABAAAKAAAAAAEAAAQAAAAAAQAA\n",
       "AAAAAAABAAACAAAAAAEAAAoAAAAAAQAABAAAAAABAAAAAAAAAAEAAAIAAAAAAQAACgAAAAABAAAE\n",
       "AAAAAAEAAAAAAAAAAQAAAgAAAAABAAAKAAAAAAEAAAQAAAAAAQAAAAAAAAABAAACAAAAAAMAAAQA\n",
       "AAAAAQAACAAAAAACAAACAAAAAAEAAAoAAAAAAQAABAAAAAABAAAAAAAAAAEAAAIAAAAAAQAACgAA\n",
       "AAABAAAEAAAAAAEAAAAAAAAAAQAAAgAAAAABAAAIAAAAAAIAAAIAAAAAAQAACgAAAAABAAAEAAAA\n",
       "AAEAAAAAAAAAAQAAAgAAAAABAAAKAAAAAAEAAAQAAAAAAQAAAAAAAAABAAACAAAAAAEAAAoAAAAA\n",
       "AQAABAAAAAABAAAAAAAAAAEAAAIAAAAAAQAACAAAAAACAAACAAAAAAEAAAgAAAAAAgAAAgAAAAAB\n",
       "AAAKAAAAAAEAAAQAAAAAAQAAAAAAAAABAAACAAAAAAEAAAQAAAAAAQAACgAAAAABAAAEAAAAAAEA\n",
       "AAAAAAAAAQAAAgAAAAABAAAGAAAAAAEAAAIAAAAAAQAACgAAAAABAAAEAAAAAAEAAAAAAAAAAQAA\n",
       "AgAAAAABAAAKAAAAAAEAAAQAAAAAAQAAAAAAAAABAAACAAAAAAEAAAoAAAAAAQAABAAAAAABAAAA\n",
       "AAAAAAEAAAIAAAAAAQAACAAAAAACAAACAAAAAAEAAAQAAAAAAQAACAAAAAACAAACAAAAAAEAAAoA\n",
       "AAAAAQAABAAAAAABAAAAAAAAAAEAAAIAAAAAAQAACgAAAAABAAAEAAAAAAEAAAAAAAAAAQAAAgAA\n",
       "AAABAAAKAAAAAAEAAAQAAAAAAQAAAAAAAAABAAACAAAAAAEAAAoAAAAAAQAABAAAAAABAAAAAAAA\n",
       "AAEAAAIAAAAAAQAACgAAAAABAAAEAAAAAAEAAAAAAAAAAQAAAgAAAAABAAAKAAAAAAEAAAQAAAAA\n",
       "AQAAAAAAAAABAAACAAAAAAEAAAoAAAAAAQAABAAAAAABAAAAAAAAAAEAAAIAAAAAAQAACgAAAAAB\n",
       "AAAEAAAAAAEAAAAAAAAAAQAAAgAAAAABAAAKAAAAAAEAAAQAAAAAAQAAAAAAAAABAAACAAAAAAEA\n",
       "AAoAAAAAAQAABAAAAAABAAAAAAAAAAEAAAIAAAAAAQAACgAAAAABAAAEAAAAAAEAAAAAAAAAAQAA\n",
       "AgAAAAABAAAKAAAAAAEAAAQAAAAAAQAAAAAAAAABAAACAAAAAAEAAAoAAAAAAQAABAAAAAABAAAA\n",
       "AAAAAAEAAAIAAAAAAQAACgAAAAABAAAEAAAAAAEAAAAAAAAAAQAAAgAAAAABAAAKAAAAAAEAAAQA\n",
       "AAAAAQAAAAAAAAABAAACAAAAAAEAAAoAAAAAAQAABAAAAAABAAAAAAAAAAEAAAIAAAAAAQAACgAA\n",
       "AAABAAAEAAAAAAEAAAAAAAAAAQAAAgAAAAABAAAKAAAAAAEAAAQAAAAAAQAAAAAAAAABAAACAAAA\n",
       "AAEAAAoAAAAAAQAABAAAAAABAAAAAAAAAAEAAAIAAAAAAQAACAAAAAACAAACAAAAABxzdHNjAAAA\n",
       "AAAAAAEAAAABAAAAvQAAAAEAAAMIc3RzegAAAAAAAAAAAAAAvQAAHywAAAP9AAACLgAAAOYAAABE\n",
       "AAACWgAAAEgAAAFfAAAAiAAAADwAAABAAAABMgAAAF4AAAAjAAAALAAAAI8AAAAnAAAAcAAAANAA\n",
       "AAB7AAAAPwAAAC0AAAC4AAAALgAAAVMAAABVAAAAJAAAACoAAADKAAAA/wAAAFcAAAA0AAAAKgAA\n",
       "AMwAAABqAAAALwAAAC4AAADXAAAAYgAAADUAAAAmAAAAywAAAFEAAAAmAAAAKwAAAGUAAACFAAAA\n",
       "eQAAALkAAABFAAAALQAAAFkAAABBAAAAKgAAACgAAACMAAAATgAAACQAAAAmAAAASwAAAEAAAAAf\n",
       "AAAAigAAAFQAAAAvAAAAKQAAAKQAAABcAAAAKQAAACoAAABfAAAATAAAAB0AAAAhAAAAawAAADQA\n",
       "AAAiAAAAiAAAADMAAAA2AAAAdgAAAFEAAAAlAAAAHQAAAFgAAABVAAAARgAAACUAAAAdAAAAaQAA\n",
       "ADUAAACKAAAARQAAABoAAAApAAAAYAAAAE0AAAAoAAAAKAAAAHIAAABLAAAALgAAACIAAABQAAAA\n",
       "PwAAACUAAABQAAAAagAAADcAAAAhAAAAeQAAAEEAAAAaAAAAJAAAAFgAAABHAAAAIAAAACoAAABt\n",
       "AAAATgAAABUAAAAgAAAAbgAAAE4AAAAfAAAAEQAAAFgAAAAnAAAAHAAAABIAAABLAAAAGwAAABcA\n",
       "AAATAAAATAAAACUAAAAUAAAAFgAAAGMAAAAbAAAAEwAAABMAAABIAAAAGgAAABMAAAATAAAASQAA\n",
       "ABsAAAATAAAAEwAAAEIAAAAaAAAAEwAAABMAAAAlAAAAGgAAABMAAAATAAAALQAAABoAAAATAAAA\n",
       "EwAAACIAAAAaAAAAEwAAABMAAAA7AAAAGgAAABMAAAATAAAAGQAAABoAAAATAAAAEwAAACIAAAAa\n",
       "AAAAEwAAABMAAAApAAAAGgAAABMAAAATAAAAGQAAABoAAAATAAAAEwAAABcAAAAaAAAAEwAAABRz\n",
       "dGNvAAAAAAAAAAEAAAAsAAAAYnVkdGEAAABabWV0YQAAAAAAAAAhaGRscgAAAAAAAAAAbWRpcmFw\n",
       "cGwAAAAAAAAAAAAAAAAtaWxzdAAAACWpdG9vAAAAHWRhdGEAAAABAAAAAExhdmY1Ny44My4xMDA=\n",
       "\">\n",
       "  Your browser does not support the video tag.\n",
       "</video>"
      ],
      "text/plain": [
       "<IPython.core.display.HTML object>"
      ]
     },
     "execution_count": 245,
     "metadata": {},
     "output_type": "execute_result"
    }
   ],
   "source": [
    "HTML(anim.to_html5_video())"
   ]
  },
  {
   "cell_type": "code",
   "execution_count": 34,
   "metadata": {},
   "outputs": [],
   "source": [
    "# Old stuff"
   ]
  },
  {
   "cell_type": "code",
   "execution_count": null,
   "metadata": {},
   "outputs": [],
   "source": []
  }
 ],
 "metadata": {
  "kernelspec": {
   "display_name": "Python 3",
   "language": "python",
   "name": "python3"
  },
  "language_info": {
   "codemirror_mode": {
    "name": "ipython",
    "version": 3
   },
   "file_extension": ".py",
   "mimetype": "text/x-python",
   "name": "python",
   "nbconvert_exporter": "python",
   "pygments_lexer": "ipython3",
   "version": "3.8.1"
  },
  "pycharm": {
   "stem_cell": {
    "cell_type": "raw",
    "metadata": {
     "collapsed": false
    },
    "source": []
   }
  }
 },
 "nbformat": 4,
 "nbformat_minor": 4
}
